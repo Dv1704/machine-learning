{
 "cells": [
  {
   "cell_type": "code",
   "execution_count": 1,
   "id": "2996b181",
   "metadata": {},
   "outputs": [],
   "source": [
    "import pandas as pd\n",
    "df=pd.read_csv(r\"C:\\Users\\OWNER\\Desktop\\VICTOR\\python\\py-master\\ML\\18_PCA\\Exercise\\heart.csv\")\n",
    "cholesterol_max=df[\"Cholesterol\"].mean()+3*df[\"Cholesterol\"].std()\n",
    "cholesterol_min=df[\"Cholesterol\"].mean()-3*df[\"Cholesterol\"].std()\n",
    "cholesterol_treated=df[(df[\"Cholesterol\"]<cholesterol_max)&(df[\"Cholesterol\"]>cholesterol_min)]\n",
    "max_hr_max=cholesterol_treated[\"MaxHR\"].mean()+3*cholesterol_treated[\"MaxHR\"].std()\n",
    "max_hr_min=cholesterol_treated[\"MaxHR\"].mean()-3*cholesterol_treated[\"MaxHR\"].std()\n",
    "max_hr_treated=cholesterol_treated[(cholesterol_treated[\"MaxHR\"]<max_hr_max)&(cholesterol_treated[\"MaxHR\"]>max_hr_min)]\n",
    "Oldpeak_max=max_hr_treated[\"Oldpeak\"].mean()+3*max_hr_treated[\"Oldpeak\"].std()\n",
    "Oldpeak_min=max_hr_treated[\"Oldpeak\"].mean()-3*max_hr_treated[\"Oldpeak\"].std()\n",
    "old_peak_treated=max_hr_treated[(max_hr_treated[\"Oldpeak\"]<Oldpeak_max)&(max_hr_treated[\"Oldpeak\"]>Oldpeak_min)]\n",
    "RestingBP_max=old_peak_treated[\"RestingBP\"].mean()+3*old_peak_treated[\"RestingBP\"].std()\n",
    "RestingBP_min=old_peak_treated[\"RestingBP\"].mean()-3*old_peak_treated[\"RestingBP\"].std()\n",
    "RestingBP_treated=old_peak_treated[(old_peak_treated[\"RestingBP\"]<RestingBP_max)&(old_peak_treated[\"RestingBP\"]>RestingBP_min)]\n"
   ]
  },
  {
   "cell_type": "code",
   "execution_count": 2,
   "id": "ae60dc90",
   "metadata": {},
   "outputs": [],
   "source": [
    "df1=pd.get_dummies(RestingBP_treated,drop_first=True)\n",
    "x=df1.drop(\"HeartDisease\",axis=\"columns\")\n",
    "y=df1.HeartDisease\n",
    "from sklearn.preprocessing import StandardScaler\n",
    "scaler=StandardScaler()\n",
    "x_scaled=scaler.fit_transform(x)"
   ]
  },
  {
   "cell_type": "code",
   "execution_count": 3,
   "id": "cddc0b31",
   "metadata": {},
   "outputs": [],
   "source": [
    "from sklearn.model_selection import train_test_split\n",
    "\n",
    "X_train, X_test, y_train, y_test = train_test_split(x_scaled, y, stratify=y, random_state=10)"
   ]
  },
  {
   "cell_type": "code",
   "execution_count": 4,
   "id": "700580db",
   "metadata": {},
   "outputs": [
    {
     "data": {
      "text/plain": [
       "0.8546268656716418"
      ]
     },
     "execution_count": 4,
     "metadata": {},
     "output_type": "execute_result"
    }
   ],
   "source": [
    "from sklearn.model_selection import cross_val_score\n",
    "from sklearn.svm import SVC\n",
    "\n",
    "scores = cross_val_score(SVC(), X_train, y_train, cv=5)\n",
    "scores.mean()"
   ]
  },
  {
   "cell_type": "code",
   "execution_count": 6,
   "id": "7160aee4",
   "metadata": {},
   "outputs": [
    {
     "name": "stderr",
     "output_type": "stream",
     "text": [
      "C:\\Users\\OWNER\\anaconda3\\lib\\site-packages\\sklearn\\ensemble\\_base.py:156: FutureWarning: `base_estimator` was renamed to `estimator` in version 1.2 and will be removed in 1.4.\n",
      "  warnings.warn(\n"
     ]
    },
    {
     "data": {
      "text/plain": [
       "0.8620178041543026"
      ]
     },
     "execution_count": 6,
     "metadata": {},
     "output_type": "execute_result"
    }
   ],
   "source": [
    "from sklearn.ensemble import BaggingClassifier\n",
    "\n",
    "bag_model = BaggingClassifier(\n",
    "    base_estimator=SVC(), \n",
    "    n_estimators=100, \n",
    "    max_samples=0.8, \n",
    "    oob_score=True,\n",
    "    random_state=0\n",
    ")\n",
    "bag_model.fit(X_train, y_train)\n",
    "bag_model.oob_score_"
   ]
  },
  {
   "cell_type": "code",
   "execution_count": 7,
   "id": "5e313c4e",
   "metadata": {},
   "outputs": [
    {
     "data": {
      "text/plain": [
       "0.7462354892205639"
      ]
     },
     "execution_count": 7,
     "metadata": {},
     "output_type": "execute_result"
    }
   ],
   "source": [
    "from sklearn.model_selection import cross_val_score\n",
    "from sklearn.tree import DecisionTreeClassifier\n",
    "\n",
    "scores = cross_val_score(DecisionTreeClassifier(), X_train, y_train, cv=5)\n",
    "scores.mean()"
   ]
  },
  {
   "cell_type": "code",
   "execution_count": 8,
   "id": "9a515aab",
   "metadata": {},
   "outputs": [
    {
     "name": "stderr",
     "output_type": "stream",
     "text": [
      "C:\\Users\\OWNER\\anaconda3\\lib\\site-packages\\sklearn\\ensemble\\_base.py:156: FutureWarning: `base_estimator` was renamed to `estimator` in version 1.2 and will be removed in 1.4.\n",
      "  warnings.warn(\n"
     ]
    },
    {
     "data": {
      "text/plain": [
       "0.8501483679525222"
      ]
     },
     "execution_count": 8,
     "metadata": {},
     "output_type": "execute_result"
    }
   ],
   "source": [
    "bag_model = BaggingClassifier(\n",
    "    base_estimator=DecisionTreeClassifier(), \n",
    "    n_estimators=100, \n",
    "    max_samples=0.8, \n",
    "    oob_score=True,\n",
    "    random_state=0\n",
    ")\n",
    "bag_model.fit(X_train, y_train)\n",
    "bag_model.oob_score_"
   ]
  },
  {
   "cell_type": "code",
   "execution_count": null,
   "id": "e876b2eb",
   "metadata": {},
   "outputs": [],
   "source": []
  }
 ],
 "metadata": {
  "kernelspec": {
   "display_name": "Python 3 (ipykernel)",
   "language": "python",
   "name": "python3"
  },
  "language_info": {
   "codemirror_mode": {
    "name": "ipython",
    "version": 3
   },
   "file_extension": ".py",
   "mimetype": "text/x-python",
   "name": "python",
   "nbconvert_exporter": "python",
   "pygments_lexer": "ipython3",
   "version": "3.10.9"
  }
 },
 "nbformat": 4,
 "nbformat_minor": 5
}
