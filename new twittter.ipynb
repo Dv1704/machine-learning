{
 "cells": [
  {
   "cell_type": "code",
   "execution_count": 17,
   "id": "cee992b6",
   "metadata": {},
   "outputs": [],
   "source": [
    "from selenium import webdriver\n",
    "from selenium.webdriver.chrome.service import Service\n",
    "from selenium.webdriver.common.by import By\n",
    "import time\n",
    "from selenium.webdriver.common.keys import Keys\n"
   ]
  },
  {
   "cell_type": "code",
   "execution_count": 18,
   "id": "f2aace99",
   "metadata": {},
   "outputs": [],
   "source": [
    "s = Service(\"C:/Users/OWNER/Desktop/delenium/chromedriver.exe\")\n",
    "driver = webdriver.Chrome(service=s)\n",
    "driver.get(\"https://twitter.com/home\")\n",
    "time.sleep(20)\n"
   ]
  },
  {
   "cell_type": "code",
   "execution_count": 19,
   "id": "20bb9306",
   "metadata": {},
   "outputs": [
    {
     "ename": "NoSuchElementException",
     "evalue": "Message: no such element: Unable to locate element: {\"method\":\"xpath\",\"selector\":\"//input[@name=\"text\"]\"}\n  (Session info: chrome=114.0.5735.199)\nStacktrace:\nBacktrace:\n\tGetHandleVerifier [0x0022A813+48355]\n\t(No symbol) [0x001BC4B1]\n\t(No symbol) [0x000C5358]\n\t(No symbol) [0x000F09A5]\n\t(No symbol) [0x000F0B3B]\n\t(No symbol) [0x0011E232]\n\t(No symbol) [0x0010A784]\n\t(No symbol) [0x0011C922]\n\t(No symbol) [0x0010A536]\n\t(No symbol) [0x000E82DC]\n\t(No symbol) [0x000E93DD]\n\tGetHandleVerifier [0x0048AABD+2539405]\n\tGetHandleVerifier [0x004CA78F+2800735]\n\tGetHandleVerifier [0x004C456C+2775612]\n\tGetHandleVerifier [0x002B51E0+616112]\n\t(No symbol) [0x001C5F8C]\n\t(No symbol) [0x001C2328]\n\t(No symbol) [0x001C240B]\n\t(No symbol) [0x001B4FF7]\n\tBaseThreadInitThunk [0x77407D59+25]\n\tRtlInitializeExceptionChain [0x7755B74B+107]\n\tRtlClearBits [0x7755B6CF+191]\n\t(No symbol) [0x00000000]\n",
     "output_type": "error",
     "traceback": [
      "\u001b[1;31m---------------------------------------------------------------------------\u001b[0m",
      "\u001b[1;31mNoSuchElementException\u001b[0m                    Traceback (most recent call last)",
      "Cell \u001b[1;32mIn[19], line 2\u001b[0m\n\u001b[0;32m      1\u001b[0m subject \u001b[38;5;241m=\u001b[39m \u001b[38;5;124m\"\u001b[39m\u001b[38;5;124mElon Musk\u001b[39m\u001b[38;5;124m\"\u001b[39m\n\u001b[1;32m----> 2\u001b[0m username \u001b[38;5;241m=\u001b[39m \u001b[43mdriver\u001b[49m\u001b[38;5;241;43m.\u001b[39;49m\u001b[43mfind_element\u001b[49m\u001b[43m(\u001b[49m\u001b[43mBy\u001b[49m\u001b[38;5;241;43m.\u001b[39;49m\u001b[43mXPATH\u001b[49m\u001b[43m,\u001b[49m\u001b[38;5;124;43m'\u001b[39;49m\u001b[38;5;124;43m//input[@name=\u001b[39;49m\u001b[38;5;124;43m\"\u001b[39;49m\u001b[38;5;124;43mtext\u001b[39;49m\u001b[38;5;124;43m\"\u001b[39;49m\u001b[38;5;124;43m]\u001b[39;49m\u001b[38;5;124;43m'\u001b[39;49m\u001b[43m)\u001b[49m\n\u001b[0;32m      3\u001b[0m username\u001b[38;5;241m.\u001b[39msend_keys(\u001b[38;5;124m\"\u001b[39m\u001b[38;5;124mvictorolanikanju@gmail.com\u001b[39m\u001b[38;5;124m\"\u001b[39m)\n\u001b[0;32m      4\u001b[0m time\u001b[38;5;241m.\u001b[39msleep(\u001b[38;5;241m10\u001b[39m)\n",
      "File \u001b[1;32m~\\anaconda3\\lib\\site-packages\\selenium\\webdriver\\remote\\webdriver.py:1153\u001b[0m, in \u001b[0;36mWebDriver.find_element\u001b[1;34m(self, by, value)\u001b[0m\n\u001b[0;32m   1150\u001b[0m     by \u001b[38;5;241m=\u001b[39m By\u001b[38;5;241m.\u001b[39mCSS_SELECTOR\n\u001b[0;32m   1151\u001b[0m     value \u001b[38;5;241m=\u001b[39m \u001b[38;5;124m'\u001b[39m\u001b[38;5;124m[name=\u001b[39m\u001b[38;5;124m\"\u001b[39m\u001b[38;5;132;01m%s\u001b[39;00m\u001b[38;5;124m\"\u001b[39m\u001b[38;5;124m]\u001b[39m\u001b[38;5;124m'\u001b[39m \u001b[38;5;241m%\u001b[39m value\n\u001b[1;32m-> 1153\u001b[0m \u001b[38;5;28;01mreturn\u001b[39;00m \u001b[38;5;28;43mself\u001b[39;49m\u001b[38;5;241;43m.\u001b[39;49m\u001b[43mexecute\u001b[49m\u001b[43m(\u001b[49m\u001b[43mCommand\u001b[49m\u001b[38;5;241;43m.\u001b[39;49m\u001b[43mFIND_ELEMENT\u001b[49m\u001b[43m,\u001b[49m\u001b[43m \u001b[49m\u001b[43m{\u001b[49m\n\u001b[0;32m   1154\u001b[0m \u001b[43m    \u001b[49m\u001b[38;5;124;43m'\u001b[39;49m\u001b[38;5;124;43musing\u001b[39;49m\u001b[38;5;124;43m'\u001b[39;49m\u001b[43m:\u001b[49m\u001b[43m \u001b[49m\u001b[43mby\u001b[49m\u001b[43m,\u001b[49m\n\u001b[0;32m   1155\u001b[0m \u001b[43m    \u001b[49m\u001b[38;5;124;43m'\u001b[39;49m\u001b[38;5;124;43mvalue\u001b[39;49m\u001b[38;5;124;43m'\u001b[39;49m\u001b[43m:\u001b[49m\u001b[43m \u001b[49m\u001b[43mvalue\u001b[49m\u001b[43m}\u001b[49m\u001b[43m)\u001b[49m[\u001b[38;5;124m'\u001b[39m\u001b[38;5;124mvalue\u001b[39m\u001b[38;5;124m'\u001b[39m]\n",
      "File \u001b[1;32m~\\anaconda3\\lib\\site-packages\\selenium\\webdriver\\remote\\webdriver.py:400\u001b[0m, in \u001b[0;36mWebDriver.execute\u001b[1;34m(self, driver_command, params)\u001b[0m\n\u001b[0;32m    398\u001b[0m response \u001b[38;5;241m=\u001b[39m \u001b[38;5;28mself\u001b[39m\u001b[38;5;241m.\u001b[39mcommand_executor\u001b[38;5;241m.\u001b[39mexecute(driver_command, params)\n\u001b[0;32m    399\u001b[0m \u001b[38;5;28;01mif\u001b[39;00m response:\n\u001b[1;32m--> 400\u001b[0m     \u001b[38;5;28;43mself\u001b[39;49m\u001b[38;5;241;43m.\u001b[39;49m\u001b[43merror_handler\u001b[49m\u001b[38;5;241;43m.\u001b[39;49m\u001b[43mcheck_response\u001b[49m\u001b[43m(\u001b[49m\u001b[43mresponse\u001b[49m\u001b[43m)\u001b[49m\n\u001b[0;32m    401\u001b[0m     response[\u001b[38;5;124m'\u001b[39m\u001b[38;5;124mvalue\u001b[39m\u001b[38;5;124m'\u001b[39m] \u001b[38;5;241m=\u001b[39m \u001b[38;5;28mself\u001b[39m\u001b[38;5;241m.\u001b[39m_unwrap_value(\n\u001b[0;32m    402\u001b[0m         response\u001b[38;5;241m.\u001b[39mget(\u001b[38;5;124m'\u001b[39m\u001b[38;5;124mvalue\u001b[39m\u001b[38;5;124m'\u001b[39m, \u001b[38;5;28;01mNone\u001b[39;00m))\n\u001b[0;32m    403\u001b[0m     \u001b[38;5;28;01mreturn\u001b[39;00m response\n",
      "File \u001b[1;32m~\\anaconda3\\lib\\site-packages\\selenium\\webdriver\\remote\\errorhandler.py:236\u001b[0m, in \u001b[0;36mErrorHandler.check_response\u001b[1;34m(self, response)\u001b[0m\n\u001b[0;32m    234\u001b[0m         alert_text \u001b[38;5;241m=\u001b[39m value[\u001b[38;5;124m'\u001b[39m\u001b[38;5;124malert\u001b[39m\u001b[38;5;124m'\u001b[39m]\u001b[38;5;241m.\u001b[39mget(\u001b[38;5;124m'\u001b[39m\u001b[38;5;124mtext\u001b[39m\u001b[38;5;124m'\u001b[39m)\n\u001b[0;32m    235\u001b[0m     \u001b[38;5;28;01mraise\u001b[39;00m exception_class(message, screen, stacktrace, alert_text)\n\u001b[1;32m--> 236\u001b[0m \u001b[38;5;28;01mraise\u001b[39;00m exception_class(message, screen, stacktrace)\n",
      "\u001b[1;31mNoSuchElementException\u001b[0m: Message: no such element: Unable to locate element: {\"method\":\"xpath\",\"selector\":\"//input[@name=\"text\"]\"}\n  (Session info: chrome=114.0.5735.199)\nStacktrace:\nBacktrace:\n\tGetHandleVerifier [0x0022A813+48355]\n\t(No symbol) [0x001BC4B1]\n\t(No symbol) [0x000C5358]\n\t(No symbol) [0x000F09A5]\n\t(No symbol) [0x000F0B3B]\n\t(No symbol) [0x0011E232]\n\t(No symbol) [0x0010A784]\n\t(No symbol) [0x0011C922]\n\t(No symbol) [0x0010A536]\n\t(No symbol) [0x000E82DC]\n\t(No symbol) [0x000E93DD]\n\tGetHandleVerifier [0x0048AABD+2539405]\n\tGetHandleVerifier [0x004CA78F+2800735]\n\tGetHandleVerifier [0x004C456C+2775612]\n\tGetHandleVerifier [0x002B51E0+616112]\n\t(No symbol) [0x001C5F8C]\n\t(No symbol) [0x001C2328]\n\t(No symbol) [0x001C240B]\n\t(No symbol) [0x001B4FF7]\n\tBaseThreadInitThunk [0x77407D59+25]\n\tRtlInitializeExceptionChain [0x7755B74B+107]\n\tRtlClearBits [0x7755B6CF+191]\n\t(No symbol) [0x00000000]\n"
     ]
    }
   ],
   "source": [
    "subject = \"Elon Musk\"\n",
    "username = driver.find_element(By.XPATH,'//input[@name=\"text\"]')\n",
    "username.send_keys(\"victorolanikanju@gmail.com\")\n",
    "time.sleep(10)\n",
    "username.send_keys(Keys.ENTER)\n",
    "time.sleep(10)\n"
   ]
  },
  {
   "cell_type": "code",
   "execution_count": null,
   "id": "8a6d519b",
   "metadata": {},
   "outputs": [],
   "source": [
    "password=driver.find_element(By.XPATH,'//input[@name=\"password\"]')\n",
    "time.sleep(5)\n",
    "password.send_keys(\"Olanikanju\")\n",
    "time.sleep(10)\n",
    "password.send_keys(Keys.ENTER)\n",
    "time.sleep(20)\n"
   ]
  },
  {
   "cell_type": "code",
   "execution_count": null,
   "id": "e8dabe33",
   "metadata": {},
   "outputs": [],
   "source": [
    "\n",
    "search_input = driver.find_element(By.XPATH,'//input[@aria-label=\"Search query\"]')\n",
    "time.sleep(10)\n",
    "search_input.send_keys(subject)\n",
    "time.sleep(10)\n",
    "search_input.send_keys(Keys.RETURN)\n",
    "time.sleep(5)\n",
    "#driver.find_element(By.LINK_TEXT,\"people\").click()\n",
    "#time.sleep(60)\n",
    "\n"
   ]
  },
  {
   "cell_type": "code",
   "execution_count": null,
   "id": "116c9e91",
   "metadata": {},
   "outputs": [],
   "source": [
    "\n",
    "time.sleep(3)\n",
    "people = driver.find_element(By.XPATH,\"//span[contains(text(),'People')]\")\n",
    "people.click()"
   ]
  },
  {
   "cell_type": "code",
   "execution_count": null,
   "id": "29967c70",
   "metadata": {},
   "outputs": [],
   "source": [
    "\n",
    "time.sleep(3)\n",
    "profile = driver.find_element(By.XPATH,\"/html/body/div[1]/div/div/div[2]/main/div/div/div/div/div/div[3]/section/div/div/div/div/div[1]/div/div/div/div/div[2]/div\")\n",
    "profile.click()"
   ]
  },
  {
   "cell_type": "code",
   "execution_count": null,
   "id": "5b921a8c",
   "metadata": {},
   "outputs": [],
   "source": []
  },
  {
   "cell_type": "code",
   "execution_count": null,
   "id": "0308fd30",
   "metadata": {},
   "outputs": [],
   "source": []
  }
 ],
 "metadata": {
  "kernelspec": {
   "display_name": "Python 3 (ipykernel)",
   "language": "python",
   "name": "python3"
  },
  "language_info": {
   "codemirror_mode": {
    "name": "ipython",
    "version": 3
   },
   "file_extension": ".py",
   "mimetype": "text/x-python",
   "name": "python",
   "nbconvert_exporter": "python",
   "pygments_lexer": "ipython3",
   "version": "3.10.9"
  }
 },
 "nbformat": 4,
 "nbformat_minor": 5
}
