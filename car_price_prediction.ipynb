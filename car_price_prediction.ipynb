{
 "cells": [
  {
   "cell_type": "code",
   "execution_count": 284,
   "id": "30016a7a",
   "metadata": {},
   "outputs": [],
   "source": [
    "import pandas as pd\n",
    "import matplotlib.pyplot as plt\n",
    "import seaborn as sns\n",
    "\n",
    "%matplotlib inline\n",
    "df=pd.read_csv(r\"C:\\Users\\OWNER\\Desktop\\VICTOR\\machine learning\\ml prj\\car_price_prediction.csv\")"
   ]
  },
  {
   "cell_type": "code",
   "execution_count": 285,
   "id": "2b38a2b5",
   "metadata": {},
   "outputs": [
    {
     "data": {
      "text/html": [
       "<div>\n",
       "<style scoped>\n",
       "    .dataframe tbody tr th:only-of-type {\n",
       "        vertical-align: middle;\n",
       "    }\n",
       "\n",
       "    .dataframe tbody tr th {\n",
       "        vertical-align: top;\n",
       "    }\n",
       "\n",
       "    .dataframe thead th {\n",
       "        text-align: right;\n",
       "    }\n",
       "</style>\n",
       "<table border=\"1\" class=\"dataframe\">\n",
       "  <thead>\n",
       "    <tr style=\"text-align: right;\">\n",
       "      <th></th>\n",
       "      <th>ID</th>\n",
       "      <th>Price</th>\n",
       "      <th>Levy</th>\n",
       "      <th>Manufacturer</th>\n",
       "      <th>Model</th>\n",
       "      <th>Prod. year</th>\n",
       "      <th>Category</th>\n",
       "      <th>Leather interior</th>\n",
       "      <th>Fuel type</th>\n",
       "      <th>Engine volume</th>\n",
       "      <th>Mileage</th>\n",
       "      <th>Cylinders</th>\n",
       "      <th>Gear box type</th>\n",
       "      <th>Drive wheels</th>\n",
       "      <th>Doors</th>\n",
       "      <th>Wheel</th>\n",
       "      <th>Color</th>\n",
       "      <th>Airbags</th>\n",
       "    </tr>\n",
       "  </thead>\n",
       "  <tbody>\n",
       "    <tr>\n",
       "      <th>0</th>\n",
       "      <td>45654403</td>\n",
       "      <td>13328</td>\n",
       "      <td>1399</td>\n",
       "      <td>LEXUS</td>\n",
       "      <td>RX 450</td>\n",
       "      <td>2010</td>\n",
       "      <td>Jeep</td>\n",
       "      <td>Yes</td>\n",
       "      <td>Hybrid</td>\n",
       "      <td>3.5</td>\n",
       "      <td>186005 km</td>\n",
       "      <td>6.0</td>\n",
       "      <td>Automatic</td>\n",
       "      <td>4x4</td>\n",
       "      <td>04-May</td>\n",
       "      <td>Left wheel</td>\n",
       "      <td>Silver</td>\n",
       "      <td>12</td>\n",
       "    </tr>\n",
       "    <tr>\n",
       "      <th>1</th>\n",
       "      <td>44731507</td>\n",
       "      <td>16621</td>\n",
       "      <td>1018</td>\n",
       "      <td>CHEVROLET</td>\n",
       "      <td>Equinox</td>\n",
       "      <td>2011</td>\n",
       "      <td>Jeep</td>\n",
       "      <td>No</td>\n",
       "      <td>Petrol</td>\n",
       "      <td>3</td>\n",
       "      <td>192000 km</td>\n",
       "      <td>6.0</td>\n",
       "      <td>Tiptronic</td>\n",
       "      <td>4x4</td>\n",
       "      <td>04-May</td>\n",
       "      <td>Left wheel</td>\n",
       "      <td>Black</td>\n",
       "      <td>8</td>\n",
       "    </tr>\n",
       "    <tr>\n",
       "      <th>2</th>\n",
       "      <td>45774419</td>\n",
       "      <td>8467</td>\n",
       "      <td>-</td>\n",
       "      <td>HONDA</td>\n",
       "      <td>FIT</td>\n",
       "      <td>2006</td>\n",
       "      <td>Hatchback</td>\n",
       "      <td>No</td>\n",
       "      <td>Petrol</td>\n",
       "      <td>1.3</td>\n",
       "      <td>200000 km</td>\n",
       "      <td>4.0</td>\n",
       "      <td>Variator</td>\n",
       "      <td>Front</td>\n",
       "      <td>04-May</td>\n",
       "      <td>Right-hand drive</td>\n",
       "      <td>Black</td>\n",
       "      <td>2</td>\n",
       "    </tr>\n",
       "    <tr>\n",
       "      <th>3</th>\n",
       "      <td>45769185</td>\n",
       "      <td>3607</td>\n",
       "      <td>862</td>\n",
       "      <td>FORD</td>\n",
       "      <td>Escape</td>\n",
       "      <td>2011</td>\n",
       "      <td>Jeep</td>\n",
       "      <td>Yes</td>\n",
       "      <td>Hybrid</td>\n",
       "      <td>2.5</td>\n",
       "      <td>168966 km</td>\n",
       "      <td>4.0</td>\n",
       "      <td>Automatic</td>\n",
       "      <td>4x4</td>\n",
       "      <td>04-May</td>\n",
       "      <td>Left wheel</td>\n",
       "      <td>White</td>\n",
       "      <td>0</td>\n",
       "    </tr>\n",
       "    <tr>\n",
       "      <th>4</th>\n",
       "      <td>45809263</td>\n",
       "      <td>11726</td>\n",
       "      <td>446</td>\n",
       "      <td>HONDA</td>\n",
       "      <td>FIT</td>\n",
       "      <td>2014</td>\n",
       "      <td>Hatchback</td>\n",
       "      <td>Yes</td>\n",
       "      <td>Petrol</td>\n",
       "      <td>1.3</td>\n",
       "      <td>91901 km</td>\n",
       "      <td>4.0</td>\n",
       "      <td>Automatic</td>\n",
       "      <td>Front</td>\n",
       "      <td>04-May</td>\n",
       "      <td>Left wheel</td>\n",
       "      <td>Silver</td>\n",
       "      <td>4</td>\n",
       "    </tr>\n",
       "  </tbody>\n",
       "</table>\n",
       "</div>"
      ],
      "text/plain": [
       "         ID  Price  Levy Manufacturer    Model  Prod. year   Category  \\\n",
       "0  45654403  13328  1399        LEXUS   RX 450        2010       Jeep   \n",
       "1  44731507  16621  1018    CHEVROLET  Equinox        2011       Jeep   \n",
       "2  45774419   8467     -        HONDA      FIT        2006  Hatchback   \n",
       "3  45769185   3607   862         FORD   Escape        2011       Jeep   \n",
       "4  45809263  11726   446        HONDA      FIT        2014  Hatchback   \n",
       "\n",
       "  Leather interior Fuel type Engine volume    Mileage  Cylinders  \\\n",
       "0              Yes    Hybrid           3.5  186005 km        6.0   \n",
       "1               No    Petrol             3  192000 km        6.0   \n",
       "2               No    Petrol           1.3  200000 km        4.0   \n",
       "3              Yes    Hybrid           2.5  168966 km        4.0   \n",
       "4              Yes    Petrol           1.3   91901 km        4.0   \n",
       "\n",
       "  Gear box type Drive wheels   Doors             Wheel   Color  Airbags  \n",
       "0     Automatic          4x4  04-May        Left wheel  Silver       12  \n",
       "1     Tiptronic          4x4  04-May        Left wheel   Black        8  \n",
       "2      Variator        Front  04-May  Right-hand drive   Black        2  \n",
       "3     Automatic          4x4  04-May        Left wheel   White        0  \n",
       "4     Automatic        Front  04-May        Left wheel  Silver        4  "
      ]
     },
     "execution_count": 285,
     "metadata": {},
     "output_type": "execute_result"
    }
   ],
   "source": [
    "df.head()"
   ]
  },
  {
   "cell_type": "code",
   "execution_count": 286,
   "id": "ea1435e8",
   "metadata": {},
   "outputs": [
    {
     "data": {
      "text/html": [
       "<div>\n",
       "<style scoped>\n",
       "    .dataframe tbody tr th:only-of-type {\n",
       "        vertical-align: middle;\n",
       "    }\n",
       "\n",
       "    .dataframe tbody tr th {\n",
       "        vertical-align: top;\n",
       "    }\n",
       "\n",
       "    .dataframe thead th {\n",
       "        text-align: right;\n",
       "    }\n",
       "</style>\n",
       "<table border=\"1\" class=\"dataframe\">\n",
       "  <thead>\n",
       "    <tr style=\"text-align: right;\">\n",
       "      <th></th>\n",
       "      <th>ID</th>\n",
       "      <th>Price</th>\n",
       "      <th>Prod. year</th>\n",
       "      <th>Cylinders</th>\n",
       "      <th>Airbags</th>\n",
       "    </tr>\n",
       "  </thead>\n",
       "  <tbody>\n",
       "    <tr>\n",
       "      <th>count</th>\n",
       "      <td>1.923700e+04</td>\n",
       "      <td>1.923700e+04</td>\n",
       "      <td>19237.000000</td>\n",
       "      <td>19237.000000</td>\n",
       "      <td>19237.000000</td>\n",
       "    </tr>\n",
       "    <tr>\n",
       "      <th>mean</th>\n",
       "      <td>4.557654e+07</td>\n",
       "      <td>1.855593e+04</td>\n",
       "      <td>2010.912824</td>\n",
       "      <td>4.582991</td>\n",
       "      <td>6.582627</td>\n",
       "    </tr>\n",
       "    <tr>\n",
       "      <th>std</th>\n",
       "      <td>9.365914e+05</td>\n",
       "      <td>1.905813e+05</td>\n",
       "      <td>5.668673</td>\n",
       "      <td>1.199933</td>\n",
       "      <td>4.320168</td>\n",
       "    </tr>\n",
       "    <tr>\n",
       "      <th>min</th>\n",
       "      <td>2.074688e+07</td>\n",
       "      <td>1.000000e+00</td>\n",
       "      <td>1939.000000</td>\n",
       "      <td>1.000000</td>\n",
       "      <td>0.000000</td>\n",
       "    </tr>\n",
       "    <tr>\n",
       "      <th>25%</th>\n",
       "      <td>4.569837e+07</td>\n",
       "      <td>5.331000e+03</td>\n",
       "      <td>2009.000000</td>\n",
       "      <td>4.000000</td>\n",
       "      <td>4.000000</td>\n",
       "    </tr>\n",
       "    <tr>\n",
       "      <th>50%</th>\n",
       "      <td>4.577231e+07</td>\n",
       "      <td>1.317200e+04</td>\n",
       "      <td>2012.000000</td>\n",
       "      <td>4.000000</td>\n",
       "      <td>6.000000</td>\n",
       "    </tr>\n",
       "    <tr>\n",
       "      <th>75%</th>\n",
       "      <td>4.580204e+07</td>\n",
       "      <td>2.207500e+04</td>\n",
       "      <td>2015.000000</td>\n",
       "      <td>4.000000</td>\n",
       "      <td>12.000000</td>\n",
       "    </tr>\n",
       "    <tr>\n",
       "      <th>max</th>\n",
       "      <td>4.581665e+07</td>\n",
       "      <td>2.630750e+07</td>\n",
       "      <td>2020.000000</td>\n",
       "      <td>16.000000</td>\n",
       "      <td>16.000000</td>\n",
       "    </tr>\n",
       "  </tbody>\n",
       "</table>\n",
       "</div>"
      ],
      "text/plain": [
       "                 ID         Price    Prod. year     Cylinders       Airbags\n",
       "count  1.923700e+04  1.923700e+04  19237.000000  19237.000000  19237.000000\n",
       "mean   4.557654e+07  1.855593e+04   2010.912824      4.582991      6.582627\n",
       "std    9.365914e+05  1.905813e+05      5.668673      1.199933      4.320168\n",
       "min    2.074688e+07  1.000000e+00   1939.000000      1.000000      0.000000\n",
       "25%    4.569837e+07  5.331000e+03   2009.000000      4.000000      4.000000\n",
       "50%    4.577231e+07  1.317200e+04   2012.000000      4.000000      6.000000\n",
       "75%    4.580204e+07  2.207500e+04   2015.000000      4.000000     12.000000\n",
       "max    4.581665e+07  2.630750e+07   2020.000000     16.000000     16.000000"
      ]
     },
     "execution_count": 286,
     "metadata": {},
     "output_type": "execute_result"
    }
   ],
   "source": [
    "df.describe()"
   ]
  },
  {
   "cell_type": "code",
   "execution_count": 287,
   "id": "20a8f875",
   "metadata": {},
   "outputs": [
    {
     "data": {
      "text/plain": [
       "ID                  0\n",
       "Price               0\n",
       "Levy                0\n",
       "Manufacturer        0\n",
       "Model               0\n",
       "Prod. year          0\n",
       "Category            0\n",
       "Leather interior    0\n",
       "Fuel type           0\n",
       "Engine volume       0\n",
       "Mileage             0\n",
       "Cylinders           0\n",
       "Gear box type       0\n",
       "Drive wheels        0\n",
       "Doors               0\n",
       "Wheel               0\n",
       "Color               0\n",
       "Airbags             0\n",
       "dtype: int64"
      ]
     },
     "execution_count": 287,
     "metadata": {},
     "output_type": "execute_result"
    }
   ],
   "source": [
    "df.isnull().sum()\n",
    "#checking for null "
   ]
  },
  {
   "cell_type": "code",
   "execution_count": 288,
   "id": "e88b9be6",
   "metadata": {},
   "outputs": [
    {
     "data": {
      "text/plain": [
       "ID                  0\n",
       "Price               0\n",
       "Levy                0\n",
       "Manufacturer        0\n",
       "Model               0\n",
       "Prod. year          0\n",
       "Category            0\n",
       "Leather interior    0\n",
       "Fuel type           0\n",
       "Engine volume       0\n",
       "Mileage             0\n",
       "Cylinders           0\n",
       "Gear box type       0\n",
       "Drive wheels        0\n",
       "Doors               0\n",
       "Wheel               0\n",
       "Color               0\n",
       "Airbags             0\n",
       "dtype: int64"
      ]
     },
     "execution_count": 288,
     "metadata": {},
     "output_type": "execute_result"
    }
   ],
   "source": [
    "df.isna().sum()"
   ]
  },
  {
   "cell_type": "code",
   "execution_count": 289,
   "id": "6a237d81",
   "metadata": {},
   "outputs": [
    {
     "data": {
      "text/plain": [
       "Index(['ID', 'Price', 'Levy', 'Manufacturer', 'Model', 'Prod. year',\n",
       "       'Category', 'Leather interior', 'Fuel type', 'Engine volume', 'Mileage',\n",
       "       'Cylinders', 'Gear box type', 'Drive wheels', 'Doors', 'Wheel', 'Color',\n",
       "       'Airbags'],\n",
       "      dtype='object')"
      ]
     },
     "execution_count": 289,
     "metadata": {},
     "output_type": "execute_result"
    }
   ],
   "source": [
    "df.columns\n",
    "#checking columns"
   ]
  },
  {
   "cell_type": "code",
   "execution_count": 290,
   "id": "3c241b64",
   "metadata": {},
   "outputs": [
    {
     "data": {
      "text/plain": [
       "0        1399\n",
       "1        1018\n",
       "2           -\n",
       "3         862\n",
       "4         446\n",
       "         ... \n",
       "19232       -\n",
       "19233     831\n",
       "19234     836\n",
       "19235    1288\n",
       "19236     753\n",
       "Name: Levy, Length: 19237, dtype: object"
      ]
     },
     "execution_count": 290,
     "metadata": {},
     "output_type": "execute_result"
    }
   ],
   "source": [
    "df[\"Levy\"]"
   ]
  },
  {
   "cell_type": "code",
   "execution_count": 291,
   "id": "66a41b7a",
   "metadata": {},
   "outputs": [
    {
     "data": {
      "text/html": [
       "<div>\n",
       "<style scoped>\n",
       "    .dataframe tbody tr th:only-of-type {\n",
       "        vertical-align: middle;\n",
       "    }\n",
       "\n",
       "    .dataframe tbody tr th {\n",
       "        vertical-align: top;\n",
       "    }\n",
       "\n",
       "    .dataframe thead th {\n",
       "        text-align: right;\n",
       "    }\n",
       "</style>\n",
       "<table border=\"1\" class=\"dataframe\">\n",
       "  <thead>\n",
       "    <tr style=\"text-align: right;\">\n",
       "      <th></th>\n",
       "      <th>ID</th>\n",
       "      <th>Price</th>\n",
       "      <th>Levy</th>\n",
       "      <th>Manufacturer</th>\n",
       "      <th>Model</th>\n",
       "      <th>Prod. year</th>\n",
       "      <th>Category</th>\n",
       "      <th>Leather interior</th>\n",
       "      <th>Fuel type</th>\n",
       "      <th>Engine volume</th>\n",
       "      <th>Mileage</th>\n",
       "      <th>Cylinders</th>\n",
       "      <th>Gear box type</th>\n",
       "      <th>Drive wheels</th>\n",
       "      <th>Doors</th>\n",
       "      <th>Wheel</th>\n",
       "      <th>Color</th>\n",
       "      <th>Airbags</th>\n",
       "    </tr>\n",
       "  </thead>\n",
       "  <tbody>\n",
       "    <tr>\n",
       "      <th>425</th>\n",
       "      <td>45815372</td>\n",
       "      <td>7840</td>\n",
       "      <td>-</td>\n",
       "      <td>MERCEDES-BENZ</td>\n",
       "      <td>E 200</td>\n",
       "      <td>1998</td>\n",
       "      <td>Sedan</td>\n",
       "      <td>No</td>\n",
       "      <td>CNG</td>\n",
       "      <td>2</td>\n",
       "      <td>180003 km</td>\n",
       "      <td>4.0</td>\n",
       "      <td>Manual</td>\n",
       "      <td>Rear</td>\n",
       "      <td>04-May</td>\n",
       "      <td>Left wheel</td>\n",
       "      <td>Black</td>\n",
       "      <td>4</td>\n",
       "    </tr>\n",
       "    <tr>\n",
       "      <th>1581</th>\n",
       "      <td>45815363</td>\n",
       "      <td>8781</td>\n",
       "      <td>-</td>\n",
       "      <td>TOYOTA</td>\n",
       "      <td>Ist</td>\n",
       "      <td>2002</td>\n",
       "      <td>Hatchback</td>\n",
       "      <td>No</td>\n",
       "      <td>Petrol</td>\n",
       "      <td>1.5</td>\n",
       "      <td>117000 km</td>\n",
       "      <td>4.0</td>\n",
       "      <td>Automatic</td>\n",
       "      <td>4x4</td>\n",
       "      <td>04-May</td>\n",
       "      <td>Right-hand drive</td>\n",
       "      <td>Red</td>\n",
       "      <td>4</td>\n",
       "    </tr>\n",
       "    <tr>\n",
       "      <th>1697</th>\n",
       "      <td>45732125</td>\n",
       "      <td>18503</td>\n",
       "      <td>-</td>\n",
       "      <td>TOYOTA</td>\n",
       "      <td>Prius</td>\n",
       "      <td>2010</td>\n",
       "      <td>Sedan</td>\n",
       "      <td>No</td>\n",
       "      <td>Petrol</td>\n",
       "      <td>1.8</td>\n",
       "      <td>162000 km</td>\n",
       "      <td>4.0</td>\n",
       "      <td>Automatic</td>\n",
       "      <td>Front</td>\n",
       "      <td>04-May</td>\n",
       "      <td>Left wheel</td>\n",
       "      <td>Grey</td>\n",
       "      <td>12</td>\n",
       "    </tr>\n",
       "    <tr>\n",
       "      <th>1972</th>\n",
       "      <td>45507765</td>\n",
       "      <td>20385</td>\n",
       "      <td>-</td>\n",
       "      <td>MERCEDES-BENZ</td>\n",
       "      <td>CLS 500</td>\n",
       "      <td>2005</td>\n",
       "      <td>Sedan</td>\n",
       "      <td>Yes</td>\n",
       "      <td>Petrol</td>\n",
       "      <td>5</td>\n",
       "      <td>230000 km</td>\n",
       "      <td>8.0</td>\n",
       "      <td>Tiptronic</td>\n",
       "      <td>Rear</td>\n",
       "      <td>04-May</td>\n",
       "      <td>Left wheel</td>\n",
       "      <td>Silver</td>\n",
       "      <td>10</td>\n",
       "    </tr>\n",
       "    <tr>\n",
       "      <th>2131</th>\n",
       "      <td>45815363</td>\n",
       "      <td>8781</td>\n",
       "      <td>-</td>\n",
       "      <td>TOYOTA</td>\n",
       "      <td>Ist</td>\n",
       "      <td>2002</td>\n",
       "      <td>Hatchback</td>\n",
       "      <td>No</td>\n",
       "      <td>Petrol</td>\n",
       "      <td>1.5</td>\n",
       "      <td>117000 km</td>\n",
       "      <td>4.0</td>\n",
       "      <td>Automatic</td>\n",
       "      <td>4x4</td>\n",
       "      <td>04-May</td>\n",
       "      <td>Right-hand drive</td>\n",
       "      <td>Red</td>\n",
       "      <td>4</td>\n",
       "    </tr>\n",
       "  </tbody>\n",
       "</table>\n",
       "</div>"
      ],
      "text/plain": [
       "            ID  Price Levy   Manufacturer    Model  Prod. year   Category  \\\n",
       "425   45815372   7840    -  MERCEDES-BENZ    E 200        1998      Sedan   \n",
       "1581  45815363   8781    -         TOYOTA      Ist        2002  Hatchback   \n",
       "1697  45732125  18503    -         TOYOTA    Prius        2010      Sedan   \n",
       "1972  45507765  20385    -  MERCEDES-BENZ  CLS 500        2005      Sedan   \n",
       "2131  45815363   8781    -         TOYOTA      Ist        2002  Hatchback   \n",
       "\n",
       "     Leather interior Fuel type Engine volume    Mileage  Cylinders  \\\n",
       "425                No       CNG             2  180003 km        4.0   \n",
       "1581               No    Petrol           1.5  117000 km        4.0   \n",
       "1697               No    Petrol           1.8  162000 km        4.0   \n",
       "1972              Yes    Petrol             5  230000 km        8.0   \n",
       "2131               No    Petrol           1.5  117000 km        4.0   \n",
       "\n",
       "     Gear box type Drive wheels   Doors             Wheel   Color  Airbags  \n",
       "425         Manual         Rear  04-May        Left wheel   Black        4  \n",
       "1581     Automatic          4x4  04-May  Right-hand drive     Red        4  \n",
       "1697     Automatic        Front  04-May        Left wheel    Grey       12  \n",
       "1972     Tiptronic         Rear  04-May        Left wheel  Silver       10  \n",
       "2131     Automatic          4x4  04-May  Right-hand drive     Red        4  "
      ]
     },
     "execution_count": 291,
     "metadata": {},
     "output_type": "execute_result"
    }
   ],
   "source": [
    "duplicated=df[df.duplicated()]\n",
    "#checking for duplicates\n",
    "duplicated.head()"
   ]
  },
  {
   "cell_type": "code",
   "execution_count": 292,
   "id": "6584c993",
   "metadata": {},
   "outputs": [
    {
     "data": {
      "text/plain": [
       "(19237, 18)"
      ]
     },
     "execution_count": 292,
     "metadata": {},
     "output_type": "execute_result"
    }
   ],
   "source": [
    "df.shape"
   ]
  },
  {
   "cell_type": "code",
   "execution_count": 293,
   "id": "27114a3b",
   "metadata": {},
   "outputs": [],
   "source": [
    "df1=df.drop_duplicates()\n",
    "# the duplicates have been dropped in the df1"
   ]
  },
  {
   "cell_type": "code",
   "execution_count": 294,
   "id": "45fba001",
   "metadata": {},
   "outputs": [
    {
     "data": {
      "text/plain": [
       "((18924, 18), (19237, 18))"
      ]
     },
     "execution_count": 294,
     "metadata": {},
     "output_type": "execute_result"
    }
   ],
   "source": [
    "df1.shape,df.shape"
   ]
  },
  {
   "cell_type": "code",
   "execution_count": 295,
   "id": "e1dc3eb5",
   "metadata": {},
   "outputs": [
    {
     "data": {
      "text/plain": [
       "array(['LEXUS', 'CHEVROLET', 'HONDA', 'FORD', 'HYUNDAI', 'TOYOTA',\n",
       "       'MERCEDES-BENZ', 'OPEL', 'PORSCHE', 'BMW', 'JEEP', 'VOLKSWAGEN',\n",
       "       'AUDI', 'RENAULT', 'NISSAN', 'SUBARU', 'DAEWOO', 'KIA',\n",
       "       'MITSUBISHI', 'SSANGYONG', 'MAZDA', 'GMC', 'FIAT', 'INFINITI',\n",
       "       'ALFA ROMEO', 'SUZUKI', 'ACURA', 'LINCOLN', 'VAZ', 'GAZ',\n",
       "       'CITROEN', 'LAND ROVER', 'MINI', 'DODGE', 'CHRYSLER', 'JAGUAR',\n",
       "       'ISUZU', 'SKODA', 'DAIHATSU', 'BUICK', 'TESLA', 'CADILLAC',\n",
       "       'PEUGEOT', 'BENTLEY', 'VOLVO', 'სხვა', 'HAVAL', 'HUMMER', 'SCION',\n",
       "       'UAZ', 'MERCURY', 'ZAZ', 'ROVER', 'SEAT', 'LANCIA', 'MOSKVICH',\n",
       "       'MASERATI', 'FERRARI', 'SAAB', 'LAMBORGHINI', 'ROLLS-ROYCE',\n",
       "       'PONTIAC', 'SATURN', 'ASTON MARTIN', 'GREATWALL'], dtype=object)"
      ]
     },
     "execution_count": 295,
     "metadata": {},
     "output_type": "execute_result"
    }
   ],
   "source": [
    "df1[\"Manufacturer\"].unique()\n",
    "#checking the unique values in the manufacturer column"
   ]
  },
  {
   "cell_type": "code",
   "execution_count": 296,
   "id": "90192c7d",
   "metadata": {},
   "outputs": [
    {
     "data": {
      "text/plain": [
       "ID                    int64\n",
       "Price                 int64\n",
       "Levy                 object\n",
       "Manufacturer         object\n",
       "Model                object\n",
       "Prod. year            int64\n",
       "Category             object\n",
       "Leather interior     object\n",
       "Fuel type            object\n",
       "Engine volume        object\n",
       "Mileage              object\n",
       "Cylinders           float64\n",
       "Gear box type        object\n",
       "Drive wheels         object\n",
       "Doors                object\n",
       "Wheel                object\n",
       "Color                object\n",
       "Airbags               int64\n",
       "dtype: object"
      ]
     },
     "execution_count": 296,
     "metadata": {},
     "output_type": "execute_result"
    }
   ],
   "source": [
    "df1.dtypes"
   ]
  },
  {
   "cell_type": "code",
   "execution_count": 297,
   "id": "2c8631b6",
   "metadata": {},
   "outputs": [
    {
     "data": {
      "text/plain": [
       "Prius                     1069\n",
       "Sonata                    1067\n",
       "Camry                      929\n",
       "Elantra                    910\n",
       "E 350                      534\n",
       "                          ... \n",
       "1500,1600 Schtufenheck       1\n",
       "E 420                        1\n",
       "C 250 luxury                 1\n",
       "Passat sport                 1\n",
       "Prius C aqua                 1\n",
       "Name: Model, Length: 1590, dtype: int64"
      ]
     },
     "execution_count": 297,
     "metadata": {},
     "output_type": "execute_result"
    }
   ],
   "source": [
    "df1[\"Model\"].value_counts()"
   ]
  },
  {
   "cell_type": "code",
   "execution_count": 298,
   "id": "0b7b0d55",
   "metadata": {},
   "outputs": [
    {
     "name": "stderr",
     "output_type": "stream",
     "text": [
      "C:\\Users\\OWNER\\AppData\\Local\\Temp\\ipykernel_5696\\3628758565.py:1: SettingWithCopyWarning: \n",
      "A value is trying to be set on a copy of a slice from a DataFrame.\n",
      "Try using .loc[row_indexer,col_indexer] = value instead\n",
      "\n",
      "See the caveats in the documentation: https://pandas.pydata.org/pandas-docs/stable/user_guide/indexing.html#returning-a-view-versus-a-copy\n",
      "  df1[\"mileage_in_km\"]=df1[\"Mileage\"].apply(lambda x: int(x.split(\" \")[0]))\n"
     ]
    }
   ],
   "source": [
    "df1[\"mileage_in_km\"]=df1[\"Mileage\"].apply(lambda x: int(x.split(\" \")[0]))"
   ]
  },
  {
   "cell_type": "code",
   "execution_count": 299,
   "id": "fd07a7be",
   "metadata": {},
   "outputs": [
    {
     "data": {
      "text/html": [
       "<div>\n",
       "<style scoped>\n",
       "    .dataframe tbody tr th:only-of-type {\n",
       "        vertical-align: middle;\n",
       "    }\n",
       "\n",
       "    .dataframe tbody tr th {\n",
       "        vertical-align: top;\n",
       "    }\n",
       "\n",
       "    .dataframe thead th {\n",
       "        text-align: right;\n",
       "    }\n",
       "</style>\n",
       "<table border=\"1\" class=\"dataframe\">\n",
       "  <thead>\n",
       "    <tr style=\"text-align: right;\">\n",
       "      <th></th>\n",
       "      <th>ID</th>\n",
       "      <th>Price</th>\n",
       "      <th>Levy</th>\n",
       "      <th>Manufacturer</th>\n",
       "      <th>Model</th>\n",
       "      <th>Prod. year</th>\n",
       "      <th>Category</th>\n",
       "      <th>Leather interior</th>\n",
       "      <th>Fuel type</th>\n",
       "      <th>Engine volume</th>\n",
       "      <th>Mileage</th>\n",
       "      <th>Cylinders</th>\n",
       "      <th>Gear box type</th>\n",
       "      <th>Drive wheels</th>\n",
       "      <th>Doors</th>\n",
       "      <th>Wheel</th>\n",
       "      <th>Color</th>\n",
       "      <th>Airbags</th>\n",
       "      <th>mileage_in_km</th>\n",
       "    </tr>\n",
       "  </thead>\n",
       "  <tbody>\n",
       "    <tr>\n",
       "      <th>0</th>\n",
       "      <td>45654403</td>\n",
       "      <td>13328</td>\n",
       "      <td>1399</td>\n",
       "      <td>LEXUS</td>\n",
       "      <td>RX 450</td>\n",
       "      <td>2010</td>\n",
       "      <td>Jeep</td>\n",
       "      <td>Yes</td>\n",
       "      <td>Hybrid</td>\n",
       "      <td>3.5</td>\n",
       "      <td>186005 km</td>\n",
       "      <td>6.0</td>\n",
       "      <td>Automatic</td>\n",
       "      <td>4x4</td>\n",
       "      <td>04-May</td>\n",
       "      <td>Left wheel</td>\n",
       "      <td>Silver</td>\n",
       "      <td>12</td>\n",
       "      <td>186005</td>\n",
       "    </tr>\n",
       "    <tr>\n",
       "      <th>1</th>\n",
       "      <td>44731507</td>\n",
       "      <td>16621</td>\n",
       "      <td>1018</td>\n",
       "      <td>CHEVROLET</td>\n",
       "      <td>Equinox</td>\n",
       "      <td>2011</td>\n",
       "      <td>Jeep</td>\n",
       "      <td>No</td>\n",
       "      <td>Petrol</td>\n",
       "      <td>3</td>\n",
       "      <td>192000 km</td>\n",
       "      <td>6.0</td>\n",
       "      <td>Tiptronic</td>\n",
       "      <td>4x4</td>\n",
       "      <td>04-May</td>\n",
       "      <td>Left wheel</td>\n",
       "      <td>Black</td>\n",
       "      <td>8</td>\n",
       "      <td>192000</td>\n",
       "    </tr>\n",
       "    <tr>\n",
       "      <th>2</th>\n",
       "      <td>45774419</td>\n",
       "      <td>8467</td>\n",
       "      <td>-</td>\n",
       "      <td>HONDA</td>\n",
       "      <td>FIT</td>\n",
       "      <td>2006</td>\n",
       "      <td>Hatchback</td>\n",
       "      <td>No</td>\n",
       "      <td>Petrol</td>\n",
       "      <td>1.3</td>\n",
       "      <td>200000 km</td>\n",
       "      <td>4.0</td>\n",
       "      <td>Variator</td>\n",
       "      <td>Front</td>\n",
       "      <td>04-May</td>\n",
       "      <td>Right-hand drive</td>\n",
       "      <td>Black</td>\n",
       "      <td>2</td>\n",
       "      <td>200000</td>\n",
       "    </tr>\n",
       "    <tr>\n",
       "      <th>3</th>\n",
       "      <td>45769185</td>\n",
       "      <td>3607</td>\n",
       "      <td>862</td>\n",
       "      <td>FORD</td>\n",
       "      <td>Escape</td>\n",
       "      <td>2011</td>\n",
       "      <td>Jeep</td>\n",
       "      <td>Yes</td>\n",
       "      <td>Hybrid</td>\n",
       "      <td>2.5</td>\n",
       "      <td>168966 km</td>\n",
       "      <td>4.0</td>\n",
       "      <td>Automatic</td>\n",
       "      <td>4x4</td>\n",
       "      <td>04-May</td>\n",
       "      <td>Left wheel</td>\n",
       "      <td>White</td>\n",
       "      <td>0</td>\n",
       "      <td>168966</td>\n",
       "    </tr>\n",
       "    <tr>\n",
       "      <th>4</th>\n",
       "      <td>45809263</td>\n",
       "      <td>11726</td>\n",
       "      <td>446</td>\n",
       "      <td>HONDA</td>\n",
       "      <td>FIT</td>\n",
       "      <td>2014</td>\n",
       "      <td>Hatchback</td>\n",
       "      <td>Yes</td>\n",
       "      <td>Petrol</td>\n",
       "      <td>1.3</td>\n",
       "      <td>91901 km</td>\n",
       "      <td>4.0</td>\n",
       "      <td>Automatic</td>\n",
       "      <td>Front</td>\n",
       "      <td>04-May</td>\n",
       "      <td>Left wheel</td>\n",
       "      <td>Silver</td>\n",
       "      <td>4</td>\n",
       "      <td>91901</td>\n",
       "    </tr>\n",
       "  </tbody>\n",
       "</table>\n",
       "</div>"
      ],
      "text/plain": [
       "         ID  Price  Levy Manufacturer    Model  Prod. year   Category  \\\n",
       "0  45654403  13328  1399        LEXUS   RX 450        2010       Jeep   \n",
       "1  44731507  16621  1018    CHEVROLET  Equinox        2011       Jeep   \n",
       "2  45774419   8467     -        HONDA      FIT        2006  Hatchback   \n",
       "3  45769185   3607   862         FORD   Escape        2011       Jeep   \n",
       "4  45809263  11726   446        HONDA      FIT        2014  Hatchback   \n",
       "\n",
       "  Leather interior Fuel type Engine volume    Mileage  Cylinders  \\\n",
       "0              Yes    Hybrid           3.5  186005 km        6.0   \n",
       "1               No    Petrol             3  192000 km        6.0   \n",
       "2               No    Petrol           1.3  200000 km        4.0   \n",
       "3              Yes    Hybrid           2.5  168966 km        4.0   \n",
       "4              Yes    Petrol           1.3   91901 km        4.0   \n",
       "\n",
       "  Gear box type Drive wheels   Doors             Wheel   Color  Airbags  \\\n",
       "0     Automatic          4x4  04-May        Left wheel  Silver       12   \n",
       "1     Tiptronic          4x4  04-May        Left wheel   Black        8   \n",
       "2      Variator        Front  04-May  Right-hand drive   Black        2   \n",
       "3     Automatic          4x4  04-May        Left wheel   White        0   \n",
       "4     Automatic        Front  04-May        Left wheel  Silver        4   \n",
       "\n",
       "   mileage_in_km  \n",
       "0         186005  \n",
       "1         192000  \n",
       "2         200000  \n",
       "3         168966  \n",
       "4          91901  "
      ]
     },
     "execution_count": 299,
     "metadata": {},
     "output_type": "execute_result"
    }
   ],
   "source": [
    "df1.head()"
   ]
  },
  {
   "cell_type": "code",
   "execution_count": 300,
   "id": "a168fc2a",
   "metadata": {},
   "outputs": [
    {
     "data": {
      "text/plain": [
       "array([2010, 2011, 2006, 2014, 2016, 2013, 2007, 1999, 1997, 2018, 2008,\n",
       "       2012, 2017, 2001, 1995, 2009, 2000, 2019, 2015, 2004, 1998, 1990,\n",
       "       2005, 2003, 1985, 1996, 2002, 1993, 1992, 1988, 1977, 1989, 1994,\n",
       "       2020, 1984, 1986, 1991, 1983, 1953, 1964, 1974, 1987, 1943, 1978,\n",
       "       1965, 1976, 1957, 1980, 1939, 1968, 1947, 1982, 1981, 1973],\n",
       "      dtype=int64)"
      ]
     },
     "execution_count": 300,
     "metadata": {},
     "output_type": "execute_result"
    }
   ],
   "source": [
    "df1[\"Prod. year\"].unique()"
   ]
  },
  {
   "cell_type": "code",
   "execution_count": 301,
   "id": "e6eb4650",
   "metadata": {},
   "outputs": [
    {
     "data": {
      "text/plain": [
       "2012    2131\n",
       "2014    2090\n",
       "2013    1913\n",
       "2011    1582\n",
       "2015    1527\n",
       "2010    1463\n",
       "2016    1449\n",
       "2017     941\n",
       "2008     731\n",
       "2009     595\n",
       "2018     491\n",
       "2007     460\n",
       "2005     396\n",
       "2003     358\n",
       "2004     354\n",
       "2006     315\n",
       "2019     304\n",
       "2002     285\n",
       "2000     277\n",
       "2001     253\n",
       "1999     205\n",
       "1998     205\n",
       "1997     151\n",
       "1996     109\n",
       "1995     102\n",
       "2020      47\n",
       "1994      41\n",
       "1992      30\n",
       "1993      23\n",
       "1990      18\n",
       "1988      12\n",
       "1991      10\n",
       "1986       6\n",
       "1989       6\n",
       "1987       5\n",
       "1984       5\n",
       "1985       5\n",
       "1953       4\n",
       "1983       3\n",
       "1939       3\n",
       "1978       2\n",
       "1980       2\n",
       "1965       2\n",
       "1977       2\n",
       "1964       2\n",
       "1943       1\n",
       "1976       1\n",
       "1957       1\n",
       "1974       1\n",
       "1968       1\n",
       "1947       1\n",
       "1982       1\n",
       "1981       1\n",
       "1973       1\n",
       "Name: Prod. year, dtype: int64"
      ]
     },
     "execution_count": 301,
     "metadata": {},
     "output_type": "execute_result"
    }
   ],
   "source": [
    "df1[\"Prod. year\"].value_counts()"
   ]
  },
  {
   "cell_type": "code",
   "execution_count": 302,
   "id": "be02ccbe",
   "metadata": {},
   "outputs": [
    {
     "data": {
      "text/plain": [
       "2131"
      ]
     },
     "execution_count": 302,
     "metadata": {},
     "output_type": "execute_result"
    }
   ],
   "source": [
    "df1[\"Prod. year\"].value_counts().max()"
   ]
  },
  {
   "cell_type": "code",
   "execution_count": 303,
   "id": "e17f7662",
   "metadata": {
    "scrolled": true
   },
   "outputs": [
    {
     "data": {
      "text/plain": [
       "1"
      ]
     },
     "execution_count": 303,
     "metadata": {},
     "output_type": "execute_result"
    }
   ],
   "source": [
    "df1[\"Prod. year\"].value_counts().min()"
   ]
  },
  {
   "cell_type": "code",
   "execution_count": 304,
   "id": "cf2d7c97",
   "metadata": {},
   "outputs": [
    {
     "name": "stderr",
     "output_type": "stream",
     "text": [
      "C:\\Users\\OWNER\\AppData\\Local\\Temp\\ipykernel_5696\\3213495690.py:1: SettingWithCopyWarning: \n",
      "A value is trying to be set on a copy of a slice from a DataFrame.\n",
      "Try using .loc[row_indexer,col_indexer] = value instead\n",
      "\n",
      "See the caveats in the documentation: https://pandas.pydata.org/pandas-docs/stable/user_guide/indexing.html#returning-a-view-versus-a-copy\n",
      "  df1[\"age\"]=2023-df1[\"Prod. year\"]\n",
      "C:\\Users\\OWNER\\AppData\\Local\\Temp\\ipykernel_5696\\3213495690.py:2: SettingWithCopyWarning: \n",
      "A value is trying to be set on a copy of a slice from a DataFrame.\n",
      "Try using .loc[row_indexer,col_indexer] = value instead\n",
      "\n",
      "See the caveats in the documentation: https://pandas.pydata.org/pandas-docs/stable/user_guide/indexing.html#returning-a-view-versus-a-copy\n",
      "  df1[\"age\"]=df1[\"age\"].astype(int)\n"
     ]
    }
   ],
   "source": [
    "df1[\"age\"]=2023-df1[\"Prod. year\"]\n",
    "df1[\"age\"]=df1[\"age\"].astype(int)"
   ]
  },
  {
   "cell_type": "code",
   "execution_count": 305,
   "id": "4a30f2d6",
   "metadata": {},
   "outputs": [
    {
     "data": {
      "text/html": [
       "<div>\n",
       "<style scoped>\n",
       "    .dataframe tbody tr th:only-of-type {\n",
       "        vertical-align: middle;\n",
       "    }\n",
       "\n",
       "    .dataframe tbody tr th {\n",
       "        vertical-align: top;\n",
       "    }\n",
       "\n",
       "    .dataframe thead th {\n",
       "        text-align: right;\n",
       "    }\n",
       "</style>\n",
       "<table border=\"1\" class=\"dataframe\">\n",
       "  <thead>\n",
       "    <tr style=\"text-align: right;\">\n",
       "      <th></th>\n",
       "      <th>ID</th>\n",
       "      <th>Price</th>\n",
       "      <th>Prod. year</th>\n",
       "      <th>Cylinders</th>\n",
       "      <th>Airbags</th>\n",
       "      <th>mileage_in_km</th>\n",
       "      <th>age</th>\n",
       "    </tr>\n",
       "    <tr>\n",
       "      <th>Category</th>\n",
       "      <th></th>\n",
       "      <th></th>\n",
       "      <th></th>\n",
       "      <th></th>\n",
       "      <th></th>\n",
       "      <th></th>\n",
       "      <th></th>\n",
       "    </tr>\n",
       "  </thead>\n",
       "  <tbody>\n",
       "    <tr>\n",
       "      <th>Cabriolet</th>\n",
       "      <td>4.484539e+07</td>\n",
       "      <td>24407.971429</td>\n",
       "      <td>2006.428571</td>\n",
       "      <td>5.514286</td>\n",
       "      <td>6.542857</td>\n",
       "      <td>1.067706e+05</td>\n",
       "      <td>16.571429</td>\n",
       "    </tr>\n",
       "    <tr>\n",
       "      <th>Coupe</th>\n",
       "      <td>4.553849e+07</td>\n",
       "      <td>21282.356061</td>\n",
       "      <td>2008.844697</td>\n",
       "      <td>5.013258</td>\n",
       "      <td>7.030303</td>\n",
       "      <td>1.529135e+05</td>\n",
       "      <td>14.155303</td>\n",
       "    </tr>\n",
       "    <tr>\n",
       "      <th>Goods wagon</th>\n",
       "      <td>4.551229e+07</td>\n",
       "      <td>124840.104803</td>\n",
       "      <td>2003.628821</td>\n",
       "      <td>4.152838</td>\n",
       "      <td>3.310044</td>\n",
       "      <td>3.638978e+05</td>\n",
       "      <td>19.371179</td>\n",
       "    </tr>\n",
       "    <tr>\n",
       "      <th>Hatchback</th>\n",
       "      <td>4.546203e+07</td>\n",
       "      <td>11354.611647</td>\n",
       "      <td>2010.350482</td>\n",
       "      <td>4.035727</td>\n",
       "      <td>5.791354</td>\n",
       "      <td>1.265153e+06</td>\n",
       "      <td>12.649518</td>\n",
       "    </tr>\n",
       "    <tr>\n",
       "      <th>Jeep</th>\n",
       "      <td>4.560809e+07</td>\n",
       "      <td>23760.507252</td>\n",
       "      <td>2011.661956</td>\n",
       "      <td>5.035329</td>\n",
       "      <td>6.253254</td>\n",
       "      <td>1.124922e+06</td>\n",
       "      <td>11.338044</td>\n",
       "    </tr>\n",
       "    <tr>\n",
       "      <th>Limousine</th>\n",
       "      <td>3.821501e+07</td>\n",
       "      <td>11534.454545</td>\n",
       "      <td>1979.909091</td>\n",
       "      <td>6.363636</td>\n",
       "      <td>2.727273</td>\n",
       "      <td>1.302646e+05</td>\n",
       "      <td>43.090909</td>\n",
       "    </tr>\n",
       "    <tr>\n",
       "      <th>Microbus</th>\n",
       "      <td>4.529052e+07</td>\n",
       "      <td>18538.933110</td>\n",
       "      <td>2003.431438</td>\n",
       "      <td>4.270903</td>\n",
       "      <td>2.180602</td>\n",
       "      <td>7.446604e+06</td>\n",
       "      <td>19.568562</td>\n",
       "    </tr>\n",
       "    <tr>\n",
       "      <th>Minivan</th>\n",
       "      <td>4.553106e+07</td>\n",
       "      <td>20601.456556</td>\n",
       "      <td>2009.078989</td>\n",
       "      <td>4.263823</td>\n",
       "      <td>4.565561</td>\n",
       "      <td>1.576753e+05</td>\n",
       "      <td>13.921011</td>\n",
       "    </tr>\n",
       "    <tr>\n",
       "      <th>Pickup</th>\n",
       "      <td>4.537650e+07</td>\n",
       "      <td>29362.392157</td>\n",
       "      <td>2010.176471</td>\n",
       "      <td>4.745098</td>\n",
       "      <td>5.568627</td>\n",
       "      <td>1.443002e+05</td>\n",
       "      <td>12.823529</td>\n",
       "    </tr>\n",
       "    <tr>\n",
       "      <th>Sedan</th>\n",
       "      <td>4.562095e+07</td>\n",
       "      <td>14202.733837</td>\n",
       "      <td>2011.458953</td>\n",
       "      <td>4.503837</td>\n",
       "      <td>7.475349</td>\n",
       "      <td>1.984265e+06</td>\n",
       "      <td>11.541047</td>\n",
       "    </tr>\n",
       "    <tr>\n",
       "      <th>Universal</th>\n",
       "      <td>4.561206e+07</td>\n",
       "      <td>25350.628809</td>\n",
       "      <td>2009.717452</td>\n",
       "      <td>4.121884</td>\n",
       "      <td>4.479224</td>\n",
       "      <td>7.625023e+05</td>\n",
       "      <td>13.282548</td>\n",
       "    </tr>\n",
       "  </tbody>\n",
       "</table>\n",
       "</div>"
      ],
      "text/plain": [
       "                       ID          Price   Prod. year  Cylinders   Airbags  \\\n",
       "Category                                                                     \n",
       "Cabriolet    4.484539e+07   24407.971429  2006.428571   5.514286  6.542857   \n",
       "Coupe        4.553849e+07   21282.356061  2008.844697   5.013258  7.030303   \n",
       "Goods wagon  4.551229e+07  124840.104803  2003.628821   4.152838  3.310044   \n",
       "Hatchback    4.546203e+07   11354.611647  2010.350482   4.035727  5.791354   \n",
       "Jeep         4.560809e+07   23760.507252  2011.661956   5.035329  6.253254   \n",
       "Limousine    3.821501e+07   11534.454545  1979.909091   6.363636  2.727273   \n",
       "Microbus     4.529052e+07   18538.933110  2003.431438   4.270903  2.180602   \n",
       "Minivan      4.553106e+07   20601.456556  2009.078989   4.263823  4.565561   \n",
       "Pickup       4.537650e+07   29362.392157  2010.176471   4.745098  5.568627   \n",
       "Sedan        4.562095e+07   14202.733837  2011.458953   4.503837  7.475349   \n",
       "Universal    4.561206e+07   25350.628809  2009.717452   4.121884  4.479224   \n",
       "\n",
       "             mileage_in_km        age  \n",
       "Category                               \n",
       "Cabriolet     1.067706e+05  16.571429  \n",
       "Coupe         1.529135e+05  14.155303  \n",
       "Goods wagon   3.638978e+05  19.371179  \n",
       "Hatchback     1.265153e+06  12.649518  \n",
       "Jeep          1.124922e+06  11.338044  \n",
       "Limousine     1.302646e+05  43.090909  \n",
       "Microbus      7.446604e+06  19.568562  \n",
       "Minivan       1.576753e+05  13.921011  \n",
       "Pickup        1.443002e+05  12.823529  \n",
       "Sedan         1.984265e+06  11.541047  \n",
       "Universal     7.625023e+05  13.282548  "
      ]
     },
     "execution_count": 305,
     "metadata": {},
     "output_type": "execute_result"
    }
   ],
   "source": [
    "df1.groupby(\"Category\").mean(numeric_only=True)"
   ]
  },
  {
   "cell_type": "code",
   "execution_count": 306,
   "id": "720f5e87",
   "metadata": {},
   "outputs": [
    {
     "data": {
      "text/html": [
       "<div>\n",
       "<style scoped>\n",
       "    .dataframe tbody tr th:only-of-type {\n",
       "        vertical-align: middle;\n",
       "    }\n",
       "\n",
       "    .dataframe tbody tr th {\n",
       "        vertical-align: top;\n",
       "    }\n",
       "\n",
       "    .dataframe thead th {\n",
       "        text-align: right;\n",
       "    }\n",
       "</style>\n",
       "<table border=\"1\" class=\"dataframe\">\n",
       "  <thead>\n",
       "    <tr style=\"text-align: right;\">\n",
       "      <th></th>\n",
       "      <th>ID</th>\n",
       "      <th>Price</th>\n",
       "      <th>Prod. year</th>\n",
       "      <th>Cylinders</th>\n",
       "      <th>Airbags</th>\n",
       "      <th>mileage_in_km</th>\n",
       "      <th>age</th>\n",
       "    </tr>\n",
       "    <tr>\n",
       "      <th>Manufacturer</th>\n",
       "      <th></th>\n",
       "      <th></th>\n",
       "      <th></th>\n",
       "      <th></th>\n",
       "      <th></th>\n",
       "      <th></th>\n",
       "      <th></th>\n",
       "    </tr>\n",
       "  </thead>\n",
       "  <tbody>\n",
       "    <tr>\n",
       "      <th>ACURA</th>\n",
       "      <td>4.575385e+07</td>\n",
       "      <td>5910.933333</td>\n",
       "      <td>2011.400000</td>\n",
       "      <td>5.333333</td>\n",
       "      <td>11.333333</td>\n",
       "      <td>1.257611e+05</td>\n",
       "      <td>11.600000</td>\n",
       "    </tr>\n",
       "    <tr>\n",
       "      <th>ALFA ROMEO</th>\n",
       "      <td>4.454798e+07</td>\n",
       "      <td>9890.250000</td>\n",
       "      <td>2005.000000</td>\n",
       "      <td>5.000000</td>\n",
       "      <td>7.500000</td>\n",
       "      <td>1.693000e+05</td>\n",
       "      <td>18.000000</td>\n",
       "    </tr>\n",
       "    <tr>\n",
       "      <th>ASTON MARTIN</th>\n",
       "      <td>4.343235e+07</td>\n",
       "      <td>54000.000000</td>\n",
       "      <td>2007.000000</td>\n",
       "      <td>8.000000</td>\n",
       "      <td>8.000000</td>\n",
       "      <td>7.200000e+04</td>\n",
       "      <td>16.000000</td>\n",
       "    </tr>\n",
       "    <tr>\n",
       "      <th>AUDI</th>\n",
       "      <td>4.547472e+07</td>\n",
       "      <td>14047.255906</td>\n",
       "      <td>2011.484252</td>\n",
       "      <td>5.125984</td>\n",
       "      <td>5.133858</td>\n",
       "      <td>1.573086e+05</td>\n",
       "      <td>11.515748</td>\n",
       "    </tr>\n",
       "    <tr>\n",
       "      <th>BENTLEY</th>\n",
       "      <td>4.580029e+07</td>\n",
       "      <td>197574.500000</td>\n",
       "      <td>2014.000000</td>\n",
       "      <td>8.000000</td>\n",
       "      <td>6.000000</td>\n",
       "      <td>3.084450e+04</td>\n",
       "      <td>9.000000</td>\n",
       "    </tr>\n",
       "    <tr>\n",
       "      <th>...</th>\n",
       "      <td>...</td>\n",
       "      <td>...</td>\n",
       "      <td>...</td>\n",
       "      <td>...</td>\n",
       "      <td>...</td>\n",
       "      <td>...</td>\n",
       "      <td>...</td>\n",
       "    </tr>\n",
       "    <tr>\n",
       "      <th>VAZ</th>\n",
       "      <td>4.571198e+07</td>\n",
       "      <td>4659.893617</td>\n",
       "      <td>1994.914894</td>\n",
       "      <td>3.957447</td>\n",
       "      <td>2.063830</td>\n",
       "      <td>6.196091e+04</td>\n",
       "      <td>28.085106</td>\n",
       "    </tr>\n",
       "    <tr>\n",
       "      <th>VOLKSWAGEN</th>\n",
       "      <td>4.555692e+07</td>\n",
       "      <td>11471.774081</td>\n",
       "      <td>2008.726795</td>\n",
       "      <td>4.308231</td>\n",
       "      <td>7.429072</td>\n",
       "      <td>5.644992e+06</td>\n",
       "      <td>14.273205</td>\n",
       "    </tr>\n",
       "    <tr>\n",
       "      <th>VOLVO</th>\n",
       "      <td>4.552961e+07</td>\n",
       "      <td>10278.894737</td>\n",
       "      <td>2005.368421</td>\n",
       "      <td>5.157895</td>\n",
       "      <td>7.842105</td>\n",
       "      <td>1.815761e+05</td>\n",
       "      <td>17.631579</td>\n",
       "    </tr>\n",
       "    <tr>\n",
       "      <th>ZAZ</th>\n",
       "      <td>4.577592e+07</td>\n",
       "      <td>3822.500000</td>\n",
       "      <td>1989.500000</td>\n",
       "      <td>3.500000</td>\n",
       "      <td>0.000000</td>\n",
       "      <td>1.327625e+05</td>\n",
       "      <td>33.500000</td>\n",
       "    </tr>\n",
       "    <tr>\n",
       "      <th>სხვა</th>\n",
       "      <td>4.250156e+07</td>\n",
       "      <td>17248.500000</td>\n",
       "      <td>2006.000000</td>\n",
       "      <td>4.000000</td>\n",
       "      <td>1.500000</td>\n",
       "      <td>2.150000e+05</td>\n",
       "      <td>17.000000</td>\n",
       "    </tr>\n",
       "  </tbody>\n",
       "</table>\n",
       "<p>65 rows × 7 columns</p>\n",
       "</div>"
      ],
      "text/plain": [
       "                        ID          Price   Prod. year  Cylinders    Airbags  \\\n",
       "Manufacturer                                                                   \n",
       "ACURA         4.575385e+07    5910.933333  2011.400000   5.333333  11.333333   \n",
       "ALFA ROMEO    4.454798e+07    9890.250000  2005.000000   5.000000   7.500000   \n",
       "ASTON MARTIN  4.343235e+07   54000.000000  2007.000000   8.000000   8.000000   \n",
       "AUDI          4.547472e+07   14047.255906  2011.484252   5.125984   5.133858   \n",
       "BENTLEY       4.580029e+07  197574.500000  2014.000000   8.000000   6.000000   \n",
       "...                    ...            ...          ...        ...        ...   \n",
       "VAZ           4.571198e+07    4659.893617  1994.914894   3.957447   2.063830   \n",
       "VOLKSWAGEN    4.555692e+07   11471.774081  2008.726795   4.308231   7.429072   \n",
       "VOLVO         4.552961e+07   10278.894737  2005.368421   5.157895   7.842105   \n",
       "ZAZ           4.577592e+07    3822.500000  1989.500000   3.500000   0.000000   \n",
       "სხვა          4.250156e+07   17248.500000  2006.000000   4.000000   1.500000   \n",
       "\n",
       "              mileage_in_km        age  \n",
       "Manufacturer                            \n",
       "ACURA          1.257611e+05  11.600000  \n",
       "ALFA ROMEO     1.693000e+05  18.000000  \n",
       "ASTON MARTIN   7.200000e+04  16.000000  \n",
       "AUDI           1.573086e+05  11.515748  \n",
       "BENTLEY        3.084450e+04   9.000000  \n",
       "...                     ...        ...  \n",
       "VAZ            6.196091e+04  28.085106  \n",
       "VOLKSWAGEN     5.644992e+06  14.273205  \n",
       "VOLVO          1.815761e+05  17.631579  \n",
       "ZAZ            1.327625e+05  33.500000  \n",
       "სხვა           2.150000e+05  17.000000  \n",
       "\n",
       "[65 rows x 7 columns]"
      ]
     },
     "execution_count": 306,
     "metadata": {},
     "output_type": "execute_result"
    }
   ],
   "source": [
    "df1.groupby(\"Manufacturer\",sort=True).mean(numeric_only=True)"
   ]
  },
  {
   "cell_type": "code",
   "execution_count": 307,
   "id": "f68de95a",
   "metadata": {},
   "outputs": [
    {
     "data": {
      "text/plain": [
       "4     5733\n",
       "12    5534\n",
       "0     2384\n",
       "8     1569\n",
       "6     1289\n",
       "2     1051\n",
       "10     845\n",
       "5      104\n",
       "16      93\n",
       "7       85\n",
       "1       76\n",
       "9       62\n",
       "3       37\n",
       "11      33\n",
       "14      20\n",
       "15       7\n",
       "13       2\n",
       "Name: Airbags, dtype: int64"
      ]
     },
     "execution_count": 307,
     "metadata": {},
     "output_type": "execute_result"
    }
   ],
   "source": [
    "df1[\"Airbags\"].value_counts()"
   ]
  },
  {
   "cell_type": "code",
   "execution_count": 308,
   "id": "0d3cea12",
   "metadata": {},
   "outputs": [
    {
     "data": {
      "text/plain": [
       "array(['Automatic', 'Tiptronic', 'Variator', 'Manual'], dtype=object)"
      ]
     },
     "execution_count": 308,
     "metadata": {},
     "output_type": "execute_result"
    }
   ],
   "source": [
    "df1[\"Gear box type\"].unique()"
   ]
  },
  {
   "cell_type": "code",
   "execution_count": 309,
   "id": "ae694281",
   "metadata": {},
   "outputs": [
    {
     "data": {
      "text/plain": [
       "array(['3.5', '3', '1.3', '2.5', '2', '1.8', '2.4', '4', '1.6', '3.3',\n",
       "       '2.0 Turbo', '2.2 Turbo', '4.7', '1.5', '4.4', '3.0 Turbo',\n",
       "       '1.4 Turbo', '3.6', '2.3', '1.5 Turbo', '1.6 Turbo', '2.2',\n",
       "       '2.3 Turbo', '1.4', '5.5', '2.8 Turbo', '3.2', '3.8', '4.6', '1.2',\n",
       "       '5', '1.7', '2.9', '0.5', '1.8 Turbo', '2.4 Turbo', '3.5 Turbo',\n",
       "       '1.9', '2.7', '4.8', '5.3', '0.4', '2.8', '3.2 Turbo', '1.1',\n",
       "       '2.1', '0.7', '5.4', '1.3 Turbo', '3.7', '1', '2.5 Turbo', '2.6',\n",
       "       '1.9 Turbo', '4.4 Turbo', '4.7 Turbo', '0.8', '0.2 Turbo', '5.7',\n",
       "       '4.8 Turbo', '4.6 Turbo', '6.7', '6.2', '1.2 Turbo', '3.4',\n",
       "       '1.7 Turbo', '6.3 Turbo', '2.7 Turbo', '4.3', '4.2', '2.9 Turbo',\n",
       "       '0', '4.0 Turbo', '20', '3.6 Turbo', '0.3', '3.7 Turbo', '5.9',\n",
       "       '5.5 Turbo', '0.2', '2.1 Turbo', '5.6', '6', '0.7 Turbo',\n",
       "       '0.6 Turbo', '6.8', '4.5', '0.6', '7.3', '0.1', '1.0 Turbo', '6.3',\n",
       "       '4.5 Turbo', '0.8 Turbo', '4.2 Turbo', '3.1', '5.0 Turbo', '6.4',\n",
       "       '3.9', '5.7 Turbo', '0.9', '0.4 Turbo', '5.4 Turbo', '0.3 Turbo',\n",
       "       '5.2', '5.8', '1.1 Turbo'], dtype=object)"
      ]
     },
     "execution_count": 309,
     "metadata": {},
     "output_type": "execute_result"
    }
   ],
   "source": [
    "df1[\"Engine volume\"].unique()"
   ]
  },
  {
   "cell_type": "code",
   "execution_count": 310,
   "id": "7c9cf281",
   "metadata": {},
   "outputs": [],
   "source": [
    "car_turbo_engine=df1[df1[\"Engine volume\"].str.contains(\"Turbo\")]"
   ]
  },
  {
   "cell_type": "code",
   "execution_count": 311,
   "id": "95e25123",
   "metadata": {},
   "outputs": [],
   "source": [
    "car_no_turbo_engine=df1[-df1[\"Engine volume\"].str.contains(\"Turbo\")]"
   ]
  },
  {
   "cell_type": "code",
   "execution_count": 312,
   "id": "0f766986",
   "metadata": {},
   "outputs": [
    {
     "name": "stderr",
     "output_type": "stream",
     "text": [
      "C:\\Users\\OWNER\\AppData\\Local\\Temp\\ipykernel_5696\\1441509272.py:1: SettingWithCopyWarning: \n",
      "A value is trying to be set on a copy of a slice from a DataFrame.\n",
      "Try using .loc[row_indexer,col_indexer] = value instead\n",
      "\n",
      "See the caveats in the documentation: https://pandas.pydata.org/pandas-docs/stable/user_guide/indexing.html#returning-a-view-versus-a-copy\n",
      "  df1[\"Engine Type\"] = df1[\"Engine volume\"].apply(lambda x: \"Turbo\" if \"Turbo\" in x else \"Normal\")\n"
     ]
    }
   ],
   "source": [
    "df1[\"Engine Type\"] = df1[\"Engine volume\"].apply(lambda x: \"Turbo\" if \"Turbo\" in x else \"Normal\")\n"
   ]
  },
  {
   "cell_type": "code",
   "execution_count": 313,
   "id": "e8e838df",
   "metadata": {},
   "outputs": [
    {
     "data": {
      "text/plain": [
       "array(['Normal', 'Turbo'], dtype=object)"
      ]
     },
     "execution_count": 313,
     "metadata": {},
     "output_type": "execute_result"
    }
   ],
   "source": [
    "df1[\"Engine Type\"].unique()"
   ]
  },
  {
   "cell_type": "code",
   "execution_count": 314,
   "id": "f741d931",
   "metadata": {},
   "outputs": [
    {
     "name": "stderr",
     "output_type": "stream",
     "text": [
      "C:\\Users\\OWNER\\AppData\\Local\\Temp\\ipykernel_5696\\2024555065.py:1: SettingWithCopyWarning: \n",
      "A value is trying to be set on a copy of a slice from a DataFrame.\n",
      "Try using .loc[row_indexer,col_indexer] = value instead\n",
      "\n",
      "See the caveats in the documentation: https://pandas.pydata.org/pandas-docs/stable/user_guide/indexing.html#returning-a-view-versus-a-copy\n",
      "  df1[\"Engine volume\"]=df1[\"Engine volume\"].apply(lambda x: float(x.split(\" \")[0]))\n"
     ]
    }
   ],
   "source": [
    "df1[\"Engine volume\"]=df1[\"Engine volume\"].apply(lambda x: float(x.split(\" \")[0]))"
   ]
  },
  {
   "cell_type": "code",
   "execution_count": 315,
   "id": "b6a63518",
   "metadata": {},
   "outputs": [
    {
     "data": {
      "text/plain": [
       "array([ 3.5,  3. ,  1.3,  2.5,  2. ,  1.8,  2.4,  4. ,  1.6,  3.3,  2.2,\n",
       "        4.7,  1.5,  4.4,  1.4,  3.6,  2.3,  5.5,  2.8,  3.2,  3.8,  4.6,\n",
       "        1.2,  5. ,  1.7,  2.9,  0.5,  1.9,  2.7,  4.8,  5.3,  0.4,  1.1,\n",
       "        2.1,  0.7,  5.4,  3.7,  1. ,  2.6,  0.8,  0.2,  5.7,  6.7,  6.2,\n",
       "        3.4,  6.3,  4.3,  4.2,  0. , 20. ,  0.3,  5.9,  5.6,  6. ,  0.6,\n",
       "        6.8,  4.5,  7.3,  0.1,  3.1,  6.4,  3.9,  0.9,  5.2,  5.8])"
      ]
     },
     "execution_count": 315,
     "metadata": {},
     "output_type": "execute_result"
    }
   ],
   "source": [
    "df1[\"Engine volume\"].unique()\n",
    "#the cars in with less than 1 engine volume and more than 15 is an outlier"
   ]
  },
  {
   "cell_type": "code",
   "execution_count": 316,
   "id": "951c3ed9",
   "metadata": {},
   "outputs": [],
   "source": [
    "df2=df1[(df1[\"Engine volume\"]>1)&(df1[\"Engine volume\"]<15)]\n",
    "#now we have removed the outlers  in engine volume"
   ]
  },
  {
   "cell_type": "code",
   "execution_count": 317,
   "id": "c564074c",
   "metadata": {},
   "outputs": [
    {
     "data": {
      "text/plain": [
       "((18705, 21), (18924, 21))"
      ]
     },
     "execution_count": 317,
     "metadata": {},
     "output_type": "execute_result"
    }
   ],
   "source": [
    "df2.shape,df1.shape"
   ]
  },
  {
   "cell_type": "code",
   "execution_count": 318,
   "id": "f8d88aef",
   "metadata": {},
   "outputs": [
    {
     "data": {
      "text/plain": [
       "array(['Yes', 'No'], dtype=object)"
      ]
     },
     "execution_count": 318,
     "metadata": {},
     "output_type": "execute_result"
    }
   ],
   "source": [
    "df2[\"Leather interior\"].unique()"
   ]
  },
  {
   "cell_type": "code",
   "execution_count": 319,
   "id": "364373fa",
   "metadata": {},
   "outputs": [
    {
     "data": {
      "text/plain": [
       "array(['Hybrid', 'Petrol', 'Diesel', 'CNG', 'Plug-in Hybrid', 'LPG',\n",
       "       'Hydrogen'], dtype=object)"
      ]
     },
     "execution_count": 319,
     "metadata": {},
     "output_type": "execute_result"
    }
   ],
   "source": [
    "df2[\"Fuel type\"].unique()\n"
   ]
  },
  {
   "cell_type": "code",
   "execution_count": 320,
   "id": "ba7df3f3",
   "metadata": {},
   "outputs": [
    {
     "data": {
      "text/plain": [
       "array([ 6.,  4.,  8.,  1., 12.,  3.,  2., 16.,  5.,  7.,  9., 10., 14.])"
      ]
     },
     "execution_count": 320,
     "metadata": {},
     "output_type": "execute_result"
    }
   ],
   "source": [
    "df2[\"Cylinders\"].unique()\n"
   ]
  },
  {
   "cell_type": "code",
   "execution_count": 321,
   "id": "bc404f53",
   "metadata": {},
   "outputs": [
    {
     "data": {
      "text/plain": [
       "array(['4x4', 'Front', 'Rear'], dtype=object)"
      ]
     },
     "execution_count": 321,
     "metadata": {},
     "output_type": "execute_result"
    }
   ],
   "source": [
    "df2[\"Drive wheels\"].unique()"
   ]
  },
  {
   "cell_type": "code",
   "execution_count": 322,
   "id": "6508e769",
   "metadata": {},
   "outputs": [
    {
     "name": "stderr",
     "output_type": "stream",
     "text": [
      "C:\\Users\\OWNER\\AppData\\Local\\Temp\\ipykernel_5696\\915572656.py:1: SettingWithCopyWarning: \n",
      "A value is trying to be set on a copy of a slice from a DataFrame.\n",
      "Try using .loc[row_indexer,col_indexer] = value instead\n",
      "\n",
      "See the caveats in the documentation: https://pandas.pydata.org/pandas-docs/stable/user_guide/indexing.html#returning-a-view-versus-a-copy\n",
      "  df2[\"Drive wheels\"]=df2[\"Drive wheels\"].replace('4x4',\"4WD\")\n"
     ]
    }
   ],
   "source": [
    "df2[\"Drive wheels\"]=df2[\"Drive wheels\"].replace('4x4',\"4WD\")"
   ]
  },
  {
   "cell_type": "code",
   "execution_count": 323,
   "id": "5298a76a",
   "metadata": {},
   "outputs": [
    {
     "data": {
      "text/plain": [
       "array(['4WD', 'Front', 'Rear'], dtype=object)"
      ]
     },
     "execution_count": 323,
     "metadata": {},
     "output_type": "execute_result"
    }
   ],
   "source": [
    "df2[\"Drive wheels\"].unique()"
   ]
  },
  {
   "cell_type": "code",
   "execution_count": 324,
   "id": "38bd147c",
   "metadata": {},
   "outputs": [],
   "source": [
    "df2[\"Doors\"].unique()\n",
    "#drop ths column\n",
    "df3=df2.drop([\"ID\",\"Levy\",\"Mileage\",\"Doors\"],axis=\"columns\")\n",
    "\n"
   ]
  },
  {
   "cell_type": "code",
   "execution_count": 325,
   "id": "2c06b936",
   "metadata": {},
   "outputs": [
    {
     "data": {
      "text/html": [
       "<div>\n",
       "<style scoped>\n",
       "    .dataframe tbody tr th:only-of-type {\n",
       "        vertical-align: middle;\n",
       "    }\n",
       "\n",
       "    .dataframe tbody tr th {\n",
       "        vertical-align: top;\n",
       "    }\n",
       "\n",
       "    .dataframe thead th {\n",
       "        text-align: right;\n",
       "    }\n",
       "</style>\n",
       "<table border=\"1\" class=\"dataframe\">\n",
       "  <thead>\n",
       "    <tr style=\"text-align: right;\">\n",
       "      <th></th>\n",
       "      <th>Price</th>\n",
       "      <th>Manufacturer</th>\n",
       "      <th>Model</th>\n",
       "      <th>Prod. year</th>\n",
       "      <th>Category</th>\n",
       "      <th>Leather interior</th>\n",
       "      <th>Fuel type</th>\n",
       "      <th>Engine volume</th>\n",
       "      <th>Cylinders</th>\n",
       "      <th>Gear box type</th>\n",
       "      <th>Drive wheels</th>\n",
       "      <th>Wheel</th>\n",
       "      <th>Color</th>\n",
       "      <th>Airbags</th>\n",
       "      <th>mileage_in_km</th>\n",
       "      <th>age</th>\n",
       "      <th>Engine Type</th>\n",
       "    </tr>\n",
       "  </thead>\n",
       "  <tbody>\n",
       "    <tr>\n",
       "      <th>0</th>\n",
       "      <td>13328</td>\n",
       "      <td>LEXUS</td>\n",
       "      <td>RX 450</td>\n",
       "      <td>2010</td>\n",
       "      <td>Jeep</td>\n",
       "      <td>Yes</td>\n",
       "      <td>Hybrid</td>\n",
       "      <td>3.5</td>\n",
       "      <td>6.0</td>\n",
       "      <td>Automatic</td>\n",
       "      <td>4WD</td>\n",
       "      <td>Left wheel</td>\n",
       "      <td>Silver</td>\n",
       "      <td>12</td>\n",
       "      <td>186005</td>\n",
       "      <td>13</td>\n",
       "      <td>Normal</td>\n",
       "    </tr>\n",
       "    <tr>\n",
       "      <th>1</th>\n",
       "      <td>16621</td>\n",
       "      <td>CHEVROLET</td>\n",
       "      <td>Equinox</td>\n",
       "      <td>2011</td>\n",
       "      <td>Jeep</td>\n",
       "      <td>No</td>\n",
       "      <td>Petrol</td>\n",
       "      <td>3.0</td>\n",
       "      <td>6.0</td>\n",
       "      <td>Tiptronic</td>\n",
       "      <td>4WD</td>\n",
       "      <td>Left wheel</td>\n",
       "      <td>Black</td>\n",
       "      <td>8</td>\n",
       "      <td>192000</td>\n",
       "      <td>12</td>\n",
       "      <td>Normal</td>\n",
       "    </tr>\n",
       "    <tr>\n",
       "      <th>2</th>\n",
       "      <td>8467</td>\n",
       "      <td>HONDA</td>\n",
       "      <td>FIT</td>\n",
       "      <td>2006</td>\n",
       "      <td>Hatchback</td>\n",
       "      <td>No</td>\n",
       "      <td>Petrol</td>\n",
       "      <td>1.3</td>\n",
       "      <td>4.0</td>\n",
       "      <td>Variator</td>\n",
       "      <td>Front</td>\n",
       "      <td>Right-hand drive</td>\n",
       "      <td>Black</td>\n",
       "      <td>2</td>\n",
       "      <td>200000</td>\n",
       "      <td>17</td>\n",
       "      <td>Normal</td>\n",
       "    </tr>\n",
       "    <tr>\n",
       "      <th>3</th>\n",
       "      <td>3607</td>\n",
       "      <td>FORD</td>\n",
       "      <td>Escape</td>\n",
       "      <td>2011</td>\n",
       "      <td>Jeep</td>\n",
       "      <td>Yes</td>\n",
       "      <td>Hybrid</td>\n",
       "      <td>2.5</td>\n",
       "      <td>4.0</td>\n",
       "      <td>Automatic</td>\n",
       "      <td>4WD</td>\n",
       "      <td>Left wheel</td>\n",
       "      <td>White</td>\n",
       "      <td>0</td>\n",
       "      <td>168966</td>\n",
       "      <td>12</td>\n",
       "      <td>Normal</td>\n",
       "    </tr>\n",
       "    <tr>\n",
       "      <th>4</th>\n",
       "      <td>11726</td>\n",
       "      <td>HONDA</td>\n",
       "      <td>FIT</td>\n",
       "      <td>2014</td>\n",
       "      <td>Hatchback</td>\n",
       "      <td>Yes</td>\n",
       "      <td>Petrol</td>\n",
       "      <td>1.3</td>\n",
       "      <td>4.0</td>\n",
       "      <td>Automatic</td>\n",
       "      <td>Front</td>\n",
       "      <td>Left wheel</td>\n",
       "      <td>Silver</td>\n",
       "      <td>4</td>\n",
       "      <td>91901</td>\n",
       "      <td>9</td>\n",
       "      <td>Normal</td>\n",
       "    </tr>\n",
       "  </tbody>\n",
       "</table>\n",
       "</div>"
      ],
      "text/plain": [
       "   Price Manufacturer    Model  Prod. year   Category Leather interior  \\\n",
       "0  13328        LEXUS   RX 450        2010       Jeep              Yes   \n",
       "1  16621    CHEVROLET  Equinox        2011       Jeep               No   \n",
       "2   8467        HONDA      FIT        2006  Hatchback               No   \n",
       "3   3607         FORD   Escape        2011       Jeep              Yes   \n",
       "4  11726        HONDA      FIT        2014  Hatchback              Yes   \n",
       "\n",
       "  Fuel type  Engine volume  Cylinders Gear box type Drive wheels  \\\n",
       "0    Hybrid            3.5        6.0     Automatic          4WD   \n",
       "1    Petrol            3.0        6.0     Tiptronic          4WD   \n",
       "2    Petrol            1.3        4.0      Variator        Front   \n",
       "3    Hybrid            2.5        4.0     Automatic          4WD   \n",
       "4    Petrol            1.3        4.0     Automatic        Front   \n",
       "\n",
       "              Wheel   Color  Airbags  mileage_in_km  age Engine Type  \n",
       "0        Left wheel  Silver       12         186005   13      Normal  \n",
       "1        Left wheel   Black        8         192000   12      Normal  \n",
       "2  Right-hand drive   Black        2         200000   17      Normal  \n",
       "3        Left wheel   White        0         168966   12      Normal  \n",
       "4        Left wheel  Silver        4          91901    9      Normal  "
      ]
     },
     "execution_count": 325,
     "metadata": {},
     "output_type": "execute_result"
    }
   ],
   "source": [
    "df3.head()"
   ]
  },
  {
   "cell_type": "code",
   "execution_count": 326,
   "id": "4a97df2f",
   "metadata": {},
   "outputs": [
    {
     "data": {
      "text/plain": [
       "array(['Left wheel', 'Right-hand drive'], dtype=object)"
      ]
     },
     "execution_count": 326,
     "metadata": {},
     "output_type": "execute_result"
    }
   ],
   "source": [
    "df3[\"Wheel\"].unique()"
   ]
  },
  {
   "cell_type": "code",
   "execution_count": 327,
   "id": "6dfb1303",
   "metadata": {},
   "outputs": [
    {
     "name": "stderr",
     "output_type": "stream",
     "text": [
      "C:\\Users\\OWNER\\AppData\\Local\\Temp\\ipykernel_5696\\3178115229.py:1: SettingWithCopyWarning: \n",
      "A value is trying to be set on a copy of a slice from a DataFrame.\n",
      "Try using .loc[row_indexer,col_indexer] = value instead\n",
      "\n",
      "See the caveats in the documentation: https://pandas.pydata.org/pandas-docs/stable/user_guide/indexing.html#returning-a-view-versus-a-copy\n",
      "  df2[\"Wheel\"]=df2[\"Wheel\"].replace('Right-hand drive',\"Right wheel\")\n"
     ]
    }
   ],
   "source": [
    "df2[\"Wheel\"]=df2[\"Wheel\"].replace('Right-hand drive',\"Right wheel\")"
   ]
  },
  {
   "cell_type": "code",
   "execution_count": 328,
   "id": "dd66291c",
   "metadata": {},
   "outputs": [
    {
     "data": {
      "text/html": [
       "<div>\n",
       "<style scoped>\n",
       "    .dataframe tbody tr th:only-of-type {\n",
       "        vertical-align: middle;\n",
       "    }\n",
       "\n",
       "    .dataframe tbody tr th {\n",
       "        vertical-align: top;\n",
       "    }\n",
       "\n",
       "    .dataframe thead th {\n",
       "        text-align: right;\n",
       "    }\n",
       "</style>\n",
       "<table border=\"1\" class=\"dataframe\">\n",
       "  <thead>\n",
       "    <tr style=\"text-align: right;\">\n",
       "      <th></th>\n",
       "      <th>Price</th>\n",
       "      <th>Manufacturer</th>\n",
       "      <th>Model</th>\n",
       "      <th>Prod. year</th>\n",
       "      <th>Category</th>\n",
       "      <th>Leather interior</th>\n",
       "      <th>Fuel type</th>\n",
       "      <th>Engine volume</th>\n",
       "      <th>Cylinders</th>\n",
       "      <th>Gear box type</th>\n",
       "      <th>Drive wheels</th>\n",
       "      <th>Wheel</th>\n",
       "      <th>Color</th>\n",
       "      <th>Airbags</th>\n",
       "      <th>mileage_in_km</th>\n",
       "      <th>age</th>\n",
       "      <th>Engine Type</th>\n",
       "    </tr>\n",
       "  </thead>\n",
       "  <tbody>\n",
       "    <tr>\n",
       "      <th>0</th>\n",
       "      <td>13328</td>\n",
       "      <td>LEXUS</td>\n",
       "      <td>RX 450</td>\n",
       "      <td>2010</td>\n",
       "      <td>Jeep</td>\n",
       "      <td>Yes</td>\n",
       "      <td>Hybrid</td>\n",
       "      <td>3.5</td>\n",
       "      <td>6.0</td>\n",
       "      <td>Automatic</td>\n",
       "      <td>4WD</td>\n",
       "      <td>Left wheel</td>\n",
       "      <td>Silver</td>\n",
       "      <td>12</td>\n",
       "      <td>186005</td>\n",
       "      <td>13</td>\n",
       "      <td>Normal</td>\n",
       "    </tr>\n",
       "    <tr>\n",
       "      <th>1</th>\n",
       "      <td>16621</td>\n",
       "      <td>CHEVROLET</td>\n",
       "      <td>Equinox</td>\n",
       "      <td>2011</td>\n",
       "      <td>Jeep</td>\n",
       "      <td>No</td>\n",
       "      <td>Petrol</td>\n",
       "      <td>3.0</td>\n",
       "      <td>6.0</td>\n",
       "      <td>Tiptronic</td>\n",
       "      <td>4WD</td>\n",
       "      <td>Left wheel</td>\n",
       "      <td>Black</td>\n",
       "      <td>8</td>\n",
       "      <td>192000</td>\n",
       "      <td>12</td>\n",
       "      <td>Normal</td>\n",
       "    </tr>\n",
       "    <tr>\n",
       "      <th>2</th>\n",
       "      <td>8467</td>\n",
       "      <td>HONDA</td>\n",
       "      <td>FIT</td>\n",
       "      <td>2006</td>\n",
       "      <td>Hatchback</td>\n",
       "      <td>No</td>\n",
       "      <td>Petrol</td>\n",
       "      <td>1.3</td>\n",
       "      <td>4.0</td>\n",
       "      <td>Variator</td>\n",
       "      <td>Front</td>\n",
       "      <td>Right-hand drive</td>\n",
       "      <td>Black</td>\n",
       "      <td>2</td>\n",
       "      <td>200000</td>\n",
       "      <td>17</td>\n",
       "      <td>Normal</td>\n",
       "    </tr>\n",
       "    <tr>\n",
       "      <th>3</th>\n",
       "      <td>3607</td>\n",
       "      <td>FORD</td>\n",
       "      <td>Escape</td>\n",
       "      <td>2011</td>\n",
       "      <td>Jeep</td>\n",
       "      <td>Yes</td>\n",
       "      <td>Hybrid</td>\n",
       "      <td>2.5</td>\n",
       "      <td>4.0</td>\n",
       "      <td>Automatic</td>\n",
       "      <td>4WD</td>\n",
       "      <td>Left wheel</td>\n",
       "      <td>White</td>\n",
       "      <td>0</td>\n",
       "      <td>168966</td>\n",
       "      <td>12</td>\n",
       "      <td>Normal</td>\n",
       "    </tr>\n",
       "    <tr>\n",
       "      <th>4</th>\n",
       "      <td>11726</td>\n",
       "      <td>HONDA</td>\n",
       "      <td>FIT</td>\n",
       "      <td>2014</td>\n",
       "      <td>Hatchback</td>\n",
       "      <td>Yes</td>\n",
       "      <td>Petrol</td>\n",
       "      <td>1.3</td>\n",
       "      <td>4.0</td>\n",
       "      <td>Automatic</td>\n",
       "      <td>Front</td>\n",
       "      <td>Left wheel</td>\n",
       "      <td>Silver</td>\n",
       "      <td>4</td>\n",
       "      <td>91901</td>\n",
       "      <td>9</td>\n",
       "      <td>Normal</td>\n",
       "    </tr>\n",
       "  </tbody>\n",
       "</table>\n",
       "</div>"
      ],
      "text/plain": [
       "   Price Manufacturer    Model  Prod. year   Category Leather interior  \\\n",
       "0  13328        LEXUS   RX 450        2010       Jeep              Yes   \n",
       "1  16621    CHEVROLET  Equinox        2011       Jeep               No   \n",
       "2   8467        HONDA      FIT        2006  Hatchback               No   \n",
       "3   3607         FORD   Escape        2011       Jeep              Yes   \n",
       "4  11726        HONDA      FIT        2014  Hatchback              Yes   \n",
       "\n",
       "  Fuel type  Engine volume  Cylinders Gear box type Drive wheels  \\\n",
       "0    Hybrid            3.5        6.0     Automatic          4WD   \n",
       "1    Petrol            3.0        6.0     Tiptronic          4WD   \n",
       "2    Petrol            1.3        4.0      Variator        Front   \n",
       "3    Hybrid            2.5        4.0     Automatic          4WD   \n",
       "4    Petrol            1.3        4.0     Automatic        Front   \n",
       "\n",
       "              Wheel   Color  Airbags  mileage_in_km  age Engine Type  \n",
       "0        Left wheel  Silver       12         186005   13      Normal  \n",
       "1        Left wheel   Black        8         192000   12      Normal  \n",
       "2  Right-hand drive   Black        2         200000   17      Normal  \n",
       "3        Left wheel   White        0         168966   12      Normal  \n",
       "4        Left wheel  Silver        4          91901    9      Normal  "
      ]
     },
     "execution_count": 328,
     "metadata": {},
     "output_type": "execute_result"
    }
   ],
   "source": [
    "df3.head()"
   ]
  },
  {
   "cell_type": "code",
   "execution_count": 329,
   "id": "588d7249",
   "metadata": {},
   "outputs": [],
   "source": [
    "df3=df3.drop([\"Model\",\"Color\",\"Prod. year\"],axis=\"columns\")"
   ]
  },
  {
   "cell_type": "code",
   "execution_count": 330,
   "id": "3f29377a",
   "metadata": {},
   "outputs": [
    {
     "data": {
      "text/plain": [
       "count    1.870500e+04\n",
       "mean     1.870246e+04\n",
       "std      1.932493e+05\n",
       "min      1.000000e+00\n",
       "25%      5.331000e+03\n",
       "50%      1.317200e+04\n",
       "75%      2.235700e+04\n",
       "max      2.630750e+07\n",
       "Name: Price, dtype: float64"
      ]
     },
     "execution_count": 330,
     "metadata": {},
     "output_type": "execute_result"
    }
   ],
   "source": [
    "df3[\"Price\"].describe()\n"
   ]
  },
  {
   "cell_type": "code",
   "execution_count": 331,
   "id": "19a78dd4",
   "metadata": {},
   "outputs": [
    {
     "data": {
      "text/html": [
       "<div>\n",
       "<style scoped>\n",
       "    .dataframe tbody tr th:only-of-type {\n",
       "        vertical-align: middle;\n",
       "    }\n",
       "\n",
       "    .dataframe tbody tr th {\n",
       "        vertical-align: top;\n",
       "    }\n",
       "\n",
       "    .dataframe thead th {\n",
       "        text-align: right;\n",
       "    }\n",
       "</style>\n",
       "<table border=\"1\" class=\"dataframe\">\n",
       "  <thead>\n",
       "    <tr style=\"text-align: right;\">\n",
       "      <th></th>\n",
       "      <th>Price</th>\n",
       "      <th>Manufacturer</th>\n",
       "      <th>Category</th>\n",
       "      <th>Leather interior</th>\n",
       "      <th>Fuel type</th>\n",
       "      <th>Engine volume</th>\n",
       "      <th>Cylinders</th>\n",
       "      <th>Gear box type</th>\n",
       "      <th>Drive wheels</th>\n",
       "      <th>Wheel</th>\n",
       "      <th>Airbags</th>\n",
       "      <th>mileage_in_km</th>\n",
       "      <th>age</th>\n",
       "      <th>Engine Type</th>\n",
       "    </tr>\n",
       "  </thead>\n",
       "  <tbody>\n",
       "    <tr>\n",
       "      <th>16983</th>\n",
       "      <td>26307500</td>\n",
       "      <td>OPEL</td>\n",
       "      <td>Goods wagon</td>\n",
       "      <td>No</td>\n",
       "      <td>Diesel</td>\n",
       "      <td>1.7</td>\n",
       "      <td>4.0</td>\n",
       "      <td>Manual</td>\n",
       "      <td>Front</td>\n",
       "      <td>Left wheel</td>\n",
       "      <td>0</td>\n",
       "      <td>99999</td>\n",
       "      <td>24</td>\n",
       "      <td>Normal</td>\n",
       "    </tr>\n",
       "  </tbody>\n",
       "</table>\n",
       "</div>"
      ],
      "text/plain": [
       "          Price Manufacturer     Category Leather interior Fuel type  \\\n",
       "16983  26307500         OPEL  Goods wagon               No    Diesel   \n",
       "\n",
       "       Engine volume  Cylinders Gear box type Drive wheels       Wheel  \\\n",
       "16983            1.7        4.0        Manual        Front  Left wheel   \n",
       "\n",
       "       Airbags  mileage_in_km  age Engine Type  \n",
       "16983        0          99999   24      Normal  "
      ]
     },
     "execution_count": 331,
     "metadata": {},
     "output_type": "execute_result"
    }
   ],
   "source": [
    "df3[df3[\"Price\"]==2.630750e+07]"
   ]
  },
  {
   "cell_type": "code",
   "execution_count": 332,
   "id": "165f077d",
   "metadata": {},
   "outputs": [
    {
     "data": {
      "text/html": [
       "<div>\n",
       "<style scoped>\n",
       "    .dataframe tbody tr th:only-of-type {\n",
       "        vertical-align: middle;\n",
       "    }\n",
       "\n",
       "    .dataframe tbody tr th {\n",
       "        vertical-align: top;\n",
       "    }\n",
       "\n",
       "    .dataframe thead th {\n",
       "        text-align: right;\n",
       "    }\n",
       "</style>\n",
       "<table border=\"1\" class=\"dataframe\">\n",
       "  <thead>\n",
       "    <tr style=\"text-align: right;\">\n",
       "      <th></th>\n",
       "      <th>Price</th>\n",
       "      <th>Manufacturer</th>\n",
       "      <th>Category</th>\n",
       "      <th>Leather interior</th>\n",
       "      <th>Fuel type</th>\n",
       "      <th>Engine volume</th>\n",
       "      <th>Cylinders</th>\n",
       "      <th>Gear box type</th>\n",
       "      <th>Drive wheels</th>\n",
       "      <th>Wheel</th>\n",
       "      <th>Airbags</th>\n",
       "      <th>mileage_in_km</th>\n",
       "      <th>age</th>\n",
       "      <th>Engine Type</th>\n",
       "      <th>zscore_price</th>\n",
       "    </tr>\n",
       "  </thead>\n",
       "  <tbody>\n",
       "    <tr>\n",
       "      <th>0</th>\n",
       "      <td>13328</td>\n",
       "      <td>LEXUS</td>\n",
       "      <td>Jeep</td>\n",
       "      <td>Yes</td>\n",
       "      <td>Hybrid</td>\n",
       "      <td>3.5</td>\n",
       "      <td>6.0</td>\n",
       "      <td>Automatic</td>\n",
       "      <td>4WD</td>\n",
       "      <td>Left wheel</td>\n",
       "      <td>12</td>\n",
       "      <td>186005</td>\n",
       "      <td>13</td>\n",
       "      <td>Normal</td>\n",
       "      <td>-0.027812</td>\n",
       "    </tr>\n",
       "    <tr>\n",
       "      <th>1</th>\n",
       "      <td>16621</td>\n",
       "      <td>CHEVROLET</td>\n",
       "      <td>Jeep</td>\n",
       "      <td>No</td>\n",
       "      <td>Petrol</td>\n",
       "      <td>3.0</td>\n",
       "      <td>6.0</td>\n",
       "      <td>Tiptronic</td>\n",
       "      <td>4WD</td>\n",
       "      <td>Left wheel</td>\n",
       "      <td>8</td>\n",
       "      <td>192000</td>\n",
       "      <td>12</td>\n",
       "      <td>Normal</td>\n",
       "      <td>-0.010771</td>\n",
       "    </tr>\n",
       "    <tr>\n",
       "      <th>2</th>\n",
       "      <td>8467</td>\n",
       "      <td>HONDA</td>\n",
       "      <td>Hatchback</td>\n",
       "      <td>No</td>\n",
       "      <td>Petrol</td>\n",
       "      <td>1.3</td>\n",
       "      <td>4.0</td>\n",
       "      <td>Variator</td>\n",
       "      <td>Front</td>\n",
       "      <td>Right-hand drive</td>\n",
       "      <td>2</td>\n",
       "      <td>200000</td>\n",
       "      <td>17</td>\n",
       "      <td>Normal</td>\n",
       "      <td>-0.052966</td>\n",
       "    </tr>\n",
       "    <tr>\n",
       "      <th>3</th>\n",
       "      <td>3607</td>\n",
       "      <td>FORD</td>\n",
       "      <td>Jeep</td>\n",
       "      <td>Yes</td>\n",
       "      <td>Hybrid</td>\n",
       "      <td>2.5</td>\n",
       "      <td>4.0</td>\n",
       "      <td>Automatic</td>\n",
       "      <td>4WD</td>\n",
       "      <td>Left wheel</td>\n",
       "      <td>0</td>\n",
       "      <td>168966</td>\n",
       "      <td>12</td>\n",
       "      <td>Normal</td>\n",
       "      <td>-0.078116</td>\n",
       "    </tr>\n",
       "    <tr>\n",
       "      <th>4</th>\n",
       "      <td>11726</td>\n",
       "      <td>HONDA</td>\n",
       "      <td>Hatchback</td>\n",
       "      <td>Yes</td>\n",
       "      <td>Petrol</td>\n",
       "      <td>1.3</td>\n",
       "      <td>4.0</td>\n",
       "      <td>Automatic</td>\n",
       "      <td>Front</td>\n",
       "      <td>Left wheel</td>\n",
       "      <td>4</td>\n",
       "      <td>91901</td>\n",
       "      <td>9</td>\n",
       "      <td>Normal</td>\n",
       "      <td>-0.036102</td>\n",
       "    </tr>\n",
       "  </tbody>\n",
       "</table>\n",
       "</div>"
      ],
      "text/plain": [
       "   Price Manufacturer   Category Leather interior Fuel type  Engine volume  \\\n",
       "0  13328        LEXUS       Jeep              Yes    Hybrid            3.5   \n",
       "1  16621    CHEVROLET       Jeep               No    Petrol            3.0   \n",
       "2   8467        HONDA  Hatchback               No    Petrol            1.3   \n",
       "3   3607         FORD       Jeep              Yes    Hybrid            2.5   \n",
       "4  11726        HONDA  Hatchback              Yes    Petrol            1.3   \n",
       "\n",
       "   Cylinders Gear box type Drive wheels             Wheel  Airbags  \\\n",
       "0        6.0     Automatic          4WD        Left wheel       12   \n",
       "1        6.0     Tiptronic          4WD        Left wheel        8   \n",
       "2        4.0      Variator        Front  Right-hand drive        2   \n",
       "3        4.0     Automatic          4WD        Left wheel        0   \n",
       "4        4.0     Automatic        Front        Left wheel        4   \n",
       "\n",
       "   mileage_in_km  age Engine Type  zscore_price  \n",
       "0         186005   13      Normal     -0.027812  \n",
       "1         192000   12      Normal     -0.010771  \n",
       "2         200000   17      Normal     -0.052966  \n",
       "3         168966   12      Normal     -0.078116  \n",
       "4          91901    9      Normal     -0.036102  "
      ]
     },
     "execution_count": 332,
     "metadata": {},
     "output_type": "execute_result"
    }
   ],
   "source": [
    "from scipy.stats import zscore\n",
    "df3[\"zscore_price\"]=zscore(df3.Price)\n",
    "df3.head()"
   ]
  },
  {
   "cell_type": "code",
   "execution_count": 333,
   "id": "90df4a37",
   "metadata": {},
   "outputs": [
    {
     "data": {
      "text/html": [
       "<div>\n",
       "<style scoped>\n",
       "    .dataframe tbody tr th:only-of-type {\n",
       "        vertical-align: middle;\n",
       "    }\n",
       "\n",
       "    .dataframe tbody tr th {\n",
       "        vertical-align: top;\n",
       "    }\n",
       "\n",
       "    .dataframe thead th {\n",
       "        text-align: right;\n",
       "    }\n",
       "</style>\n",
       "<table border=\"1\" class=\"dataframe\">\n",
       "  <thead>\n",
       "    <tr style=\"text-align: right;\">\n",
       "      <th></th>\n",
       "      <th>Price</th>\n",
       "      <th>Manufacturer</th>\n",
       "      <th>Category</th>\n",
       "      <th>Leather interior</th>\n",
       "      <th>Fuel type</th>\n",
       "      <th>Engine volume</th>\n",
       "      <th>Cylinders</th>\n",
       "      <th>Gear box type</th>\n",
       "      <th>Drive wheels</th>\n",
       "      <th>Wheel</th>\n",
       "      <th>Airbags</th>\n",
       "      <th>mileage_in_km</th>\n",
       "      <th>age</th>\n",
       "      <th>Engine Type</th>\n",
       "      <th>zscore_price</th>\n",
       "    </tr>\n",
       "  </thead>\n",
       "  <tbody>\n",
       "    <tr>\n",
       "      <th>0</th>\n",
       "      <td>13328</td>\n",
       "      <td>LEXUS</td>\n",
       "      <td>Jeep</td>\n",
       "      <td>Yes</td>\n",
       "      <td>Hybrid</td>\n",
       "      <td>3.5</td>\n",
       "      <td>6.0</td>\n",
       "      <td>Automatic</td>\n",
       "      <td>4WD</td>\n",
       "      <td>Left wheel</td>\n",
       "      <td>12</td>\n",
       "      <td>186005</td>\n",
       "      <td>13</td>\n",
       "      <td>Normal</td>\n",
       "      <td>-0.027812</td>\n",
       "    </tr>\n",
       "    <tr>\n",
       "      <th>1</th>\n",
       "      <td>16621</td>\n",
       "      <td>CHEVROLET</td>\n",
       "      <td>Jeep</td>\n",
       "      <td>No</td>\n",
       "      <td>Petrol</td>\n",
       "      <td>3.0</td>\n",
       "      <td>6.0</td>\n",
       "      <td>Tiptronic</td>\n",
       "      <td>4WD</td>\n",
       "      <td>Left wheel</td>\n",
       "      <td>8</td>\n",
       "      <td>192000</td>\n",
       "      <td>12</td>\n",
       "      <td>Normal</td>\n",
       "      <td>-0.010771</td>\n",
       "    </tr>\n",
       "    <tr>\n",
       "      <th>2</th>\n",
       "      <td>8467</td>\n",
       "      <td>HONDA</td>\n",
       "      <td>Hatchback</td>\n",
       "      <td>No</td>\n",
       "      <td>Petrol</td>\n",
       "      <td>1.3</td>\n",
       "      <td>4.0</td>\n",
       "      <td>Variator</td>\n",
       "      <td>Front</td>\n",
       "      <td>Right-hand drive</td>\n",
       "      <td>2</td>\n",
       "      <td>200000</td>\n",
       "      <td>17</td>\n",
       "      <td>Normal</td>\n",
       "      <td>-0.052966</td>\n",
       "    </tr>\n",
       "    <tr>\n",
       "      <th>3</th>\n",
       "      <td>3607</td>\n",
       "      <td>FORD</td>\n",
       "      <td>Jeep</td>\n",
       "      <td>Yes</td>\n",
       "      <td>Hybrid</td>\n",
       "      <td>2.5</td>\n",
       "      <td>4.0</td>\n",
       "      <td>Automatic</td>\n",
       "      <td>4WD</td>\n",
       "      <td>Left wheel</td>\n",
       "      <td>0</td>\n",
       "      <td>168966</td>\n",
       "      <td>12</td>\n",
       "      <td>Normal</td>\n",
       "      <td>-0.078116</td>\n",
       "    </tr>\n",
       "    <tr>\n",
       "      <th>4</th>\n",
       "      <td>11726</td>\n",
       "      <td>HONDA</td>\n",
       "      <td>Hatchback</td>\n",
       "      <td>Yes</td>\n",
       "      <td>Petrol</td>\n",
       "      <td>1.3</td>\n",
       "      <td>4.0</td>\n",
       "      <td>Automatic</td>\n",
       "      <td>Front</td>\n",
       "      <td>Left wheel</td>\n",
       "      <td>4</td>\n",
       "      <td>91901</td>\n",
       "      <td>9</td>\n",
       "      <td>Normal</td>\n",
       "      <td>-0.036102</td>\n",
       "    </tr>\n",
       "  </tbody>\n",
       "</table>\n",
       "</div>"
      ],
      "text/plain": [
       "   Price Manufacturer   Category Leather interior Fuel type  Engine volume  \\\n",
       "0  13328        LEXUS       Jeep              Yes    Hybrid            3.5   \n",
       "1  16621    CHEVROLET       Jeep               No    Petrol            3.0   \n",
       "2   8467        HONDA  Hatchback               No    Petrol            1.3   \n",
       "3   3607         FORD       Jeep              Yes    Hybrid            2.5   \n",
       "4  11726        HONDA  Hatchback              Yes    Petrol            1.3   \n",
       "\n",
       "   Cylinders Gear box type Drive wheels             Wheel  Airbags  \\\n",
       "0        6.0     Automatic          4WD        Left wheel       12   \n",
       "1        6.0     Tiptronic          4WD        Left wheel        8   \n",
       "2        4.0      Variator        Front  Right-hand drive        2   \n",
       "3        4.0     Automatic          4WD        Left wheel        0   \n",
       "4        4.0     Automatic        Front        Left wheel        4   \n",
       "\n",
       "   mileage_in_km  age Engine Type  zscore_price  \n",
       "0         186005   13      Normal     -0.027812  \n",
       "1         192000   12      Normal     -0.010771  \n",
       "2         200000   17      Normal     -0.052966  \n",
       "3         168966   12      Normal     -0.078116  \n",
       "4          91901    9      Normal     -0.036102  "
      ]
     },
     "execution_count": 333,
     "metadata": {},
     "output_type": "execute_result"
    }
   ],
   "source": [
    "df4=df3.copy()\n",
    "df4.head()"
   ]
  },
  {
   "cell_type": "code",
   "execution_count": 334,
   "id": "98123757",
   "metadata": {},
   "outputs": [
    {
     "data": {
      "text/html": [
       "<div>\n",
       "<style scoped>\n",
       "    .dataframe tbody tr th:only-of-type {\n",
       "        vertical-align: middle;\n",
       "    }\n",
       "\n",
       "    .dataframe tbody tr th {\n",
       "        vertical-align: top;\n",
       "    }\n",
       "\n",
       "    .dataframe thead th {\n",
       "        text-align: right;\n",
       "    }\n",
       "</style>\n",
       "<table border=\"1\" class=\"dataframe\">\n",
       "  <thead>\n",
       "    <tr style=\"text-align: right;\">\n",
       "      <th></th>\n",
       "      <th>Price</th>\n",
       "      <th>Manufacturer</th>\n",
       "      <th>Category</th>\n",
       "      <th>Leather interior</th>\n",
       "      <th>Fuel type</th>\n",
       "      <th>Engine volume</th>\n",
       "      <th>Cylinders</th>\n",
       "      <th>Gear box type</th>\n",
       "      <th>Drive wheels</th>\n",
       "      <th>Wheel</th>\n",
       "      <th>Airbags</th>\n",
       "      <th>mileage_in_km</th>\n",
       "      <th>age</th>\n",
       "      <th>Engine Type</th>\n",
       "      <th>zscore_price</th>\n",
       "    </tr>\n",
       "  </thead>\n",
       "  <tbody>\n",
       "    <tr>\n",
       "      <th>0</th>\n",
       "      <td>13328</td>\n",
       "      <td>LEXUS</td>\n",
       "      <td>Jeep</td>\n",
       "      <td>Yes</td>\n",
       "      <td>Hybrid</td>\n",
       "      <td>3.5</td>\n",
       "      <td>6.0</td>\n",
       "      <td>Automatic</td>\n",
       "      <td>4WD</td>\n",
       "      <td>Left wheel</td>\n",
       "      <td>12</td>\n",
       "      <td>186005</td>\n",
       "      <td>13</td>\n",
       "      <td>Normal</td>\n",
       "      <td>-0.027812</td>\n",
       "    </tr>\n",
       "    <tr>\n",
       "      <th>1</th>\n",
       "      <td>16621</td>\n",
       "      <td>CHEVROLET</td>\n",
       "      <td>Jeep</td>\n",
       "      <td>No</td>\n",
       "      <td>Petrol</td>\n",
       "      <td>3.0</td>\n",
       "      <td>6.0</td>\n",
       "      <td>Tiptronic</td>\n",
       "      <td>4WD</td>\n",
       "      <td>Left wheel</td>\n",
       "      <td>8</td>\n",
       "      <td>192000</td>\n",
       "      <td>12</td>\n",
       "      <td>Normal</td>\n",
       "      <td>-0.010771</td>\n",
       "    </tr>\n",
       "    <tr>\n",
       "      <th>2</th>\n",
       "      <td>8467</td>\n",
       "      <td>HONDA</td>\n",
       "      <td>Hatchback</td>\n",
       "      <td>No</td>\n",
       "      <td>Petrol</td>\n",
       "      <td>1.3</td>\n",
       "      <td>4.0</td>\n",
       "      <td>Variator</td>\n",
       "      <td>Front</td>\n",
       "      <td>Right-hand drive</td>\n",
       "      <td>2</td>\n",
       "      <td>200000</td>\n",
       "      <td>17</td>\n",
       "      <td>Normal</td>\n",
       "      <td>-0.052966</td>\n",
       "    </tr>\n",
       "    <tr>\n",
       "      <th>3</th>\n",
       "      <td>3607</td>\n",
       "      <td>FORD</td>\n",
       "      <td>Jeep</td>\n",
       "      <td>Yes</td>\n",
       "      <td>Hybrid</td>\n",
       "      <td>2.5</td>\n",
       "      <td>4.0</td>\n",
       "      <td>Automatic</td>\n",
       "      <td>4WD</td>\n",
       "      <td>Left wheel</td>\n",
       "      <td>0</td>\n",
       "      <td>168966</td>\n",
       "      <td>12</td>\n",
       "      <td>Normal</td>\n",
       "      <td>-0.078116</td>\n",
       "    </tr>\n",
       "    <tr>\n",
       "      <th>4</th>\n",
       "      <td>11726</td>\n",
       "      <td>HONDA</td>\n",
       "      <td>Hatchback</td>\n",
       "      <td>Yes</td>\n",
       "      <td>Petrol</td>\n",
       "      <td>1.3</td>\n",
       "      <td>4.0</td>\n",
       "      <td>Automatic</td>\n",
       "      <td>Front</td>\n",
       "      <td>Left wheel</td>\n",
       "      <td>4</td>\n",
       "      <td>91901</td>\n",
       "      <td>9</td>\n",
       "      <td>Normal</td>\n",
       "      <td>-0.036102</td>\n",
       "    </tr>\n",
       "  </tbody>\n",
       "</table>\n",
       "</div>"
      ],
      "text/plain": [
       "   Price Manufacturer   Category Leather interior Fuel type  Engine volume  \\\n",
       "0  13328        LEXUS       Jeep              Yes    Hybrid            3.5   \n",
       "1  16621    CHEVROLET       Jeep               No    Petrol            3.0   \n",
       "2   8467        HONDA  Hatchback               No    Petrol            1.3   \n",
       "3   3607         FORD       Jeep              Yes    Hybrid            2.5   \n",
       "4  11726        HONDA  Hatchback              Yes    Petrol            1.3   \n",
       "\n",
       "   Cylinders Gear box type Drive wheels             Wheel  Airbags  \\\n",
       "0        6.0     Automatic          4WD        Left wheel       12   \n",
       "1        6.0     Tiptronic          4WD        Left wheel        8   \n",
       "2        4.0      Variator        Front  Right-hand drive        2   \n",
       "3        4.0     Automatic          4WD        Left wheel        0   \n",
       "4        4.0     Automatic        Front        Left wheel        4   \n",
       "\n",
       "   mileage_in_km  age Engine Type  zscore_price  \n",
       "0         186005   13      Normal     -0.027812  \n",
       "1         192000   12      Normal     -0.010771  \n",
       "2         200000   17      Normal     -0.052966  \n",
       "3         168966   12      Normal     -0.078116  \n",
       "4          91901    9      Normal     -0.036102  "
      ]
     },
     "execution_count": 334,
     "metadata": {},
     "output_type": "execute_result"
    }
   ],
   "source": [
    "df4=df4[(df4[\"zscore_price\"]>-3) & (df4[\"zscore_price\"]<3)]\n",
    "df4.head()"
   ]
  },
  {
   "cell_type": "code",
   "execution_count": 335,
   "id": "f397def5",
   "metadata": {},
   "outputs": [
    {
     "data": {
      "image/png": "[encoded data removed]",
      "text/plain": [
       "<Figure size 640x480 with 1 Axes>"
      ]
     },
     "metadata": {},
     "output_type": "display_data"
    }
   ],
   "source": [
    "plt.hist(df4.Price, rwidth=0.8)\n",
    "plt.xlabel('Price')\n",
    "plt.ylabel('Count')\n",
    "plt.show()"
   ]
  },
  {
   "cell_type": "code",
   "execution_count": 336,
   "id": "436a80bc",
   "metadata": {},
   "outputs": [
    {
     "data": {
      "text/plain": [
       "3.469094505292731"
      ]
     },
     "execution_count": 336,
     "metadata": {},
     "output_type": "execute_result"
    }
   ],
   "source": [
    "original_skew=df4[\"Price\"].skew()\n",
    "original_skew"
   ]
  },
  {
   "cell_type": "code",
   "execution_count": 337,
   "id": "9e2223fa",
   "metadata": {},
   "outputs": [
    {
     "data": {
      "text/plain": [
       "-1.3940325774990028"
      ]
     },
     "execution_count": 337,
     "metadata": {},
     "output_type": "execute_result"
    }
   ],
   "source": [
    "import numpy as np\n",
    "transformed_skew=np.log1p(df4[\"Price\"])\n",
    "transformed_skew.skew()"
   ]
  },
  {
   "cell_type": "code",
   "execution_count": 338,
   "id": "33b9b9b4",
   "metadata": {},
   "outputs": [
    {
     "data": {
      "image/png": "[encoded data removed]",
      "text/plain": [
       "<Figure size 640x480 with 1 Axes>"
      ]
     },
     "metadata": {},
     "output_type": "display_data"
    }
   ],
   "source": [
    "plt.hist(transformed_skew, rwidth=0.8)\n",
    "plt.xlabel('Price')\n",
    "plt.ylabel('Count')\n",
    "plt.show()"
   ]
  },
  {
   "cell_type": "code",
   "execution_count": 339,
   "id": "3247db9b",
   "metadata": {},
   "outputs": [
    {
     "data": {
      "text/plain": [
       "0.5893735662256152"
      ]
     },
     "execution_count": 339,
     "metadata": {},
     "output_type": "execute_result"
    }
   ],
   "source": [
    "sqrt = np.sqrt(df4[\"Price\"])\n",
    "sqrt.skew()"
   ]
  },
  {
   "cell_type": "code",
   "execution_count": 340,
   "id": "193091ea",
   "metadata": {},
   "outputs": [
    {
     "data": {
      "image/png": "[encoded data removed]",
      "text/plain": [
       "<Figure size 640x480 with 1 Axes>"
      ]
     },
     "metadata": {},
     "output_type": "display_data"
    }
   ],
   "source": [
    "plt.hist(sqrt, rwidth=0.8)\n",
    "plt.xlabel('Price')\n",
    "plt.ylabel('Count')\n",
    "plt.show()"
   ]
  },
  {
   "cell_type": "code",
   "execution_count": 341,
   "id": "973bb998",
   "metadata": {},
   "outputs": [
    {
     "name": "stdout",
     "output_type": "stream",
     "text": [
      "Skewness of Transformed Data: -0.08277129870423253\n",
      "lamda value is : 0.33167103904500894\n"
     ]
    }
   ],
   "source": [
    "from scipy.stats import boxcox\n",
    "transformed_boxcox, lambda_value = boxcox(df4['Price'])\n",
    "\n",
    "# C\n",
    "skewness = pd.Series(transformed_boxcox).skew()\n",
    "print(\"Skewness of Transformed Data:\", skewness)\n",
    "print(\"lamda value is :\" ,lambda_value)\n"
   ]
  },
  {
   "cell_type": "code",
   "execution_count": 342,
   "id": "38ed0a29",
   "metadata": {},
   "outputs": [
    {
     "data": {
      "image/png": "[encoded data removed]",
      "text/plain": [
       "<Figure size 640x480 with 1 Axes>"
      ]
     },
     "metadata": {},
     "output_type": "display_data"
    }
   ],
   "source": [
    "plt.hist(transformed_boxcox, rwidth=0.8)\n",
    "plt.xlabel('Price')\n",
    "plt.ylabel('Count')\n",
    "plt.show()"
   ]
  },
  {
   "cell_type": "code",
   "execution_count": 343,
   "id": "e44fafe5",
   "metadata": {},
   "outputs": [
    {
     "data": {
      "text/html": [
       "<div>\n",
       "<style scoped>\n",
       "    .dataframe tbody tr th:only-of-type {\n",
       "        vertical-align: middle;\n",
       "    }\n",
       "\n",
       "    .dataframe tbody tr th {\n",
       "        vertical-align: top;\n",
       "    }\n",
       "\n",
       "    .dataframe thead th {\n",
       "        text-align: right;\n",
       "    }\n",
       "</style>\n",
       "<table border=\"1\" class=\"dataframe\">\n",
       "  <thead>\n",
       "    <tr style=\"text-align: right;\">\n",
       "      <th></th>\n",
       "      <th>Price</th>\n",
       "      <th>Manufacturer</th>\n",
       "      <th>Category</th>\n",
       "      <th>Leather interior</th>\n",
       "      <th>Fuel type</th>\n",
       "      <th>Engine volume</th>\n",
       "      <th>Cylinders</th>\n",
       "      <th>Gear box type</th>\n",
       "      <th>Drive wheels</th>\n",
       "      <th>Wheel</th>\n",
       "      <th>Airbags</th>\n",
       "      <th>mileage_in_km</th>\n",
       "      <th>age</th>\n",
       "      <th>Engine Type</th>\n",
       "      <th>zscore_price</th>\n",
       "      <th>price_boxcox</th>\n",
       "    </tr>\n",
       "  </thead>\n",
       "  <tbody>\n",
       "    <tr>\n",
       "      <th>0</th>\n",
       "      <td>13328</td>\n",
       "      <td>LEXUS</td>\n",
       "      <td>Jeep</td>\n",
       "      <td>Yes</td>\n",
       "      <td>Hybrid</td>\n",
       "      <td>3.5</td>\n",
       "      <td>6.0</td>\n",
       "      <td>Automatic</td>\n",
       "      <td>4WD</td>\n",
       "      <td>Left wheel</td>\n",
       "      <td>12</td>\n",
       "      <td>186005</td>\n",
       "      <td>13</td>\n",
       "      <td>Normal</td>\n",
       "      <td>-0.027812</td>\n",
       "      <td>67.350101</td>\n",
       "    </tr>\n",
       "    <tr>\n",
       "      <th>1</th>\n",
       "      <td>16621</td>\n",
       "      <td>CHEVROLET</td>\n",
       "      <td>Jeep</td>\n",
       "      <td>No</td>\n",
       "      <td>Petrol</td>\n",
       "      <td>3.0</td>\n",
       "      <td>6.0</td>\n",
       "      <td>Tiptronic</td>\n",
       "      <td>4WD</td>\n",
       "      <td>Left wheel</td>\n",
       "      <td>8</td>\n",
       "      <td>192000</td>\n",
       "      <td>12</td>\n",
       "      <td>Normal</td>\n",
       "      <td>-0.010771</td>\n",
       "      <td>72.696524</td>\n",
       "    </tr>\n",
       "    <tr>\n",
       "      <th>2</th>\n",
       "      <td>8467</td>\n",
       "      <td>HONDA</td>\n",
       "      <td>Hatchback</td>\n",
       "      <td>No</td>\n",
       "      <td>Petrol</td>\n",
       "      <td>1.3</td>\n",
       "      <td>4.0</td>\n",
       "      <td>Variator</td>\n",
       "      <td>Front</td>\n",
       "      <td>Right-hand drive</td>\n",
       "      <td>2</td>\n",
       "      <td>200000</td>\n",
       "      <td>17</td>\n",
       "      <td>Normal</td>\n",
       "      <td>-0.052966</td>\n",
       "      <td>57.519971</td>\n",
       "    </tr>\n",
       "    <tr>\n",
       "      <th>3</th>\n",
       "      <td>3607</td>\n",
       "      <td>FORD</td>\n",
       "      <td>Jeep</td>\n",
       "      <td>Yes</td>\n",
       "      <td>Hybrid</td>\n",
       "      <td>2.5</td>\n",
       "      <td>4.0</td>\n",
       "      <td>Automatic</td>\n",
       "      <td>4WD</td>\n",
       "      <td>Left wheel</td>\n",
       "      <td>0</td>\n",
       "      <td>168966</td>\n",
       "      <td>12</td>\n",
       "      <td>Normal</td>\n",
       "      <td>-0.078116</td>\n",
       "      <td>42.598612</td>\n",
       "    </tr>\n",
       "    <tr>\n",
       "      <th>4</th>\n",
       "      <td>11726</td>\n",
       "      <td>HONDA</td>\n",
       "      <td>Hatchback</td>\n",
       "      <td>Yes</td>\n",
       "      <td>Petrol</td>\n",
       "      <td>1.3</td>\n",
       "      <td>4.0</td>\n",
       "      <td>Automatic</td>\n",
       "      <td>Front</td>\n",
       "      <td>Left wheel</td>\n",
       "      <td>4</td>\n",
       "      <td>91901</td>\n",
       "      <td>9</td>\n",
       "      <td>Normal</td>\n",
       "      <td>-0.036102</td>\n",
       "      <td>64.424042</td>\n",
       "    </tr>\n",
       "  </tbody>\n",
       "</table>\n",
       "</div>"
      ],
      "text/plain": [
       "   Price Manufacturer   Category Leather interior Fuel type  Engine volume  \\\n",
       "0  13328        LEXUS       Jeep              Yes    Hybrid            3.5   \n",
       "1  16621    CHEVROLET       Jeep               No    Petrol            3.0   \n",
       "2   8467        HONDA  Hatchback               No    Petrol            1.3   \n",
       "3   3607         FORD       Jeep              Yes    Hybrid            2.5   \n",
       "4  11726        HONDA  Hatchback              Yes    Petrol            1.3   \n",
       "\n",
       "   Cylinders Gear box type Drive wheels             Wheel  Airbags  \\\n",
       "0        6.0     Automatic          4WD        Left wheel       12   \n",
       "1        6.0     Tiptronic          4WD        Left wheel        8   \n",
       "2        4.0      Variator        Front  Right-hand drive        2   \n",
       "3        4.0     Automatic          4WD        Left wheel        0   \n",
       "4        4.0     Automatic        Front        Left wheel        4   \n",
       "\n",
       "   mileage_in_km  age Engine Type  zscore_price  price_boxcox  \n",
       "0         186005   13      Normal     -0.027812     67.350101  \n",
       "1         192000   12      Normal     -0.010771     72.696524  \n",
       "2         200000   17      Normal     -0.052966     57.519971  \n",
       "3         168966   12      Normal     -0.078116     42.598612  \n",
       "4          91901    9      Normal     -0.036102     64.424042  "
      ]
     },
     "execution_count": 343,
     "metadata": {},
     "output_type": "execute_result"
    }
   ],
   "source": [
    "df4[\"price_boxcox\"]=transformed_boxcox\n",
    "df4.head()"
   ]
  },
  {
   "cell_type": "code",
   "execution_count": 344,
   "id": "69fb8a42",
   "metadata": {},
   "outputs": [
    {
     "name": "stderr",
     "output_type": "stream",
     "text": [
      "C:\\Users\\OWNER\\AppData\\Local\\Temp\\ipykernel_5696\\1996974781.py:1: FutureWarning: The default value of numeric_only in DataFrame.corr is deprecated. In a future version, it will default to False. Select only valid columns or specify the value of numeric_only to silence this warning.\n",
      "  corr=df4.corr()\n"
     ]
    },
    {
     "data": {
      "text/html": [
       "<div>\n",
       "<style scoped>\n",
       "    .dataframe tbody tr th:only-of-type {\n",
       "        vertical-align: middle;\n",
       "    }\n",
       "\n",
       "    .dataframe tbody tr th {\n",
       "        vertical-align: top;\n",
       "    }\n",
       "\n",
       "    .dataframe thead th {\n",
       "        text-align: right;\n",
       "    }\n",
       "</style>\n",
       "<table border=\"1\" class=\"dataframe\">\n",
       "  <thead>\n",
       "    <tr style=\"text-align: right;\">\n",
       "      <th></th>\n",
       "      <th>Price</th>\n",
       "      <th>Engine volume</th>\n",
       "      <th>Cylinders</th>\n",
       "      <th>Airbags</th>\n",
       "      <th>mileage_in_km</th>\n",
       "      <th>age</th>\n",
       "      <th>zscore_price</th>\n",
       "      <th>price_boxcox</th>\n",
       "    </tr>\n",
       "  </thead>\n",
       "  <tbody>\n",
       "    <tr>\n",
       "      <th>Price</th>\n",
       "      <td>1.000000</td>\n",
       "      <td>0.130536</td>\n",
       "      <td>0.098367</td>\n",
       "      <td>-0.021744</td>\n",
       "      <td>-0.016360</td>\n",
       "      <td>-0.288402</td>\n",
       "      <td>1.000000</td>\n",
       "      <td>0.864405</td>\n",
       "    </tr>\n",
       "    <tr>\n",
       "      <th>Engine volume</th>\n",
       "      <td>0.130536</td>\n",
       "      <td>1.000000</td>\n",
       "      <td>0.800442</td>\n",
       "      <td>0.220984</td>\n",
       "      <td>-0.007126</td>\n",
       "      <td>0.043913</td>\n",
       "      <td>0.130536</td>\n",
       "      <td>0.019265</td>\n",
       "    </tr>\n",
       "    <tr>\n",
       "      <th>Cylinders</th>\n",
       "      <td>0.098367</td>\n",
       "      <td>0.800442</td>\n",
       "      <td>1.000000</td>\n",
       "      <td>0.168992</td>\n",
       "      <td>-0.001997</td>\n",
       "      <td>0.105290</td>\n",
       "      <td>0.098367</td>\n",
       "      <td>-0.001069</td>\n",
       "    </tr>\n",
       "    <tr>\n",
       "      <th>Airbags</th>\n",
       "      <td>-0.021744</td>\n",
       "      <td>0.220984</td>\n",
       "      <td>0.168992</td>\n",
       "      <td>1.000000</td>\n",
       "      <td>-0.009447</td>\n",
       "      <td>-0.232723</td>\n",
       "      <td>-0.021744</td>\n",
       "      <td>-0.085882</td>\n",
       "    </tr>\n",
       "    <tr>\n",
       "      <th>mileage_in_km</th>\n",
       "      <td>-0.016360</td>\n",
       "      <td>-0.007126</td>\n",
       "      <td>-0.001997</td>\n",
       "      <td>-0.009447</td>\n",
       "      <td>1.000000</td>\n",
       "      <td>0.065128</td>\n",
       "      <td>-0.016360</td>\n",
       "      <td>-0.018249</td>\n",
       "    </tr>\n",
       "    <tr>\n",
       "      <th>age</th>\n",
       "      <td>-0.288402</td>\n",
       "      <td>0.043913</td>\n",
       "      <td>0.105290</td>\n",
       "      <td>-0.232723</td>\n",
       "      <td>0.065128</td>\n",
       "      <td>1.000000</td>\n",
       "      <td>-0.288402</td>\n",
       "      <td>-0.226209</td>\n",
       "    </tr>\n",
       "    <tr>\n",
       "      <th>zscore_price</th>\n",
       "      <td>1.000000</td>\n",
       "      <td>0.130536</td>\n",
       "      <td>0.098367</td>\n",
       "      <td>-0.021744</td>\n",
       "      <td>-0.016360</td>\n",
       "      <td>-0.288402</td>\n",
       "      <td>1.000000</td>\n",
       "      <td>0.864405</td>\n",
       "    </tr>\n",
       "    <tr>\n",
       "      <th>price_boxcox</th>\n",
       "      <td>0.864405</td>\n",
       "      <td>0.019265</td>\n",
       "      <td>-0.001069</td>\n",
       "      <td>-0.085882</td>\n",
       "      <td>-0.018249</td>\n",
       "      <td>-0.226209</td>\n",
       "      <td>0.864405</td>\n",
       "      <td>1.000000</td>\n",
       "    </tr>\n",
       "  </tbody>\n",
       "</table>\n",
       "</div>"
      ],
      "text/plain": [
       "                  Price  Engine volume  Cylinders   Airbags  mileage_in_km  \\\n",
       "Price          1.000000       0.130536   0.098367 -0.021744      -0.016360   \n",
       "Engine volume  0.130536       1.000000   0.800442  0.220984      -0.007126   \n",
       "Cylinders      0.098367       0.800442   1.000000  0.168992      -0.001997   \n",
       "Airbags       -0.021744       0.220984   0.168992  1.000000      -0.009447   \n",
       "mileage_in_km -0.016360      -0.007126  -0.001997 -0.009447       1.000000   \n",
       "age           -0.288402       0.043913   0.105290 -0.232723       0.065128   \n",
       "zscore_price   1.000000       0.130536   0.098367 -0.021744      -0.016360   \n",
       "price_boxcox   0.864405       0.019265  -0.001069 -0.085882      -0.018249   \n",
       "\n",
       "                    age  zscore_price  price_boxcox  \n",
       "Price         -0.288402      1.000000      0.864405  \n",
       "Engine volume  0.043913      0.130536      0.019265  \n",
       "Cylinders      0.105290      0.098367     -0.001069  \n",
       "Airbags       -0.232723     -0.021744     -0.085882  \n",
       "mileage_in_km  0.065128     -0.016360     -0.018249  \n",
       "age            1.000000     -0.288402     -0.226209  \n",
       "zscore_price  -0.288402      1.000000      0.864405  \n",
       "price_boxcox  -0.226209      0.864405      1.000000  "
      ]
     },
     "execution_count": 344,
     "metadata": {},
     "output_type": "execute_result"
    }
   ],
   "source": [
    "corr=df4.corr()\n",
    "corr"
   ]
  },
  {
   "cell_type": "code",
   "execution_count": 536,
   "id": "d1e96c29",
   "metadata": {},
   "outputs": [
    {
     "data": {
      "text/plain": [
       "(627.0, 38894.0)"
      ]
     },
     "execution_count": 536,
     "metadata": {},
     "output_type": "execute_result"
    }
   ],
   "source": [
    "min_price,max_price=df4[\"Price\"].quantile([0.1,.9])\n",
    "df4=df4[(df4[\"Price\"]>min_price)  &  (df4[\"Price\"]<max_price)]\n",
    "min_price,max_price"
   ]
  },
  {
   "cell_type": "code",
   "execution_count": 345,
   "id": "24996e48",
   "metadata": {},
   "outputs": [
    {
     "data": {
      "text/plain": [
       "<Axes: >"
      ]
     },
     "execution_count": 345,
     "metadata": {},
     "output_type": "execute_result"
    },
    {
     "data": {
      "image/png": "[encoded data removed]",
      "text/plain": [
       "<Figure size 640x480 with 2 Axes>"
      ]
     },
     "metadata": {},
     "output_type": "display_data"
    }
   ],
   "source": [
    "sns.heatmap(corr,annot=True)"
   ]
  },
  {
   "cell_type": "code",
   "execution_count": 537,
   "id": "987dcd50",
   "metadata": {},
   "outputs": [
    {
     "data": {
      "text/plain": [
       "((14793, 16), (14850, 16))"
      ]
     },
     "execution_count": 537,
     "metadata": {},
     "output_type": "execute_result"
    }
   ],
   "source": [
    "manufacterer_stat=df4.groupby(\"Manufacturer\")[\"Manufacturer\"].agg(\"count\").sort_values(ascending=False)\n",
    "manufacterer_of_less_than_ten_cars= manufacterer_stat[manufacterer_stat<10]\n",
    "df4.Manufacturer = df4.Manufacturer.apply(lambda x: 'other' if x in manufacterer_of_less_than_ten_cars else x)\n",
    "mask = (df4['Manufacturer'] ==\"other\")\n",
    "df5 = df4[-mask] \n",
    "df5.shape,df4.shape"
   ]
  },
  {
   "cell_type": "code",
   "execution_count": 538,
   "id": "ce1c246b",
   "metadata": {},
   "outputs": [],
   "source": [
    "df5 = df4[-mask] \n"
   ]
  },
  {
   "cell_type": "code",
   "execution_count": 539,
   "id": "47f84a30",
   "metadata": {},
   "outputs": [
    {
     "data": {
      "text/plain": [
       "4.0     11470\n",
       "6.0      2482\n",
       "8.0       557\n",
       "5.0       149\n",
       "2.0        38\n",
       "3.0        33\n",
       "1.0        27\n",
       "12.0       23\n",
       "10.0        6\n",
       "16.0        4\n",
       "7.0         2\n",
       "9.0         1\n",
       "14.0        1\n",
       "Name: Cylinders, dtype: int64"
      ]
     },
     "execution_count": 539,
     "metadata": {},
     "output_type": "execute_result"
    }
   ],
   "source": [
    "df5[\"Cylinders\"].value_counts()"
   ]
  },
  {
   "cell_type": "code",
   "execution_count": 540,
   "id": "1d8aac25",
   "metadata": {},
   "outputs": [
    {
     "data": {
      "text/plain": [
       "<seaborn.axisgrid.FacetGrid at 0x1c59c853520>"
      ]
     },
     "execution_count": 540,
     "metadata": {},
     "output_type": "execute_result"
    },
    {
     "data": {
      "image/png": "[encoded data removed]",
      "text/plain": [
       "<Figure size 500x500 with 1 Axes>"
      ]
     },
     "metadata": {},
     "output_type": "display_data"
    }
   ],
   "source": [
    "sns.displot(df5[\"Cylinders\"])"
   ]
  },
  {
   "cell_type": "code",
   "execution_count": 541,
   "id": "8d6a347e",
   "metadata": {},
   "outputs": [
    {
     "data": {
      "image/png": "[encoded data removed]",
      "text/plain": [
       "<Figure size 640x480 with 1 Axes>"
      ]
     },
     "metadata": {},
     "output_type": "display_data"
    }
   ],
   "source": [
    "plt.hist(df5[\"Cylinders\"], rwidth=0.8)\n",
    "plt.xlabel('cylinder')\n",
    "plt.ylabel('Count')\n",
    "plt.show()"
   ]
  },
  {
   "cell_type": "code",
   "execution_count": 542,
   "id": "f80e179e",
   "metadata": {},
   "outputs": [
    {
     "data": {
      "text/plain": [
       "1.2584384861960625"
      ]
     },
     "execution_count": 542,
     "metadata": {},
     "output_type": "execute_result"
    }
   ],
   "source": [
    "log_cylinder=np.log1p(df5[\"Cylinders\"])\n",
    "log_cylinder.skew()"
   ]
  },
  {
   "cell_type": "code",
   "execution_count": 543,
   "id": "cb06ef32",
   "metadata": {},
   "outputs": [
    {
     "name": "stdout",
     "output_type": "stream",
     "text": [
      "-0.24319463413473308\n"
     ]
    }
   ],
   "source": [
    "cylinder_bx,lambda_value_bx=boxcox(df5[\"Cylinders\"])\n",
    "cylinder_bx = pd.Series(cylinder_bx).skew()\n",
    "print(cylinder_bx)"
   ]
  },
  {
   "cell_type": "code",
   "execution_count": 544,
   "id": "7c190981",
   "metadata": {},
   "outputs": [
    {
     "data": {
      "image/png": "[encoded data removed]",
      "text/plain": [
       "<Figure size 640x480 with 1 Axes>"
      ]
     },
     "metadata": {},
     "output_type": "display_data"
    }
   ],
   "source": [
    "plt.hist(cylinder_bx ,rwidth=0.8)\n",
    "plt.xlabel('cylinder')\n",
    "plt.ylabel('Count')\n",
    "plt.show()"
   ]
  },
  {
   "cell_type": "code",
   "execution_count": 545,
   "id": "54f7f0e7",
   "metadata": {},
   "outputs": [
    {
     "data": {
      "text/plain": [
       "<seaborn.axisgrid.FacetGrid at 0x1c59c8539a0>"
      ]
     },
     "execution_count": 545,
     "metadata": {},
     "output_type": "execute_result"
    },
    {
     "data": {
      "image/png": "[encoded data removed]",
      "text/plain": [
       "<Figure size 500x500 with 1 Axes>"
      ]
     },
     "metadata": {},
     "output_type": "display_data"
    }
   ],
   "source": [
    "sns.displot(log_cylinder)"
   ]
  },
  {
   "cell_type": "code",
   "execution_count": 546,
   "id": "125a300e",
   "metadata": {},
   "outputs": [
    {
     "data": {
      "text/plain": [
       "1.6897751064800135"
      ]
     },
     "execution_count": 546,
     "metadata": {},
     "output_type": "execute_result"
    }
   ],
   "source": [
    "sqrt_cylinder=np.sqrt(df5[\"Cylinders\"]\n",
    "                      )\n",
    "sqrt_cylinder.skew()"
   ]
  },
  {
   "cell_type": "code",
   "execution_count": 547,
   "id": "936da2af",
   "metadata": {},
   "outputs": [
    {
     "data": {
      "image/png": "[encoded data removed]",
      "text/plain": [
       "<Figure size 640x480 with 1 Axes>"
      ]
     },
     "metadata": {},
     "output_type": "display_data"
    }
   ],
   "source": [
    "plt.hist(log_cylinder,rwidth=0.8)\n",
    "plt.xlabel('cylinder')\n",
    "plt.ylabel('Count')\n",
    "plt.show()"
   ]
  },
  {
   "cell_type": "code",
   "execution_count": 548,
   "id": "42f1777d",
   "metadata": {},
   "outputs": [
    {
     "name": "stderr",
     "output_type": "stream",
     "text": [
      "C:\\Users\\OWNER\\AppData\\Local\\Temp\\ipykernel_5696\\1535357916.py:1: SettingWithCopyWarning: \n",
      "A value is trying to be set on a copy of a slice from a DataFrame.\n",
      "Try using .loc[row_indexer,col_indexer] = value instead\n",
      "\n",
      "See the caveats in the documentation: https://pandas.pydata.org/pandas-docs/stable/user_guide/indexing.html#returning-a-view-versus-a-copy\n",
      "  df5[\"Cylinders_boxcox\"]=cylinder_bx\n"
     ]
    },
    {
     "data": {
      "text/html": [
       "<div>\n",
       "<style scoped>\n",
       "    .dataframe tbody tr th:only-of-type {\n",
       "        vertical-align: middle;\n",
       "    }\n",
       "\n",
       "    .dataframe tbody tr th {\n",
       "        vertical-align: top;\n",
       "    }\n",
       "\n",
       "    .dataframe thead th {\n",
       "        text-align: right;\n",
       "    }\n",
       "</style>\n",
       "<table border=\"1\" class=\"dataframe\">\n",
       "  <thead>\n",
       "    <tr style=\"text-align: right;\">\n",
       "      <th></th>\n",
       "      <th>Price</th>\n",
       "      <th>Manufacturer</th>\n",
       "      <th>Category</th>\n",
       "      <th>Leather interior</th>\n",
       "      <th>Fuel type</th>\n",
       "      <th>Engine volume</th>\n",
       "      <th>Cylinders</th>\n",
       "      <th>Gear box type</th>\n",
       "      <th>Drive wheels</th>\n",
       "      <th>Wheel</th>\n",
       "      <th>Airbags</th>\n",
       "      <th>mileage_in_km</th>\n",
       "      <th>age</th>\n",
       "      <th>Engine Type</th>\n",
       "      <th>zscore_price</th>\n",
       "      <th>price_boxcox</th>\n",
       "      <th>Cylinders_boxcox</th>\n",
       "    </tr>\n",
       "  </thead>\n",
       "  <tbody>\n",
       "    <tr>\n",
       "      <th>0</th>\n",
       "      <td>13328</td>\n",
       "      <td>LEXUS</td>\n",
       "      <td>Jeep</td>\n",
       "      <td>Yes</td>\n",
       "      <td>Hybrid</td>\n",
       "      <td>3.5</td>\n",
       "      <td>6.0</td>\n",
       "      <td>Automatic</td>\n",
       "      <td>4WD</td>\n",
       "      <td>Left wheel</td>\n",
       "      <td>12</td>\n",
       "      <td>186005</td>\n",
       "      <td>13</td>\n",
       "      <td>Normal</td>\n",
       "      <td>-0.027812</td>\n",
       "      <td>67.350101</td>\n",
       "      <td>-0.243195</td>\n",
       "    </tr>\n",
       "    <tr>\n",
       "      <th>1</th>\n",
       "      <td>16621</td>\n",
       "      <td>CHEVROLET</td>\n",
       "      <td>Jeep</td>\n",
       "      <td>No</td>\n",
       "      <td>Petrol</td>\n",
       "      <td>3.0</td>\n",
       "      <td>6.0</td>\n",
       "      <td>Tiptronic</td>\n",
       "      <td>4WD</td>\n",
       "      <td>Left wheel</td>\n",
       "      <td>8</td>\n",
       "      <td>192000</td>\n",
       "      <td>12</td>\n",
       "      <td>Normal</td>\n",
       "      <td>-0.010771</td>\n",
       "      <td>72.696524</td>\n",
       "      <td>-0.243195</td>\n",
       "    </tr>\n",
       "    <tr>\n",
       "      <th>2</th>\n",
       "      <td>8467</td>\n",
       "      <td>HONDA</td>\n",
       "      <td>Hatchback</td>\n",
       "      <td>No</td>\n",
       "      <td>Petrol</td>\n",
       "      <td>1.3</td>\n",
       "      <td>4.0</td>\n",
       "      <td>Variator</td>\n",
       "      <td>Front</td>\n",
       "      <td>Right-hand drive</td>\n",
       "      <td>2</td>\n",
       "      <td>200000</td>\n",
       "      <td>17</td>\n",
       "      <td>Normal</td>\n",
       "      <td>-0.052966</td>\n",
       "      <td>57.519971</td>\n",
       "      <td>-0.243195</td>\n",
       "    </tr>\n",
       "    <tr>\n",
       "      <th>3</th>\n",
       "      <td>3607</td>\n",
       "      <td>FORD</td>\n",
       "      <td>Jeep</td>\n",
       "      <td>Yes</td>\n",
       "      <td>Hybrid</td>\n",
       "      <td>2.5</td>\n",
       "      <td>4.0</td>\n",
       "      <td>Automatic</td>\n",
       "      <td>4WD</td>\n",
       "      <td>Left wheel</td>\n",
       "      <td>0</td>\n",
       "      <td>168966</td>\n",
       "      <td>12</td>\n",
       "      <td>Normal</td>\n",
       "      <td>-0.078116</td>\n",
       "      <td>42.598612</td>\n",
       "      <td>-0.243195</td>\n",
       "    </tr>\n",
       "    <tr>\n",
       "      <th>4</th>\n",
       "      <td>11726</td>\n",
       "      <td>HONDA</td>\n",
       "      <td>Hatchback</td>\n",
       "      <td>Yes</td>\n",
       "      <td>Petrol</td>\n",
       "      <td>1.3</td>\n",
       "      <td>4.0</td>\n",
       "      <td>Automatic</td>\n",
       "      <td>Front</td>\n",
       "      <td>Left wheel</td>\n",
       "      <td>4</td>\n",
       "      <td>91901</td>\n",
       "      <td>9</td>\n",
       "      <td>Normal</td>\n",
       "      <td>-0.036102</td>\n",
       "      <td>64.424042</td>\n",
       "      <td>-0.243195</td>\n",
       "    </tr>\n",
       "  </tbody>\n",
       "</table>\n",
       "</div>"
      ],
      "text/plain": [
       "   Price Manufacturer   Category Leather interior Fuel type  Engine volume  \\\n",
       "0  13328        LEXUS       Jeep              Yes    Hybrid            3.5   \n",
       "1  16621    CHEVROLET       Jeep               No    Petrol            3.0   \n",
       "2   8467        HONDA  Hatchback               No    Petrol            1.3   \n",
       "3   3607         FORD       Jeep              Yes    Hybrid            2.5   \n",
       "4  11726        HONDA  Hatchback              Yes    Petrol            1.3   \n",
       "\n",
       "   Cylinders Gear box type Drive wheels             Wheel  Airbags  \\\n",
       "0        6.0     Automatic          4WD        Left wheel       12   \n",
       "1        6.0     Tiptronic          4WD        Left wheel        8   \n",
       "2        4.0      Variator        Front  Right-hand drive        2   \n",
       "3        4.0     Automatic          4WD        Left wheel        0   \n",
       "4        4.0     Automatic        Front        Left wheel        4   \n",
       "\n",
       "   mileage_in_km  age Engine Type  zscore_price  price_boxcox  \\\n",
       "0         186005   13      Normal     -0.027812     67.350101   \n",
       "1         192000   12      Normal     -0.010771     72.696524   \n",
       "2         200000   17      Normal     -0.052966     57.519971   \n",
       "3         168966   12      Normal     -0.078116     42.598612   \n",
       "4          91901    9      Normal     -0.036102     64.424042   \n",
       "\n",
       "   Cylinders_boxcox  \n",
       "0         -0.243195  \n",
       "1         -0.243195  \n",
       "2         -0.243195  \n",
       "3         -0.243195  \n",
       "4         -0.243195  "
      ]
     },
     "execution_count": 548,
     "metadata": {},
     "output_type": "execute_result"
    }
   ],
   "source": [
    "df5[\"Cylinders_boxcox\"]=cylinder_bx\n",
    "df5.head()"
   ]
  },
  {
   "cell_type": "code",
   "execution_count": 549,
   "id": "d37c59c1",
   "metadata": {},
   "outputs": [
    {
     "data": {
      "text/plain": [
       "Index(['Price', 'Manufacturer', 'Category', 'Leather interior', 'Fuel type',\n",
       "       'Engine volume', 'Cylinders', 'Gear box type', 'Drive wheels', 'Wheel',\n",
       "       'Airbags', 'mileage_in_km', 'age', 'Engine Type', 'zscore_price',\n",
       "       'price_boxcox', 'Cylinders_boxcox'],\n",
       "      dtype='object')"
      ]
     },
     "execution_count": 549,
     "metadata": {},
     "output_type": "execute_result"
    }
   ],
   "source": [
    "df5.columns"
   ]
  },
  {
   "cell_type": "code",
   "execution_count": 550,
   "id": "44f08e61",
   "metadata": {},
   "outputs": [
    {
     "data": {
      "text/plain": [
       "count    14793.000000\n",
       "mean         6.473873\n",
       "std          4.172233\n",
       "min          0.000000\n",
       "25%          4.000000\n",
       "50%          6.000000\n",
       "75%         12.000000\n",
       "max         16.000000\n",
       "Name: Airbags, dtype: float64"
      ]
     },
     "execution_count": 550,
     "metadata": {},
     "output_type": "execute_result"
    }
   ],
   "source": [
    "df5[\"Airbags\"].describe()"
   ]
  },
  {
   "cell_type": "code",
   "execution_count": 551,
   "id": "e389342b",
   "metadata": {},
   "outputs": [
    {
     "data": {
      "text/plain": [
       "(0.0, 16.0, (14793, 17), (18635, 19))"
      ]
     },
     "execution_count": 551,
     "metadata": {},
     "output_type": "execute_result"
    }
   ],
   "source": [
    "min_airbag,max_airbag=df5[\"Airbags\"].quantile([0.001,0.999])\n",
    "min_airbag,max_airbag,df5.shape,df6.shape\n"
   ]
  },
  {
   "cell_type": "code",
   "execution_count": 552,
   "id": "c74ad7db",
   "metadata": {},
   "outputs": [
    {
     "data": {
      "image/png": "[encoded data removed]",
      "text/plain": [
       "<Figure size 640x480 with 1 Axes>"
      ]
     },
     "metadata": {},
     "output_type": "display_data"
    }
   ],
   "source": [
    "plt.hist(df5[\"Airbags\"],rwidth=0.8)\n",
    "plt.xlabel('cylinder')\n",
    "plt.ylabel('Count')\n",
    "plt.show()"
   ]
  },
  {
   "cell_type": "code",
   "execution_count": 553,
   "id": "8f6693be",
   "metadata": {},
   "outputs": [
    {
     "data": {
      "text/plain": [
       "0.1424895674356179"
      ]
     },
     "execution_count": 553,
     "metadata": {},
     "output_type": "execute_result"
    }
   ],
   "source": [
    "df5[\"Airbags\"].skew()"
   ]
  },
  {
   "cell_type": "code",
   "execution_count": 554,
   "id": "6340fc65",
   "metadata": {},
   "outputs": [],
   "source": [
    "df6 = df5\n",
    "\n"
   ]
  },
  {
   "cell_type": "code",
   "execution_count": 555,
   "id": "d848c890",
   "metadata": {},
   "outputs": [
    {
     "data": {
      "text/plain": [
       "0.1424895674356179"
      ]
     },
     "execution_count": 555,
     "metadata": {},
     "output_type": "execute_result"
    }
   ],
   "source": [
    "df6[\"Airbags\"].skew()"
   ]
  },
  {
   "cell_type": "code",
   "execution_count": 556,
   "id": "342aeebc",
   "metadata": {},
   "outputs": [
    {
     "data": {
      "image/png": "[encoded data removed]",
      "text/plain": [
       "<Figure size 640x480 with 1 Axes>"
      ]
     },
     "metadata": {},
     "output_type": "display_data"
    }
   ],
   "source": [
    "plt.hist(df6[\"Airbags\"],rwidth=0.8)\n",
    "plt.xlabel('cylinder')\n",
    "plt.ylabel('Count')\n",
    "plt.show()"
   ]
  },
  {
   "cell_type": "code",
   "execution_count": 557,
   "id": "7c5b309d",
   "metadata": {},
   "outputs": [
    {
     "data": {
      "text/plain": [
       "Index(['Price', 'Manufacturer', 'Category', 'Leather interior', 'Fuel type',\n",
       "       'Engine volume', 'Cylinders', 'Gear box type', 'Drive wheels', 'Wheel',\n",
       "       'Airbags', 'mileage_in_km', 'age', 'Engine Type', 'zscore_price',\n",
       "       'price_boxcox', 'Cylinders_boxcox'],\n",
       "      dtype='object')"
      ]
     },
     "execution_count": 557,
     "metadata": {},
     "output_type": "execute_result"
    }
   ],
   "source": [
    "df6.columns"
   ]
  },
  {
   "cell_type": "code",
   "execution_count": 558,
   "id": "a8744966",
   "metadata": {},
   "outputs": [
    {
     "data": {
      "text/plain": [
       "count    1.479300e+04\n",
       "mean     1.731676e+06\n",
       "std      5.149363e+07\n",
       "min      0.000000e+00\n",
       "25%      7.700000e+04\n",
       "50%      1.310000e+05\n",
       "75%      1.900000e+05\n",
       "max      2.147484e+09\n",
       "Name: mileage_in_km, dtype: float64"
      ]
     },
     "execution_count": 558,
     "metadata": {},
     "output_type": "execute_result"
    }
   ],
   "source": [
    "df6[\"mileage_in_km\"].describe()"
   ]
  },
  {
   "cell_type": "code",
   "execution_count": 559,
   "metadata": {},
   "outputs": [
    {
     "data": {
      "image/png": "[encoded data removed]",
      "text/plain": [
       "<Figure size 640x480 with 1 Axes>"
      ]
     },
     "metadata": {},
     "output_type": "display_data"
    }
   ],
   "source": [
    "plt.hist(df6[\"mileage_in_km\"],rwidth=0.8)\n",
    "plt.show()"
   ]
  },
  {
   "cell_type": "code",
   "execution_count": 560,
   "id": "9ad8fc7c",
   "metadata": {},
   "outputs": [
    {
     "name": "stderr",
     "output_type": "stream",
     "text": [
      "C:\\Users\\OWNER\\AppData\\Local\\Temp\\ipykernel_5696\\526178728.py:2: SettingWithCopyWarning: \n",
      "A value is trying to be set on a copy of a slice from a DataFrame.\n",
      "Try using .loc[row_indexer,col_indexer] = value instead\n",
      "\n",
      "See the caveats in the documentation: https://pandas.pydata.org/pandas-docs/stable/user_guide/indexing.html#returning-a-view-versus-a-copy\n",
      "  df6[\"zscore_ml\"]=zscooe_mil\n"
     ]
    }
   ],
   "source": [
    "zscooe_mil=zscore(df6[\"mileage_in_km\"])\n",
    "df6[\"zscore_ml\"]=zscooe_mil"
   ]
  },
  {
   "cell_type": "code",
   "execution_count": 561,
   "id": "67cdf3af",
   "metadata": {},
   "outputs": [
    {
     "data": {
      "image/png": "[encoded data removed]",
      "text/plain": [
       "<Figure size 640x480 with 1 Axes>"
      ]
     },
     "metadata": {},
     "output_type": "display_data"
    }
   ],
   "source": [
    "plt.hist(df6[\"mileage_in_km\"],rwidth=0.8)\n",
    "plt.show()"
   ]
  },
  {
   "cell_type": "code",
   "execution_count": null,
   "id": "59de097b",
   "metadata": {},
   "outputs": [],
   "source": []
  },
  {
   "cell_type": "code",
   "execution_count": 562,
   "id": "9d9d934f",
   "metadata": {},
   "outputs": [
    {
     "data": {
      "text/plain": [
       "-3.727967224814856"
      ]
     },
     "execution_count": 562,
     "metadata": {},
     "output_type": "execute_result"
    }
   ],
   "source": [
    "mile_log=np.log1p(df6[\"mileage_in_km\"])\n",
    "mile_log.skew()"
   ]
  },
  {
   "cell_type": "code",
   "execution_count": 563,
   "id": "6a4e7495",
   "metadata": {},
   "outputs": [
    {
     "data": {
      "text/plain": [
       "31.222108909148155"
      ]
     },
     "execution_count": 563,
     "metadata": {},
     "output_type": "execute_result"
    }
   ],
   "source": [
    "mile_sqrt=np.sqrt(df6[\"mileage_in_km\"])\n",
    "mile_sqrt.skew()"
   ]
  },
  {
   "cell_type": "code",
   "execution_count": 564,
   "id": "74faf0bf",
   "metadata": {},
   "outputs": [
    {
     "data": {
      "image/png": "[encoded data removed]",
      "text/plain": [
       "<Figure size 640x480 with 1 Axes>"
      ]
     },
     "metadata": {},
     "output_type": "display_data"
    }
   ],
   "source": [
    "plt.hist(mile_log,rwidth=0.8)\n",
    "plt.show()"
   ]
  },
  {
   "cell_type": "code",
   "execution_count": 565,
   "id": "b5530049",
   "metadata": {},
   "outputs": [
    {
     "data": {
      "text/plain": [
       "31.222108909148155"
      ]
     },
     "execution_count": 565,
     "metadata": {},
     "output_type": "execute_result"
    }
   ],
   "source": [
    "mile_sqrt=np.sqrt(df6[\"mileage_in_km\"])\n",
    "mile_sqrt.skew()"
   ]
  },
  {
   "cell_type": "code",
   "execution_count": 566,
   "id": "7046dbb7",
   "metadata": {},
   "outputs": [
    {
     "name": "stderr",
     "output_type": "stream",
     "text": [
      "C:\\Users\\OWNER\\AppData\\Local\\Temp\\ipykernel_5696\\2111307844.py:1: SettingWithCopyWarning: \n",
      "A value is trying to be set on a copy of a slice from a DataFrame.\n",
      "Try using .loc[row_indexer,col_indexer] = value instead\n",
      "\n",
      "See the caveats in the documentation: https://pandas.pydata.org/pandas-docs/stable/user_guide/indexing.html#returning-a-view-versus-a-copy\n",
      "  df6[\"mile_log\"]=mile_log\n"
     ]
    },
    {
     "data": {
      "image/png": "[encoded data removed]",
      "text/plain": [
       "<Figure size 640x480 with 1 Axes>"
      ]
     },
     "metadata": {},
     "output_type": "display_data"
    }
   ],
   "source": [
    "df6[\"mile_log\"]=mile_log\n",
    "\n",
    "plt.hist(mile_log,rwidth=0.7)\n",
    "plt.xlabel('mile')\n",
    "plt.ylabel('Count')\n",
    "plt.show()"
   ]
  },
  {
   "cell_type": "code",
   "execution_count": 567,
   "id": "1c28f796",
   "metadata": {},
   "outputs": [
    {
     "data": {
      "text/plain": [
       "-3.727967224814856"
      ]
     },
     "execution_count": 567,
     "metadata": {},
     "output_type": "execute_result"
    }
   ],
   "source": [
    "df6[\"mile_log\"].skew()"
   ]
  },
  {
   "cell_type": "code",
   "execution_count": 568,
   "id": "34b39539",
   "metadata": {},
   "outputs": [
    {
     "data": {
      "text/plain": [
       "Index(['Price', 'Manufacturer', 'Category', 'Leather interior', 'Fuel type',\n",
       "       'Engine volume', 'Cylinders', 'Gear box type', 'Drive wheels', 'Wheel',\n",
       "       'Airbags', 'mileage_in_km', 'age', 'Engine Type', 'zscore_price',\n",
       "       'price_boxcox', 'Cylinders_boxcox', 'zscore_ml', 'mile_log'],\n",
       "      dtype='object')"
      ]
     },
     "execution_count": 568,
     "metadata": {},
     "output_type": "execute_result"
    }
   ],
   "source": [
    "df6.columns"
   ]
  },
  {
   "cell_type": "code",
   "execution_count": 569,
   "id": "afc39a39",
   "metadata": {},
   "outputs": [
    {
     "data": {
      "text/plain": [
       "1.4733486209758182"
      ]
     },
     "execution_count": 569,
     "metadata": {},
     "output_type": "execute_result"
    }
   ],
   "source": [
    "df6[\"age\"].skew()"
   ]
  },
  {
   "cell_type": "code",
   "execution_count": 570,
   "metadata": {},
   "outputs": [
    {
     "data": {
      "image/png": "[encoded data removed]",
      "text/plain": [
       "<Figure size 640x480 with 1 Axes>"
      ]
     },
     "metadata": {},
     "output_type": "display_data"
    }
   ],
   "source": [
    "plt.hist(df6[\"age\"],rwidth=0.7)\n",
    "plt.xlabel(\"age\")\n",
    "plt.ylabel(\"count\")\n",
    "plt.show()"
   ]
  },
  {
   "cell_type": "code",
   "execution_count": 575,
   "id": "fa235d14",
   "metadata": {},
   "outputs": [
    {
     "data": {
      "text/plain": [
       "0.29496634071332206"
      ]
     },
     "execution_count": 575,
     "metadata": {},
     "output_type": "execute_result"
    }
   ],
   "source": [
    "log_age=np.log1p(df6[\"age\"])\n",
    "log_age.skew()"
   ]
  },
  {
   "cell_type": "code",
   "execution_count": 576,
   "id": "dd9177c7",
   "metadata": {},
   "outputs": [
    {
     "data": {
      "image/png": "[encoded data removed]",
      "text/plain": [
       "<Figure size 640x480 with 1 Axes>"
      ]
     },
     "metadata": {},
     "output_type": "display_data"
    }
   ],
   "source": [
    "plt.hist(log_age,rwidth=0.7)\n",
    "plt.xlabel(\"age\")\n",
    "plt.ylabel(\"count\")\n",
    "plt.show()"
   ]
  },
  {
   "cell_type": "code",
   "execution_count": 577,
   "id": "2186359f",
   "metadata": {},
   "outputs": [
    {
     "name": "stderr",
     "output_type": "stream",
     "text": [
      "C:\\Users\\OWNER\\AppData\\Local\\Temp\\ipykernel_5696\\2340737137.py:1: SettingWithCopyWarning: \n",
      "A value is trying to be set on a copy of a slice from a DataFrame.\n",
      "Try using .loc[row_indexer,col_indexer] = value instead\n",
      "\n",
      "See the caveats in the documentation: https://pandas.pydata.org/pandas-docs/stable/user_guide/indexing.html#returning-a-view-versus-a-copy\n",
      "  df6[\"age_log\"]=log_age\n"
     ]
    },
    {
     "data": {
      "text/plain": [
       "Index(['Price', 'Manufacturer', 'Category', 'Leather interior', 'Fuel type',\n",
       "       'Engine volume', 'Cylinders', 'Gear box type', 'Drive wheels', 'Wheel',\n",
       "       'Airbags', 'mileage_in_km', 'age', 'Engine Type', 'zscore_price',\n",
       "       'price_boxcox', 'Cylinders_boxcox', 'zscore_ml', 'mile_log', 'age_log'],\n",
       "      dtype='object')"
      ]
     },
     "execution_count": 577,
     "metadata": {},
     "output_type": "execute_result"
    }
   ],
   "source": [
    "df6[\"age_log\"]=log_age\n",
    "df6.columns"
   ]
  },
  {
   "cell_type": "code",
   "execution_count": 578,
   "id": "3d8ba93f",
   "metadata": {},
   "outputs": [
    {
     "data": {
      "text/plain": [
       "((14793, 20), (14793, 20))"
      ]
     },
     "execution_count": 578,
     "metadata": {},
     "output_type": "execute_result"
    }
   ],
   "source": [
    "df6.shape,df5.shape"
   ]
  },
  {
   "cell_type": "code",
   "execution_count": 579,
   "id": "7ff302b6",
   "metadata": {},
   "outputs": [
    {
     "data": {
      "text/plain": [
       "Index(['Price', 'Manufacturer', 'Category', 'Leather interior', 'Fuel type',\n",
       "       'Engine volume', 'Cylinders', 'Gear box type', 'Drive wheels', 'Wheel',\n",
       "       'Airbags', 'mileage_in_km', 'age', 'Engine Type', 'zscore_price',\n",
       "       'price_boxcox', 'Cylinders_boxcox', 'zscore_ml', 'mile_log', 'age_log'],\n",
       "      dtype='object')"
      ]
     },
     "execution_count": 579,
     "metadata": {},
     "output_type": "execute_result"
    }
   ],
   "source": [
    "df5.columns"
   ]
  },
  {
   "cell_type": "code",
   "execution_count": 600,
   "id": "52f15ce9",
   "metadata": {},
   "outputs": [],
   "source": [
    "df7 = df6.drop(columns=columns_to_drop)"
   ]
  },
  {
   "cell_type": "code",
   "execution_count": 627,
   "id": "cde9bb83",
   "metadata": {},
   "outputs": [
    {
     "data": {
      "text/plain": [
       "count    14793.000000\n",
       "mean        12.663625\n",
       "std          5.619409\n",
       "min          3.000000\n",
       "25%          9.000000\n",
       "50%         11.000000\n",
       "75%         15.000000\n",
       "max         70.000000\n",
       "Name: age, dtype: float64"
      ]
     },
     "execution_count": 627,
     "metadata": {},
     "output_type": "execute_result"
    }
   ],
   "source": [
    "df6[\"age\"].describe()"
   ]
  },
  {
   "cell_type": "code",
   "execution_count": 626,
   "id": "f5de84f6",
   "metadata": {},
   "outputs": [
    {
     "data": {
      "text/plain": [
       "(7.0, 21.0)"
      ]
     },
     "execution_count": 626,
     "metadata": {},
     "output_type": "execute_result"
    }
   ],
   "source": [
    "min_age,max_age=df6[\"age\"].quantile([0.1,0.9])\n",
    "min_age,max_age"
   ]
  },
  {
   "cell_type": "code",
   "execution_count": 630,
   "id": "49c0ced7",
   "metadata": {},
   "outputs": [
    {
     "data": {
      "text/plain": [
       "(0.899210760511987, 1.4733486209758182)"
      ]
     },
     "execution_count": 630,
     "metadata": {},
     "output_type": "execute_result"
    }
   ],
   "source": [
    "df7=df6[(df6[\"age\"]>min_age )& (df6[\"age\"]<max_age)]\n",
    "df7[\"age\"].skew(),df6[\"age\"].skew()"
   ]
  },
  {
   "cell_type": "code",
   "execution_count": 631,
   "metadata": {},
   "outputs": [
    {
     "data": {
      "text/html": [
       "<div>\n",
       "<style scoped>\n",
       "    .dataframe tbody tr th:only-of-type {\n",
       "        vertical-align: middle;\n",
       "    }\n",
       "\n",
       "    .dataframe tbody tr th {\n",
       "        vertical-align: top;\n",
       "    }\n",
       "\n",
       "    .dataframe thead th {\n",
       "        text-align: right;\n",
       "    }\n",
       "</style>\n",
       "<table border=\"1\" class=\"dataframe\">\n",
       "  <thead>\n",
       "    <tr style=\"text-align: right;\">\n",
       "      <th></th>\n",
       "      <th>Price</th>\n",
       "      <th>Manufacturer</th>\n",
       "      <th>Category</th>\n",
       "      <th>Leather interior</th>\n",
       "      <th>Fuel type</th>\n",
       "      <th>Engine volume</th>\n",
       "      <th>Cylinders</th>\n",
       "      <th>Gear box type</th>\n",
       "      <th>Drive wheels</th>\n",
       "      <th>Wheel</th>\n",
       "      <th>Airbags</th>\n",
       "      <th>mileage_in_km</th>\n",
       "      <th>age</th>\n",
       "      <th>Engine Type</th>\n",
       "      <th>zscore_price</th>\n",
       "      <th>price_boxcox</th>\n",
       "      <th>Cylinders_boxcox</th>\n",
       "      <th>zscore_ml</th>\n",
       "      <th>mile_log</th>\n",
       "      <th>age_log</th>\n",
       "    </tr>\n",
       "  </thead>\n",
       "  <tbody>\n",
       "    <tr>\n",
       "      <th>0</th>\n",
       "      <td>13328</td>\n",
       "      <td>LEXUS</td>\n",
       "      <td>Jeep</td>\n",
       "      <td>Yes</td>\n",
       "      <td>Hybrid</td>\n",
       "      <td>3.5</td>\n",
       "      <td>6.0</td>\n",
       "      <td>Automatic</td>\n",
       "      <td>4WD</td>\n",
       "      <td>Left wheel</td>\n",
       "      <td>12</td>\n",
       "      <td>186005</td>\n",
       "      <td>13</td>\n",
       "      <td>Normal</td>\n",
       "      <td>-0.027812</td>\n",
       "      <td>67.350101</td>\n",
       "      <td>-0.243195</td>\n",
       "      <td>-0.030018</td>\n",
       "      <td>12.133534</td>\n",
       "      <td>2.639057</td>\n",
       "    </tr>\n",
       "    <tr>\n",
       "      <th>1</th>\n",
       "      <td>16621</td>\n",
       "      <td>CHEVROLET</td>\n",
       "      <td>Jeep</td>\n",
       "      <td>No</td>\n",
       "      <td>Petrol</td>\n",
       "      <td>3.0</td>\n",
       "      <td>6.0</td>\n",
       "      <td>Tiptronic</td>\n",
       "      <td>4WD</td>\n",
       "      <td>Left wheel</td>\n",
       "      <td>8</td>\n",
       "      <td>192000</td>\n",
       "      <td>12</td>\n",
       "      <td>Normal</td>\n",
       "      <td>-0.010771</td>\n",
       "      <td>72.696524</td>\n",
       "      <td>-0.243195</td>\n",
       "      <td>-0.029901</td>\n",
       "      <td>12.165256</td>\n",
       "      <td>2.564949</td>\n",
       "    </tr>\n",
       "    <tr>\n",
       "      <th>2</th>\n",
       "      <td>8467</td>\n",
       "      <td>HONDA</td>\n",
       "      <td>Hatchback</td>\n",
       "      <td>No</td>\n",
       "      <td>Petrol</td>\n",
       "      <td>1.3</td>\n",
       "      <td>4.0</td>\n",
       "      <td>Variator</td>\n",
       "      <td>Front</td>\n",
       "      <td>Right-hand drive</td>\n",
       "      <td>2</td>\n",
       "      <td>200000</td>\n",
       "      <td>17</td>\n",
       "      <td>Normal</td>\n",
       "      <td>-0.052966</td>\n",
       "      <td>57.519971</td>\n",
       "      <td>-0.243195</td>\n",
       "      <td>-0.029746</td>\n",
       "      <td>12.206078</td>\n",
       "      <td>2.890372</td>\n",
       "    </tr>\n",
       "    <tr>\n",
       "      <th>3</th>\n",
       "      <td>3607</td>\n",
       "      <td>FORD</td>\n",
       "      <td>Jeep</td>\n",
       "      <td>Yes</td>\n",
       "      <td>Hybrid</td>\n",
       "      <td>2.5</td>\n",
       "      <td>4.0</td>\n",
       "      <td>Automatic</td>\n",
       "      <td>4WD</td>\n",
       "      <td>Left wheel</td>\n",
       "      <td>0</td>\n",
       "      <td>168966</td>\n",
       "      <td>12</td>\n",
       "      <td>Normal</td>\n",
       "      <td>-0.078116</td>\n",
       "      <td>42.598612</td>\n",
       "      <td>-0.243195</td>\n",
       "      <td>-0.030349</td>\n",
       "      <td>12.037459</td>\n",
       "      <td>2.564949</td>\n",
       "    </tr>\n",
       "    <tr>\n",
       "      <th>4</th>\n",
       "      <td>11726</td>\n",
       "      <td>HONDA</td>\n",
       "      <td>Hatchback</td>\n",
       "      <td>Yes</td>\n",
       "      <td>Petrol</td>\n",
       "      <td>1.3</td>\n",
       "      <td>4.0</td>\n",
       "      <td>Automatic</td>\n",
       "      <td>Front</td>\n",
       "      <td>Left wheel</td>\n",
       "      <td>4</td>\n",
       "      <td>91901</td>\n",
       "      <td>9</td>\n",
       "      <td>Normal</td>\n",
       "      <td>-0.036102</td>\n",
       "      <td>64.424042</td>\n",
       "      <td>-0.243195</td>\n",
       "      <td>-0.031845</td>\n",
       "      <td>11.428478</td>\n",
       "      <td>2.302585</td>\n",
       "    </tr>\n",
       "  </tbody>\n",
       "</table>\n",
       "</div>"
      ],
      "text/plain": [
       "   Price Manufacturer   Category Leather interior Fuel type  Engine volume  \\\n",
       "0  13328        LEXUS       Jeep              Yes    Hybrid            3.5   \n",
       "1  16621    CHEVROLET       Jeep               No    Petrol            3.0   \n",
       "2   8467        HONDA  Hatchback               No    Petrol            1.3   \n",
       "3   3607         FORD       Jeep              Yes    Hybrid            2.5   \n",
       "4  11726        HONDA  Hatchback              Yes    Petrol            1.3   \n",
       "\n",
       "   Cylinders Gear box type Drive wheels             Wheel  Airbags  \\\n",
       "0        6.0     Automatic          4WD        Left wheel       12   \n",
       "1        6.0     Tiptronic          4WD        Left wheel        8   \n",
       "2        4.0      Variator        Front  Right-hand drive        2   \n",
       "3        4.0     Automatic          4WD        Left wheel        0   \n",
       "4        4.0     Automatic        Front        Left wheel        4   \n",
       "\n",
       "   mileage_in_km  age Engine Type  zscore_price  price_boxcox  \\\n",
       "0         186005   13      Normal     -0.027812     67.350101   \n",
       "1         192000   12      Normal     -0.010771     72.696524   \n",
       "2         200000   17      Normal     -0.052966     57.519971   \n",
       "3         168966   12      Normal     -0.078116     42.598612   \n",
       "4          91901    9      Normal     -0.036102     64.424042   \n",
       "\n",
       "   Cylinders_boxcox  zscore_ml   mile_log   age_log  \n",
       "0         -0.243195  -0.030018  12.133534  2.639057  \n",
       "1         -0.243195  -0.029901  12.165256  2.564949  \n",
       "2         -0.243195  -0.029746  12.206078  2.890372  \n",
       "3         -0.243195  -0.030349  12.037459  2.564949  \n",
       "4         -0.243195  -0.031845  11.428478  2.302585  "
      ]
     },
     "execution_count": 631,
     "metadata": {},
     "output_type": "execute_result"
    }
   ],
   "source": [
    "df7.head()"
   ]
  },
  {
   "cell_type": "code",
   "execution_count": 634,
   "metadata": {},
   "outputs": [
    {
     "data": {
      "text/plain": [
       "((11295, 20), (14793, 20))"
      ]
     },
     "execution_count": 634,
     "metadata": {},
     "output_type": "execute_result"
    }
   ],
   "source": [
    "df7.shape,df6.shape"
   ]
  },
  {
   "cell_type": "code",
   "execution_count": 636,
   "metadata": {},
   "outputs": [
    {
     "data": {
      "text/plain": [
       "count    1.129500e+04\n",
       "mean     1.014758e+06\n",
       "std      3.865356e+07\n",
       "min      0.000000e+00\n",
       "25%      9.200000e+04\n",
       "50%      1.370000e+05\n",
       "75%      1.880780e+05\n",
       "max      2.147484e+09\n",
       "Name: mileage_in_km, dtype: float64"
      ]
     },
     "execution_count": 636,
     "metadata": {},
     "output_type": "execute_result"
    }
   ],
   "source": [
    "df7[\"mileage_in_km\"].describe()"
   ]
  },
  {
   "cell_type": "code",
   "execution_count": 638,
   "metadata": {},
   "outputs": [
    {
     "data": {
      "text/plain": [
       "(0.0, 574647.0)"
      ]
     },
     "execution_count": 638,
     "metadata": {},
     "output_type": "execute_result"
    }
   ],
   "source": [
    "min_mil,max_mil=df7[\"mileage_in_km\"].quantile([0.01,0.99])\n",
    "\n",
    "min_mil,max_mil"
   ]
  },
  {
   "cell_type": "code",
   "execution_count": 639,
   "metadata": {},
   "outputs": [],
   "source": [
    "df8=df7[(df7[\"mileage_in_km\"]>min_mil) &(df7[\"mileage_in_km\"]<max_mil)]"
   ]
  },
  {
   "cell_type": "code",
   "execution_count": 640,
   "metadata": {},
   "outputs": [
    {
     "data": {
      "text/plain": [
       "((11295, 20), (10891, 20))"
      ]
     },
     "execution_count": 640,
     "metadata": {},
     "output_type": "execute_result"
    }
   ],
   "source": [
    "df7.shape,df8.shape"
   ]
  },
  {
   "cell_type": "code",
   "execution_count": 642,
   "id": "5b761684",
   "metadata": {},
   "outputs": [
    {
     "data": {
      "text/plain": [
       "count     10891.000000\n",
       "mean     150778.335874\n",
       "std       84250.299472\n",
       "min         500.000000\n",
       "25%       95682.500000\n",
       "50%      138165.000000\n",
       "75%      188000.000000\n",
       "max      573249.000000\n",
       "Name: mileage_in_km, dtype: float64"
      ]
     },
     "execution_count": 642,
     "metadata": {},
     "output_type": "execute_result"
    }
   ],
   "source": [
    "df8[\"mileage_in_km\"].describe()"
   ]
  },
  {
   "cell_type": "code",
   "execution_count": 643,
   "id": "0735b829",
   "metadata": {},
   "outputs": [
    {
     "data": {
      "text/html": [
       "<div>\n",
       "<style scoped>\n",
       "    .dataframe tbody tr th:only-of-type {\n",
       "        vertical-align: middle;\n",
       "    }\n",
       "\n",
       "    .dataframe tbody tr th {\n",
       "        vertical-align: top;\n",
       "    }\n",
       "\n",
       "    .dataframe thead th {\n",
       "        text-align: right;\n",
       "    }\n",
       "</style>\n",
       "<table border=\"1\" class=\"dataframe\">\n",
       "  <thead>\n",
       "    <tr style=\"text-align: right;\">\n",
       "      <th></th>\n",
       "      <th>Price</th>\n",
       "      <th>Manufacturer</th>\n",
       "      <th>Category</th>\n",
       "      <th>Leather interior</th>\n",
       "      <th>Fuel type</th>\n",
       "      <th>Engine volume</th>\n",
       "      <th>Cylinders</th>\n",
       "      <th>Gear box type</th>\n",
       "      <th>Drive wheels</th>\n",
       "      <th>Wheel</th>\n",
       "      <th>Airbags</th>\n",
       "      <th>mileage_in_km</th>\n",
       "      <th>age</th>\n",
       "      <th>Engine Type</th>\n",
       "      <th>zscore_price</th>\n",
       "      <th>price_boxcox</th>\n",
       "      <th>Cylinders_boxcox</th>\n",
       "      <th>zscore_ml</th>\n",
       "      <th>mile_log</th>\n",
       "      <th>age_log</th>\n",
       "    </tr>\n",
       "  </thead>\n",
       "  <tbody>\n",
       "    <tr>\n",
       "      <th>0</th>\n",
       "      <td>13328</td>\n",
       "      <td>LEXUS</td>\n",
       "      <td>Jeep</td>\n",
       "      <td>Yes</td>\n",
       "      <td>Hybrid</td>\n",
       "      <td>3.5</td>\n",
       "      <td>6.0</td>\n",
       "      <td>Automatic</td>\n",
       "      <td>4WD</td>\n",
       "      <td>Left wheel</td>\n",
       "      <td>12</td>\n",
       "      <td>186005</td>\n",
       "      <td>13</td>\n",
       "      <td>Normal</td>\n",
       "      <td>-0.027812</td>\n",
       "      <td>67.350101</td>\n",
       "      <td>-0.243195</td>\n",
       "      <td>-0.030018</td>\n",
       "      <td>12.133534</td>\n",
       "      <td>2.639057</td>\n",
       "    </tr>\n",
       "    <tr>\n",
       "      <th>1</th>\n",
       "      <td>16621</td>\n",
       "      <td>CHEVROLET</td>\n",
       "      <td>Jeep</td>\n",
       "      <td>No</td>\n",
       "      <td>Petrol</td>\n",
       "      <td>3.0</td>\n",
       "      <td>6.0</td>\n",
       "      <td>Tiptronic</td>\n",
       "      <td>4WD</td>\n",
       "      <td>Left wheel</td>\n",
       "      <td>8</td>\n",
       "      <td>192000</td>\n",
       "      <td>12</td>\n",
       "      <td>Normal</td>\n",
       "      <td>-0.010771</td>\n",
       "      <td>72.696524</td>\n",
       "      <td>-0.243195</td>\n",
       "      <td>-0.029901</td>\n",
       "      <td>12.165256</td>\n",
       "      <td>2.564949</td>\n",
       "    </tr>\n",
       "    <tr>\n",
       "      <th>2</th>\n",
       "      <td>8467</td>\n",
       "      <td>HONDA</td>\n",
       "      <td>Hatchback</td>\n",
       "      <td>No</td>\n",
       "      <td>Petrol</td>\n",
       "      <td>1.3</td>\n",
       "      <td>4.0</td>\n",
       "      <td>Variator</td>\n",
       "      <td>Front</td>\n",
       "      <td>Right-hand drive</td>\n",
       "      <td>2</td>\n",
       "      <td>200000</td>\n",
       "      <td>17</td>\n",
       "      <td>Normal</td>\n",
       "      <td>-0.052966</td>\n",
       "      <td>57.519971</td>\n",
       "      <td>-0.243195</td>\n",
       "      <td>-0.029746</td>\n",
       "      <td>12.206078</td>\n",
       "      <td>2.890372</td>\n",
       "    </tr>\n",
       "    <tr>\n",
       "      <th>3</th>\n",
       "      <td>3607</td>\n",
       "      <td>FORD</td>\n",
       "      <td>Jeep</td>\n",
       "      <td>Yes</td>\n",
       "      <td>Hybrid</td>\n",
       "      <td>2.5</td>\n",
       "      <td>4.0</td>\n",
       "      <td>Automatic</td>\n",
       "      <td>4WD</td>\n",
       "      <td>Left wheel</td>\n",
       "      <td>0</td>\n",
       "      <td>168966</td>\n",
       "      <td>12</td>\n",
       "      <td>Normal</td>\n",
       "      <td>-0.078116</td>\n",
       "      <td>42.598612</td>\n",
       "      <td>-0.243195</td>\n",
       "      <td>-0.030349</td>\n",
       "      <td>12.037459</td>\n",
       "      <td>2.564949</td>\n",
       "    </tr>\n",
       "    <tr>\n",
       "      <th>4</th>\n",
       "      <td>11726</td>\n",
       "      <td>HONDA</td>\n",
       "      <td>Hatchback</td>\n",
       "      <td>Yes</td>\n",
       "      <td>Petrol</td>\n",
       "      <td>1.3</td>\n",
       "      <td>4.0</td>\n",
       "      <td>Automatic</td>\n",
       "      <td>Front</td>\n",
       "      <td>Left wheel</td>\n",
       "      <td>4</td>\n",
       "      <td>91901</td>\n",
       "      <td>9</td>\n",
       "      <td>Normal</td>\n",
       "      <td>-0.036102</td>\n",
       "      <td>64.424042</td>\n",
       "      <td>-0.243195</td>\n",
       "      <td>-0.031845</td>\n",
       "      <td>11.428478</td>\n",
       "      <td>2.302585</td>\n",
       "    </tr>\n",
       "  </tbody>\n",
       "</table>\n",
       "</div>"
      ],
      "text/plain": [
       "   Price Manufacturer   Category Leather interior Fuel type  Engine volume  \\\n",
       "0  13328        LEXUS       Jeep              Yes    Hybrid            3.5   \n",
       "1  16621    CHEVROLET       Jeep               No    Petrol            3.0   \n",
       "2   8467        HONDA  Hatchback               No    Petrol            1.3   \n",
       "3   3607         FORD       Jeep              Yes    Hybrid            2.5   \n",
       "4  11726        HONDA  Hatchback              Yes    Petrol            1.3   \n",
       "\n",
       "   Cylinders Gear box type Drive wheels             Wheel  Airbags  \\\n",
       "0        6.0     Automatic          4WD        Left wheel       12   \n",
       "1        6.0     Tiptronic          4WD        Left wheel        8   \n",
       "2        4.0      Variator        Front  Right-hand drive        2   \n",
       "3        4.0     Automatic          4WD        Left wheel        0   \n",
       "4        4.0     Automatic        Front        Left wheel        4   \n",
       "\n",
       "   mileage_in_km  age Engine Type  zscore_price  price_boxcox  \\\n",
       "0         186005   13      Normal     -0.027812     67.350101   \n",
       "1         192000   12      Normal     -0.010771     72.696524   \n",
       "2         200000   17      Normal     -0.052966     57.519971   \n",
       "3         168966   12      Normal     -0.078116     42.598612   \n",
       "4          91901    9      Normal     -0.036102     64.424042   \n",
       "\n",
       "   Cylinders_boxcox  zscore_ml   mile_log   age_log  \n",
       "0         -0.243195  -0.030018  12.133534  2.639057  \n",
       "1         -0.243195  -0.029901  12.165256  2.564949  \n",
       "2         -0.243195  -0.029746  12.206078  2.890372  \n",
       "3         -0.243195  -0.030349  12.037459  2.564949  \n",
       "4         -0.243195  -0.031845  11.428478  2.302585  "
      ]
     },
     "execution_count": 643,
     "metadata": {},
     "output_type": "execute_result"
    }
   ],
   "source": [
    "df8.head()"
   ]
  },
  {
   "cell_type": "code",
   "execution_count": 665,
   "id": "d1b25d40",
   "metadata": {
    "scrolled": true
   },
   "outputs": [
    {
     "data": {
      "text/html": [
       "<div>\n",
       "<style scoped>\n",
       "    .dataframe tbody tr th:only-of-type {\n",
       "        vertical-align: middle;\n",
       "    }\n",
       "\n",
       "    .dataframe tbody tr th {\n",
       "        vertical-align: top;\n",
       "    }\n",
       "\n",
       "    .dataframe thead th {\n",
       "        text-align: right;\n",
       "    }\n",
       "</style>\n",
       "<table border=\"1\" class=\"dataframe\">\n",
       "  <thead>\n",
       "    <tr style=\"text-align: right;\">\n",
       "      <th></th>\n",
       "      <th>Manufacturer_AUDI</th>\n",
       "      <th>Manufacturer_BMW</th>\n",
       "      <th>Manufacturer_BUICK</th>\n",
       "      <th>Manufacturer_CADILLAC</th>\n",
       "      <th>Manufacturer_CHEVROLET</th>\n",
       "      <th>Manufacturer_CHRYSLER</th>\n",
       "      <th>Manufacturer_DAEWOO</th>\n",
       "      <th>Manufacturer_DODGE</th>\n",
       "      <th>Manufacturer_FIAT</th>\n",
       "      <th>Manufacturer_FORD</th>\n",
       "      <th>...</th>\n",
       "      <th>Manufacturer_PORSCHE</th>\n",
       "      <th>Manufacturer_RENAULT</th>\n",
       "      <th>Manufacturer_SKODA</th>\n",
       "      <th>Manufacturer_SSANGYONG</th>\n",
       "      <th>Manufacturer_SUBARU</th>\n",
       "      <th>Manufacturer_SUZUKI</th>\n",
       "      <th>Manufacturer_TOYOTA</th>\n",
       "      <th>Manufacturer_VAZ</th>\n",
       "      <th>Manufacturer_VOLKSWAGEN</th>\n",
       "      <th>Manufacturer_VOLVO</th>\n",
       "    </tr>\n",
       "  </thead>\n",
       "  <tbody>\n",
       "    <tr>\n",
       "      <th>0</th>\n",
       "      <td>0</td>\n",
       "      <td>0</td>\n",
       "      <td>0</td>\n",
       "      <td>0</td>\n",
       "      <td>0</td>\n",
       "      <td>0</td>\n",
       "      <td>0</td>\n",
       "      <td>0</td>\n",
       "      <td>0</td>\n",
       "      <td>0</td>\n",
       "      <td>...</td>\n",
       "      <td>0</td>\n",
       "      <td>0</td>\n",
       "      <td>0</td>\n",
       "      <td>0</td>\n",
       "      <td>0</td>\n",
       "      <td>0</td>\n",
       "      <td>0</td>\n",
       "      <td>0</td>\n",
       "      <td>0</td>\n",
       "      <td>0</td>\n",
       "    </tr>\n",
       "    <tr>\n",
       "      <th>1</th>\n",
       "      <td>0</td>\n",
       "      <td>0</td>\n",
       "      <td>0</td>\n",
       "      <td>0</td>\n",
       "      <td>1</td>\n",
       "      <td>0</td>\n",
       "      <td>0</td>\n",
       "      <td>0</td>\n",
       "      <td>0</td>\n",
       "      <td>0</td>\n",
       "      <td>...</td>\n",
       "      <td>0</td>\n",
       "      <td>0</td>\n",
       "      <td>0</td>\n",
       "      <td>0</td>\n",
       "      <td>0</td>\n",
       "      <td>0</td>\n",
       "      <td>0</td>\n",
       "      <td>0</td>\n",
       "      <td>0</td>\n",
       "      <td>0</td>\n",
       "    </tr>\n",
       "    <tr>\n",
       "      <th>2</th>\n",
       "      <td>0</td>\n",
       "      <td>0</td>\n",
       "      <td>0</td>\n",
       "      <td>0</td>\n",
       "      <td>0</td>\n",
       "      <td>0</td>\n",
       "      <td>0</td>\n",
       "      <td>0</td>\n",
       "      <td>0</td>\n",
       "      <td>0</td>\n",
       "      <td>...</td>\n",
       "      <td>0</td>\n",
       "      <td>0</td>\n",
       "      <td>0</td>\n",
       "      <td>0</td>\n",
       "      <td>0</td>\n",
       "      <td>0</td>\n",
       "      <td>0</td>\n",
       "      <td>0</td>\n",
       "      <td>0</td>\n",
       "      <td>0</td>\n",
       "    </tr>\n",
       "    <tr>\n",
       "      <th>3</th>\n",
       "      <td>0</td>\n",
       "      <td>0</td>\n",
       "      <td>0</td>\n",
       "      <td>0</td>\n",
       "      <td>0</td>\n",
       "      <td>0</td>\n",
       "      <td>0</td>\n",
       "      <td>0</td>\n",
       "      <td>0</td>\n",
       "      <td>1</td>\n",
       "      <td>...</td>\n",
       "      <td>0</td>\n",
       "      <td>0</td>\n",
       "      <td>0</td>\n",
       "      <td>0</td>\n",
       "      <td>0</td>\n",
       "      <td>0</td>\n",
       "      <td>0</td>\n",
       "      <td>0</td>\n",
       "      <td>0</td>\n",
       "      <td>0</td>\n",
       "    </tr>\n",
       "    <tr>\n",
       "      <th>4</th>\n",
       "      <td>0</td>\n",
       "      <td>0</td>\n",
       "      <td>0</td>\n",
       "      <td>0</td>\n",
       "      <td>0</td>\n",
       "      <td>0</td>\n",
       "      <td>0</td>\n",
       "      <td>0</td>\n",
       "      <td>0</td>\n",
       "      <td>0</td>\n",
       "      <td>...</td>\n",
       "      <td>0</td>\n",
       "      <td>0</td>\n",
       "      <td>0</td>\n",
       "      <td>0</td>\n",
       "      <td>0</td>\n",
       "      <td>0</td>\n",
       "      <td>0</td>\n",
       "      <td>0</td>\n",
       "      <td>0</td>\n",
       "      <td>0</td>\n",
       "    </tr>\n",
       "  </tbody>\n",
       "</table>\n",
       "<p>5 rows × 38 columns</p>\n",
       "</div>"
      ],
      "text/plain": [
       "   Manufacturer_AUDI  Manufacturer_BMW  Manufacturer_BUICK  \\\n",
       "0                  0                 0                   0   \n",
       "1                  0                 0                   0   \n",
       "2                  0                 0                   0   \n",
       "3                  0                 0                   0   \n",
       "4                  0                 0                   0   \n",
       "\n",
       "   Manufacturer_CADILLAC  Manufacturer_CHEVROLET  Manufacturer_CHRYSLER  \\\n",
       "0                      0                       0                      0   \n",
       "1                      0                       1                      0   \n",
       "2                      0                       0                      0   \n",
       "3                      0                       0                      0   \n",
       "4                      0                       0                      0   \n",
       "\n",
       "   Manufacturer_DAEWOO  Manufacturer_DODGE  Manufacturer_FIAT  \\\n",
       "0                    0                   0                  0   \n",
       "1                    0                   0                  0   \n",
       "2                    0                   0                  0   \n",
       "3                    0                   0                  0   \n",
       "4                    0                   0                  0   \n",
       "\n",
       "   Manufacturer_FORD  ...  Manufacturer_PORSCHE  Manufacturer_RENAULT  \\\n",
       "0                  0  ...                     0                     0   \n",
       "1                  0  ...                     0                     0   \n",
       "2                  0  ...                     0                     0   \n",
       "3                  1  ...                     0                     0   \n",
       "4                  0  ...                     0                     0   \n",
       "\n",
       "   Manufacturer_SKODA  Manufacturer_SSANGYONG  Manufacturer_SUBARU  \\\n",
       "0                   0                       0                    0   \n",
       "1                   0                       0                    0   \n",
       "2                   0                       0                    0   \n",
       "3                   0                       0                    0   \n",
       "4                   0                       0                    0   \n",
       "\n",
       "   Manufacturer_SUZUKI  Manufacturer_TOYOTA  Manufacturer_VAZ  \\\n",
       "0                    0                    0                 0   \n",
       "1                    0                    0                 0   \n",
       "2                    0                    0                 0   \n",
       "3                    0                    0                 0   \n",
       "4                    0                    0                 0   \n",
       "\n",
       "   Manufacturer_VOLKSWAGEN  Manufacturer_VOLVO  \n",
       "0                        0                   0  \n",
       "1                        0                   0  \n",
       "2                        0                   0  \n",
       "3                        0                   0  \n",
       "4                        0                   0  \n",
       "\n",
       "[5 rows x 38 columns]"
      ]
     },
     "execution_count": 665,
     "metadata": {},
     "output_type": "execute_result"
    }
   ],
   "source": [
    "\n",
    "non_numerical = df8[[\"Manufacturer\"]]\n",
    "dummies=pd.get_dummies(non_numerical,drop_first=True)\n",
    "dummies.head()\n"
   ]
  },
  {
   "cell_type": "code",
   "execution_count": 666,
   "id": "69f580a3",
   "metadata": {},
   "outputs": [
    {
     "data": {
      "text/html": [
       "<div>\n",
       "<style scoped>\n",
       "    .dataframe tbody tr th:only-of-type {\n",
       "        vertical-align: middle;\n",
       "    }\n",
       "\n",
       "    .dataframe tbody tr th {\n",
       "        vertical-align: top;\n",
       "    }\n",
       "\n",
       "    .dataframe thead th {\n",
       "        text-align: right;\n",
       "    }\n",
       "</style>\n",
       "<table border=\"1\" class=\"dataframe\">\n",
       "  <thead>\n",
       "    <tr style=\"text-align: right;\">\n",
       "      <th></th>\n",
       "      <th>Price</th>\n",
       "      <th>Category</th>\n",
       "      <th>Leather interior</th>\n",
       "      <th>Fuel type</th>\n",
       "      <th>Engine volume</th>\n",
       "      <th>Cylinders</th>\n",
       "      <th>Gear box type</th>\n",
       "      <th>Drive wheels</th>\n",
       "      <th>Wheel</th>\n",
       "      <th>Airbags</th>\n",
       "      <th>mileage_in_km</th>\n",
       "      <th>age</th>\n",
       "      <th>Engine Type</th>\n",
       "      <th>zscore_price</th>\n",
       "      <th>price_boxcox</th>\n",
       "      <th>Cylinders_boxcox</th>\n",
       "      <th>zscore_ml</th>\n",
       "      <th>mile_log</th>\n",
       "      <th>age_log</th>\n",
       "    </tr>\n",
       "  </thead>\n",
       "  <tbody>\n",
       "    <tr>\n",
       "      <th>0</th>\n",
       "      <td>13328</td>\n",
       "      <td>Jeep</td>\n",
       "      <td>Yes</td>\n",
       "      <td>Hybrid</td>\n",
       "      <td>3.5</td>\n",
       "      <td>6.0</td>\n",
       "      <td>Automatic</td>\n",
       "      <td>4WD</td>\n",
       "      <td>Left wheel</td>\n",
       "      <td>12</td>\n",
       "      <td>186005</td>\n",
       "      <td>13</td>\n",
       "      <td>Normal</td>\n",
       "      <td>-0.027812</td>\n",
       "      <td>67.350101</td>\n",
       "      <td>-0.243195</td>\n",
       "      <td>-0.030018</td>\n",
       "      <td>12.133534</td>\n",
       "      <td>2.639057</td>\n",
       "    </tr>\n",
       "    <tr>\n",
       "      <th>1</th>\n",
       "      <td>16621</td>\n",
       "      <td>Jeep</td>\n",
       "      <td>No</td>\n",
       "      <td>Petrol</td>\n",
       "      <td>3.0</td>\n",
       "      <td>6.0</td>\n",
       "      <td>Tiptronic</td>\n",
       "      <td>4WD</td>\n",
       "      <td>Left wheel</td>\n",
       "      <td>8</td>\n",
       "      <td>192000</td>\n",
       "      <td>12</td>\n",
       "      <td>Normal</td>\n",
       "      <td>-0.010771</td>\n",
       "      <td>72.696524</td>\n",
       "      <td>-0.243195</td>\n",
       "      <td>-0.029901</td>\n",
       "      <td>12.165256</td>\n",
       "      <td>2.564949</td>\n",
       "    </tr>\n",
       "    <tr>\n",
       "      <th>2</th>\n",
       "      <td>8467</td>\n",
       "      <td>Hatchback</td>\n",
       "      <td>No</td>\n",
       "      <td>Petrol</td>\n",
       "      <td>1.3</td>\n",
       "      <td>4.0</td>\n",
       "      <td>Variator</td>\n",
       "      <td>Front</td>\n",
       "      <td>Right-hand drive</td>\n",
       "      <td>2</td>\n",
       "      <td>200000</td>\n",
       "      <td>17</td>\n",
       "      <td>Normal</td>\n",
       "      <td>-0.052966</td>\n",
       "      <td>57.519971</td>\n",
       "      <td>-0.243195</td>\n",
       "      <td>-0.029746</td>\n",
       "      <td>12.206078</td>\n",
       "      <td>2.890372</td>\n",
       "    </tr>\n",
       "    <tr>\n",
       "      <th>3</th>\n",
       "      <td>3607</td>\n",
       "      <td>Jeep</td>\n",
       "      <td>Yes</td>\n",
       "      <td>Hybrid</td>\n",
       "      <td>2.5</td>\n",
       "      <td>4.0</td>\n",
       "      <td>Automatic</td>\n",
       "      <td>4WD</td>\n",
       "      <td>Left wheel</td>\n",
       "      <td>0</td>\n",
       "      <td>168966</td>\n",
       "      <td>12</td>\n",
       "      <td>Normal</td>\n",
       "      <td>-0.078116</td>\n",
       "      <td>42.598612</td>\n",
       "      <td>-0.243195</td>\n",
       "      <td>-0.030349</td>\n",
       "      <td>12.037459</td>\n",
       "      <td>2.564949</td>\n",
       "    </tr>\n",
       "    <tr>\n",
       "      <th>4</th>\n",
       "      <td>11726</td>\n",
       "      <td>Hatchback</td>\n",
       "      <td>Yes</td>\n",
       "      <td>Petrol</td>\n",
       "      <td>1.3</td>\n",
       "      <td>4.0</td>\n",
       "      <td>Automatic</td>\n",
       "      <td>Front</td>\n",
       "      <td>Left wheel</td>\n",
       "      <td>4</td>\n",
       "      <td>91901</td>\n",
       "      <td>9</td>\n",
       "      <td>Normal</td>\n",
       "      <td>-0.036102</td>\n",
       "      <td>64.424042</td>\n",
       "      <td>-0.243195</td>\n",
       "      <td>-0.031845</td>\n",
       "      <td>11.428478</td>\n",
       "      <td>2.302585</td>\n",
       "    </tr>\n",
       "  </tbody>\n",
       "</table>\n",
       "</div>"
      ],
      "text/plain": [
       "   Price   Category Leather interior Fuel type  Engine volume  Cylinders  \\\n",
       "0  13328       Jeep              Yes    Hybrid            3.5        6.0   \n",
       "1  16621       Jeep               No    Petrol            3.0        6.0   \n",
       "2   8467  Hatchback               No    Petrol            1.3        4.0   \n",
       "3   3607       Jeep              Yes    Hybrid            2.5        4.0   \n",
       "4  11726  Hatchback              Yes    Petrol            1.3        4.0   \n",
       "\n",
       "  Gear box type Drive wheels             Wheel  Airbags  mileage_in_km  age  \\\n",
       "0     Automatic          4WD        Left wheel       12         186005   13   \n",
       "1     Tiptronic          4WD        Left wheel        8         192000   12   \n",
       "2      Variator        Front  Right-hand drive        2         200000   17   \n",
       "3     Automatic          4WD        Left wheel        0         168966   12   \n",
       "4     Automatic        Front        Left wheel        4          91901    9   \n",
       "\n",
       "  Engine Type  zscore_price  price_boxcox  Cylinders_boxcox  zscore_ml  \\\n",
       "0      Normal     -0.027812     67.350101         -0.243195  -0.030018   \n",
       "1      Normal     -0.010771     72.696524         -0.243195  -0.029901   \n",
       "2      Normal     -0.052966     57.519971         -0.243195  -0.029746   \n",
       "3      Normal     -0.078116     42.598612         -0.243195  -0.030349   \n",
       "4      Normal     -0.036102     64.424042         -0.243195  -0.031845   \n",
       "\n",
       "    mile_log   age_log  \n",
       "0  12.133534  2.639057  \n",
       "1  12.165256  2.564949  \n",
       "2  12.206078  2.890372  \n",
       "3  12.037459  2.564949  \n",
       "4  11.428478  2.302585  "
      ]
     },
     "execution_count": 666,
     "metadata": {},
     "output_type": "execute_result"
    }
   ],
   "source": [
    "df9=df8.drop(non_numerical,axis=\"columns\")\n",
    "df9.head()"
   ]
  },
  {
   "cell_type": "code",
   "execution_count": 647,
   "id": "7f18fb07",
   "metadata": {},
   "outputs": [
    {
     "data": {
      "text/plain": [
       "Index(['Price', 'Leather interior', 'Fuel type', 'Engine volume', 'Cylinders',\n",
       "       'Gear box type', 'Drive wheels', 'Wheel', 'Airbags', 'mileage_in_km',\n",
       "       'age', 'zscore_price', 'price_boxcox', 'Cylinders_boxcox', 'zscore_ml',\n",
       "       'mile_log', 'age_log'],\n",
       "      dtype='object')"
      ]
     },
     "execution_count": 647,
     "metadata": {},
     "output_type": "execute_result"
    }
   ],
   "source": [
    "df9.columns"
   ]
  },
  {
   "cell_type": "code",
   "execution_count": 675,
   "id": "19dbf598",
   "metadata": {},
   "outputs": [],
   "source": [
    "columns_to_drop=['Cylinders','Engine volume','Fuel type','Drive wheels','Drive wheels','zscore_ml','zscore_price',\"Leather interior\",\"Gear box type\", 'price_boxcox',\"Cylinders_boxcox\",'mile_log', 'age_log', 'Wheel',\"Category\",\"Engine Type\",\"Airbags\"]"
   ]
  },
  {
   "cell_type": "code",
   "execution_count": 676,
   "id": "f37774ca",
   "metadata": {},
   "outputs": [
    {
     "data": {
      "text/html": [
       "<div>\n",
       "<style scoped>\n",
       "    .dataframe tbody tr th:only-of-type {\n",
       "        vertical-align: middle;\n",
       "    }\n",
       "\n",
       "    .dataframe tbody tr th {\n",
       "        vertical-align: top;\n",
       "    }\n",
       "\n",
       "    .dataframe thead th {\n",
       "        text-align: right;\n",
       "    }\n",
       "</style>\n",
       "<table border=\"1\" class=\"dataframe\">\n",
       "  <thead>\n",
       "    <tr style=\"text-align: right;\">\n",
       "      <th></th>\n",
       "      <th>Price</th>\n",
       "      <th>mileage_in_km</th>\n",
       "      <th>age</th>\n",
       "    </tr>\n",
       "  </thead>\n",
       "  <tbody>\n",
       "    <tr>\n",
       "      <th>0</th>\n",
       "      <td>13328</td>\n",
       "      <td>186005</td>\n",
       "      <td>13</td>\n",
       "    </tr>\n",
       "    <tr>\n",
       "      <th>1</th>\n",
       "      <td>16621</td>\n",
       "      <td>192000</td>\n",
       "      <td>12</td>\n",
       "    </tr>\n",
       "    <tr>\n",
       "      <th>2</th>\n",
       "      <td>8467</td>\n",
       "      <td>200000</td>\n",
       "      <td>17</td>\n",
       "    </tr>\n",
       "    <tr>\n",
       "      <th>3</th>\n",
       "      <td>3607</td>\n",
       "      <td>168966</td>\n",
       "      <td>12</td>\n",
       "    </tr>\n",
       "    <tr>\n",
       "      <th>4</th>\n",
       "      <td>11726</td>\n",
       "      <td>91901</td>\n",
       "      <td>9</td>\n",
       "    </tr>\n",
       "  </tbody>\n",
       "</table>\n",
       "</div>"
      ],
      "text/plain": [
       "   Price  mileage_in_km  age\n",
       "0  13328         186005   13\n",
       "1  16621         192000   12\n",
       "2   8467         200000   17\n",
       "3   3607         168966   12\n",
       "4  11726          91901    9"
      ]
     },
     "execution_count": 676,
     "metadata": {},
     "output_type": "execute_result"
    }
   ],
   "source": [
    "df10=df9.drop(columns=columns_to_drop)\n",
    "df10.head()"
   ]
  },
  {
   "cell_type": "code",
   "execution_count": 677,
   "id": "8531ebf9",
   "metadata": {},
   "outputs": [
    {
     "data": {
      "text/html": [
       "<div>\n",
       "<style scoped>\n",
       "    .dataframe tbody tr th:only-of-type {\n",
       "        vertical-align: middle;\n",
       "    }\n",
       "\n",
       "    .dataframe tbody tr th {\n",
       "        vertical-align: top;\n",
       "    }\n",
       "\n",
       "    .dataframe thead th {\n",
       "        text-align: right;\n",
       "    }\n",
       "</style>\n",
       "<table border=\"1\" class=\"dataframe\">\n",
       "  <thead>\n",
       "    <tr style=\"text-align: right;\">\n",
       "      <th></th>\n",
       "      <th>Price</th>\n",
       "      <th>mileage_in_km</th>\n",
       "      <th>age</th>\n",
       "      <th>Manufacturer_AUDI</th>\n",
       "      <th>Manufacturer_BMW</th>\n",
       "      <th>Manufacturer_BUICK</th>\n",
       "      <th>Manufacturer_CADILLAC</th>\n",
       "      <th>Manufacturer_CHEVROLET</th>\n",
       "      <th>Manufacturer_CHRYSLER</th>\n",
       "      <th>Manufacturer_DAEWOO</th>\n",
       "      <th>...</th>\n",
       "      <th>Manufacturer_PORSCHE</th>\n",
       "      <th>Manufacturer_RENAULT</th>\n",
       "      <th>Manufacturer_SKODA</th>\n",
       "      <th>Manufacturer_SSANGYONG</th>\n",
       "      <th>Manufacturer_SUBARU</th>\n",
       "      <th>Manufacturer_SUZUKI</th>\n",
       "      <th>Manufacturer_TOYOTA</th>\n",
       "      <th>Manufacturer_VAZ</th>\n",
       "      <th>Manufacturer_VOLKSWAGEN</th>\n",
       "      <th>Manufacturer_VOLVO</th>\n",
       "    </tr>\n",
       "  </thead>\n",
       "  <tbody>\n",
       "    <tr>\n",
       "      <th>0</th>\n",
       "      <td>13328</td>\n",
       "      <td>186005</td>\n",
       "      <td>13</td>\n",
       "      <td>0</td>\n",
       "      <td>0</td>\n",
       "      <td>0</td>\n",
       "      <td>0</td>\n",
       "      <td>0</td>\n",
       "      <td>0</td>\n",
       "      <td>0</td>\n",
       "      <td>...</td>\n",
       "      <td>0</td>\n",
       "      <td>0</td>\n",
       "      <td>0</td>\n",
       "      <td>0</td>\n",
       "      <td>0</td>\n",
       "      <td>0</td>\n",
       "      <td>0</td>\n",
       "      <td>0</td>\n",
       "      <td>0</td>\n",
       "      <td>0</td>\n",
       "    </tr>\n",
       "    <tr>\n",
       "      <th>1</th>\n",
       "      <td>16621</td>\n",
       "      <td>192000</td>\n",
       "      <td>12</td>\n",
       "      <td>0</td>\n",
       "      <td>0</td>\n",
       "      <td>0</td>\n",
       "      <td>0</td>\n",
       "      <td>1</td>\n",
       "      <td>0</td>\n",
       "      <td>0</td>\n",
       "      <td>...</td>\n",
       "      <td>0</td>\n",
       "      <td>0</td>\n",
       "      <td>0</td>\n",
       "      <td>0</td>\n",
       "      <td>0</td>\n",
       "      <td>0</td>\n",
       "      <td>0</td>\n",
       "      <td>0</td>\n",
       "      <td>0</td>\n",
       "      <td>0</td>\n",
       "    </tr>\n",
       "    <tr>\n",
       "      <th>2</th>\n",
       "      <td>8467</td>\n",
       "      <td>200000</td>\n",
       "      <td>17</td>\n",
       "      <td>0</td>\n",
       "      <td>0</td>\n",
       "      <td>0</td>\n",
       "      <td>0</td>\n",
       "      <td>0</td>\n",
       "      <td>0</td>\n",
       "      <td>0</td>\n",
       "      <td>...</td>\n",
       "      <td>0</td>\n",
       "      <td>0</td>\n",
       "      <td>0</td>\n",
       "      <td>0</td>\n",
       "      <td>0</td>\n",
       "      <td>0</td>\n",
       "      <td>0</td>\n",
       "      <td>0</td>\n",
       "      <td>0</td>\n",
       "      <td>0</td>\n",
       "    </tr>\n",
       "    <tr>\n",
       "      <th>3</th>\n",
       "      <td>3607</td>\n",
       "      <td>168966</td>\n",
       "      <td>12</td>\n",
       "      <td>0</td>\n",
       "      <td>0</td>\n",
       "      <td>0</td>\n",
       "      <td>0</td>\n",
       "      <td>0</td>\n",
       "      <td>0</td>\n",
       "      <td>0</td>\n",
       "      <td>...</td>\n",
       "      <td>0</td>\n",
       "      <td>0</td>\n",
       "      <td>0</td>\n",
       "      <td>0</td>\n",
       "      <td>0</td>\n",
       "      <td>0</td>\n",
       "      <td>0</td>\n",
       "      <td>0</td>\n",
       "      <td>0</td>\n",
       "      <td>0</td>\n",
       "    </tr>\n",
       "    <tr>\n",
       "      <th>4</th>\n",
       "      <td>11726</td>\n",
       "      <td>91901</td>\n",
       "      <td>9</td>\n",
       "      <td>0</td>\n",
       "      <td>0</td>\n",
       "      <td>0</td>\n",
       "      <td>0</td>\n",
       "      <td>0</td>\n",
       "      <td>0</td>\n",
       "      <td>0</td>\n",
       "      <td>...</td>\n",
       "      <td>0</td>\n",
       "      <td>0</td>\n",
       "      <td>0</td>\n",
       "      <td>0</td>\n",
       "      <td>0</td>\n",
       "      <td>0</td>\n",
       "      <td>0</td>\n",
       "      <td>0</td>\n",
       "      <td>0</td>\n",
       "      <td>0</td>\n",
       "    </tr>\n",
       "  </tbody>\n",
       "</table>\n",
       "<p>5 rows × 41 columns</p>\n",
       "</div>"
      ],
      "text/plain": [
       "   Price  mileage_in_km  age  Manufacturer_AUDI  Manufacturer_BMW  \\\n",
       "0  13328         186005   13                  0                 0   \n",
       "1  16621         192000   12                  0                 0   \n",
       "2   8467         200000   17                  0                 0   \n",
       "3   3607         168966   12                  0                 0   \n",
       "4  11726          91901    9                  0                 0   \n",
       "\n",
       "   Manufacturer_BUICK  Manufacturer_CADILLAC  Manufacturer_CHEVROLET  \\\n",
       "0                   0                      0                       0   \n",
       "1                   0                      0                       1   \n",
       "2                   0                      0                       0   \n",
       "3                   0                      0                       0   \n",
       "4                   0                      0                       0   \n",
       "\n",
       "   Manufacturer_CHRYSLER  Manufacturer_DAEWOO  ...  Manufacturer_PORSCHE  \\\n",
       "0                      0                    0  ...                     0   \n",
       "1                      0                    0  ...                     0   \n",
       "2                      0                    0  ...                     0   \n",
       "3                      0                    0  ...                     0   \n",
       "4                      0                    0  ...                     0   \n",
       "\n",
       "   Manufacturer_RENAULT  Manufacturer_SKODA  Manufacturer_SSANGYONG  \\\n",
       "0                     0                   0                       0   \n",
       "1                     0                   0                       0   \n",
       "2                     0                   0                       0   \n",
       "3                     0                   0                       0   \n",
       "4                     0                   0                       0   \n",
       "\n",
       "   Manufacturer_SUBARU  Manufacturer_SUZUKI  Manufacturer_TOYOTA  \\\n",
       "0                    0                    0                    0   \n",
       "1                    0                    0                    0   \n",
       "2                    0                    0                    0   \n",
       "3                    0                    0                    0   \n",
       "4                    0                    0                    0   \n",
       "\n",
       "   Manufacturer_VAZ  Manufacturer_VOLKSWAGEN  Manufacturer_VOLVO  \n",
       "0                 0                        0                   0  \n",
       "1                 0                        0                   0  \n",
       "2                 0                        0                   0  \n",
       "3                 0                        0                   0  \n",
       "4                 0                        0                   0  \n",
       "\n",
       "[5 rows x 41 columns]"
      ]
     },
     "execution_count": 677,
     "metadata": {},
     "output_type": "execute_result"
    }
   ],
   "source": [
    "df11=pd.concat([df10,dummies],axis=\"columns\")\n",
    "df11.head()"
   ]
  },
  {
   "cell_type": "code",
   "execution_count": 678,
   "id": "01f33cd4",
   "metadata": {},
   "outputs": [],
   "source": [
    "from sklearn.model_selection import GridSearchCV, ShuffleSplit\n",
    "from sklearn.linear_model import LinearRegression, Lasso, Ridge\n",
    "from sklearn.tree import DecisionTreeRegressor\n",
    "from sklearn.preprocessing import MinMaxScaler\n",
    "import pandas as pd\n",
    "\n",
    "def finding_the_best_model(x, y):\n",
    "    algos = {\n",
    "        \"linear regression\": {\n",
    "            \"model\": LinearRegression(),\n",
    "            \"params\": {\n",
    "                \"fit_intercept\": [True, False],\n",
    "                \"copy_X\": [True, False]\n",
    "            }\n",
    "        },\n",
    "        \"lasso\": {\n",
    "            \"model\": Lasso(),\n",
    "            \"params\": {\n",
    "                \"alpha\": [1, 2, 100],\n",
    "                \"selection\": [\"random\", \"cyclic\"],\n",
    "                \"max_iter\": [1000]  \n",
    "            }\n",
    "        },\n",
    "        \"decision tree\": {\n",
    "            \"model\": DecisionTreeRegressor(criterion='squared_error'),  # Corrected 'criterion' parameter\n",
    "            \"params\": {\n",
    "                \"splitter\": [\"best\", \"random\"]\n",
    "            }\n",
    "        },\n",
    "        \"ridge\": {\n",
    "            \"model\": Ridge(),\n",
    "            \"params\": {\n",
    "                \"alpha\": [0.1, 1, 10, 100]\n",
    "            }\n",
    "        }\n",
    "    }\n",
    "    \n",
    "    scores = []\n",
    "    cv = ShuffleSplit(n_splits=5, test_size=0.2, random_state=0)\n",
    "    \n",
    "    for algo_name, config in algos.items():\n",
    "        gs = GridSearchCV(config['model'], config['params'], cv=cv, return_train_score=False)\n",
    "        gs.fit(x, y)\n",
    "        \n",
    "        scores.append({\n",
    "            \"model\": algo_name,\n",
    "            \"best_score\": gs.best_score_,\n",
    "            \"best_params\": gs.best_params_\n",
    "        })\n",
    "    \n",
    "    return pd.DataFrame(scores, columns=[\"model\", \"best_score\", \"best_params\"])\n"
   ]
  },
  {
   "cell_type": "code",
   "execution_count": 679,
   "id": "231969aa",
   "metadata": {},
   "outputs": [],
   "source": [
    "x=df11.drop(\"Price\",axis=\"columns\")\n",
    "y=df11.Price"
   ]
  },
  {
   "cell_type": "code",
   "execution_count": 695,
   "id": "e61ef0ec",
   "metadata": {},
   "outputs": [],
   "source": [
    "from sklearn.preprocessing import MinMaxScaler\n",
    "import numpy as np  # Import NumPy for array operations\n",
    "\n",
    "# Initialize the MinMaxScaler\n",
    "scaler = MinMaxScaler()\n",
    "\n",
    "# Scale the features 'x'\n",
    "x_scaled = scaler.fit_transform(x)\n",
    "\n",
    "# Convert the Pandas Series 'y' to a NumPy array and then reshape it\n",
    "y_np = np.array(y).reshape(-1, 1)\n",
    "\n",
    "# Scale the target variable 'y'\n",
    "y_scaled = scaler.fit_transform(y_np)\n",
    "\n",
    "# 'y_scaled' is now a NumPy array with the correct shape\n"
   ]
  },
  {
   "cell_type": "code",
   "execution_count": 696,
   "id": "cc6749c9",
   "metadata": {
    "scrolled": true
   },
   "outputs": [
    {
     "data": {
      "text/html": [
       "<div>\n",
       "<style scoped>\n",
       "    .dataframe tbody tr th:only-of-type {\n",
       "        vertical-align: middle;\n",
       "    }\n",
       "\n",
       "    .dataframe tbody tr th {\n",
       "        vertical-align: top;\n",
       "    }\n",
       "\n",
       "    .dataframe thead th {\n",
       "        text-align: right;\n",
       "    }\n",
       "</style>\n",
       "<table border=\"1\" class=\"dataframe\">\n",
       "  <thead>\n",
       "    <tr style=\"text-align: right;\">\n",
       "      <th></th>\n",
       "      <th>model</th>\n",
       "      <th>best_score</th>\n",
       "      <th>best_params</th>\n",
       "    </tr>\n",
       "  </thead>\n",
       "  <tbody>\n",
       "    <tr>\n",
       "      <th>0</th>\n",
       "      <td>linear regression</td>\n",
       "      <td>0.148454</td>\n",
       "      <td>{'copy_X': True, 'fit_intercept': True}</td>\n",
       "    </tr>\n",
       "    <tr>\n",
       "      <th>1</th>\n",
       "      <td>lasso</td>\n",
       "      <td>-0.000043</td>\n",
       "      <td>{'alpha': 1, 'max_iter': 1000, 'selection': 'r...</td>\n",
       "    </tr>\n",
       "    <tr>\n",
       "      <th>2</th>\n",
       "      <td>decision tree</td>\n",
       "      <td>0.106071</td>\n",
       "      <td>{'splitter': 'random'}</td>\n",
       "    </tr>\n",
       "    <tr>\n",
       "      <th>3</th>\n",
       "      <td>ridge</td>\n",
       "      <td>0.148402</td>\n",
       "      <td>{'alpha': 0.1}</td>\n",
       "    </tr>\n",
       "  </tbody>\n",
       "</table>\n",
       "</div>"
      ],
      "text/plain": [
       "               model  best_score  \\\n",
       "0  linear regression    0.148454   \n",
       "1              lasso   -0.000043   \n",
       "2      decision tree    0.106071   \n",
       "3              ridge    0.148402   \n",
       "\n",
       "                                         best_params  \n",
       "0            {'copy_X': True, 'fit_intercept': True}  \n",
       "1  {'alpha': 1, 'max_iter': 1000, 'selection': 'r...  \n",
       "2                             {'splitter': 'random'}  \n",
       "3                                     {'alpha': 0.1}  "
      ]
     },
     "execution_count": 696,
     "metadata": {},
     "output_type": "execute_result"
    }
   ],
   "source": [
    "finding_the_best_model(x_scaled,y_scaled)"
   ]
  },
  {
   "cell_type": "code",
   "execution_count": 494,
   "id": "0e881f19",
   "metadata": {},
   "outputs": [],
   "source": [
    "lr=LinearRegression()\n",
    "from sklearn.model_selection import train_test_split\n",
    "x_train,x_test,y_train,y_test=train_test_split(x,y,test_size=0.3,random_state=100)"
   ]
  },
  {
   "cell_type": "code",
   "execution_count": 495,
   "id": "cfdfc35d",
   "metadata": {},
   "outputs": [
    {
     "data": {
      "text/plain": [
       "0.2901268259475557"
      ]
     },
     "execution_count": 495,
     "metadata": {},
     "output_type": "execute_result"
    }
   ],
   "source": [
    "lr.fit(x_train,y_train)\n",
    "lr.score(x_test,y_test)"
   ]
  },
  {
   "cell_type": "code",
   "execution_count": null,
   "id": "4180098f",
   "metadata": {},
   "outputs": [],
   "source": []
  },
  {
   "cell_type": "code",
   "execution_count": 510,
   "id": "c5557a87",
   "metadata": {},
   "outputs": [
    {
     "data": {
      "image/png": "[encoded data removed]",
      "text/plain": [
       "<Figure size 640x480 with 1 Axes>"
      ]
     },
     "metadata": {},
     "output_type": "display_data"
    }
   ],
   "source": [
    "plt.hist(df4[\"Price\"])\n",
    "plt.show()"
   ]
  },
  {
   "cell_type": "code",
   "execution_count": 531,
   "id": "d97d5345",
   "metadata": {},
   "outputs": [
    {
     "data": {
      "text/plain": [
       "(627.0, 38894.0)"
      ]
     },
     "execution_count": 531,
     "metadata": {},
     "output_type": "execute_result"
    }
   ],
   "source": []
  },
  {
   "cell_type": "code",
   "execution_count": 532,
   "id": "bfb220a2",
   "metadata": {},
   "outputs": [],
   "source": []
  },
  {
   "cell_type": "code",
   "execution_count": 533,
   "id": "fdd72375",
   "metadata": {},
   "outputs": [
    {
     "data": {
      "text/plain": [
       "((18705, 15), (18702, 16), (14850, 16))"
      ]
     },
     "execution_count": 533,
     "metadata": {},
     "output_type": "execute_result"
    }
   ],
   "source": [
    "df3.shape,df4.shape,dff.shape"
   ]
  },
  {
   "cell_type": "code",
   "execution_count": 534,
   "id": "8687f47b",
   "metadata": {},
   "outputs": [
    {
     "data": {
      "text/plain": [
       "0.5705327242979675"
      ]
     },
     "execution_count": 534,
     "metadata": {},
     "output_type": "execute_result"
    }
   ],
   "source": [
    "dff[\"Price\"].skew()"
   ]
  },
  {
   "cell_type": "code",
   "execution_count": 535,
   "id": "bd0b3c92",
   "metadata": {},
   "outputs": [
    {
     "data": {
      "image/png": "[encoded data removed]",
      "text/plain": [
       "<Figure size 640x480 with 1 Axes>"
      ]
     },
     "metadata": {},
     "output_type": "display_data"
    }
   ],
   "source": [
    "plt.hist(dff[\"Price\"])\n",
    "plt.show()"
   ]
  },
  {
   "cell_type": "code",
   "execution_count": null,
   "id": "5e72f042",
   "metadata": {},
   "outputs": [],
   "source": []
  }
 ],
 "metadata": {
  "kernelspec": {
   "display_name": "Python 3 (ipykernel)",
   "language": "python",
   "name": "python3"
  },
  "language_info": {
   "codemirror_mode": {
    "name": "ipython",
    "version": 3
   },
   "file_extension": ".py",
   "mimetype": "text/x-python",
   "name": "python",
   "nbconvert_exporter": "python",
   "pygments_lexer": "ipython3",
   "version": "3.10.9"
  }
 },
 "nbformat": 4,
 "nbformat_minor": 5
}
