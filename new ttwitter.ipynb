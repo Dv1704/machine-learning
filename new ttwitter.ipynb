{
 "cells": [
  {
   "cell_type": "code",
   "execution_count": 36,
   "id": "15d7334e",
   "metadata": {},
   "outputs": [],
   "source": [
    "from selenium import webdriver\n",
    "from selenium.webdriver.chrome.service import Service\n",
    "from selenium.webdriver.common.by import By\n",
    "from time import sleep\n",
    "import time\n",
    "from selenium.webdriver.common.keys import Keys\n",
    "\n"
   ]
  },
  {
   "cell_type": "code",
   "execution_count": 37,
   "id": "6fbe95a8",
   "metadata": {},
   "outputs": [],
   "source": [
    "s = Service(\"C:/Users/OWNER/Desktop/delenium/chromedriver.exe\")\n",
    "driver = webdriver.Chrome(service=s)\n",
    "driver.get(\"https://twitter.com/home\")\n",
    "time.sleep(20)\n"
   ]
  },
  {
   "cell_type": "code",
   "execution_count": 23,
   "id": "8f825898",
   "metadata": {},
   "outputs": [],
   "source": [
    "username = driver.find_element(By.XPATH,'//input[@name=\"text\"]')\n",
    "username.send_keys(\"victorolanikanju@gmail.com\")\n",
    "time.sleep(10)\n",
    "username.send_keys(Keys.ENTER)\n",
    "time.sleep(10)\n"
   ]
  },
  {
   "cell_type": "code",
   "execution_count": 24,
   "id": "78965af5",
   "metadata": {},
   "outputs": [],
   "source": [
    "password=driver.find_element(By.XPATH,'//input[@name=\"password\"]')\n",
    "time.sleep(5)\n",
    "password.send_keys(\"Olanikanju\")\n",
    "time.sleep(10)\n",
    "password.send_keys(Keys.ENTER)\n",
    "time.sleep(20)"
   ]
  },
  {
   "cell_type": "code",
   "execution_count": 25,
   "id": "fa86de45",
   "metadata": {},
   "outputs": [],
   "source": [
    "\n",
    "search_input = driver.find_element(By.XPATH,'//input[@aria-label=\"Search query\"]')\n",
    "time.sleep(10)\n",
    "search_input.send_keys(\"buhari\")\n",
    "time.sleep(10)\n",
    "search_input.send_keys(Keys.RETURN)\n",
    "time.sleep(5)\n",
    "#driver.find_element(By.LINK_TEXT,\"people\").click()\n",
    "#time.sleep(60)\n"
   ]
  },
  {
   "cell_type": "code",
   "execution_count": 26,
   "id": "469f74c0",
   "metadata": {},
   "outputs": [],
   "source": [
    "driver.find_element(By.XPATH,\"/html/body/div[1]/div/div/div[2]/main/div/div/div/div/div/div[1]/div[1]/div[2]/nav/div/div[2]/div/div[3]/a/div/div/span\").click()\n",
    "time.sleep(60)\n"
   ]
  },
  {
   "cell_type": "code",
   "execution_count": 27,
   "id": "5dabeebc",
   "metadata": {},
   "outputs": [],
   "source": [
    "driver.find_element(By.XPATH,\"/html/body/div[1]/div/div/div[2]/main/div/div/div/div/div/div[3]/section/div/div/div/div/div[1]/div/div/div/div/div[2]/div[1]\").click()"
   ]
  },
  {
   "cell_type": "code",
   "execution_count": 9,
   "id": "c6558356",
   "metadata": {},
   "outputs": [],
   "source": [
    "\n",
    "UserTags=[]\n",
    "TimeStamps=[]\n",
    "Tweets=[]\n",
    "Replys=[]\n",
    "reTweets=[]\n",
    "Likes=[]"
   ]
  },
  {
   "cell_type": "code",
   "execution_count": 12,
   "id": "fa45e562",
   "metadata": {},
   "outputs": [],
   "source": [
    "articles = driver.find_elements(By.XPATH,\"/html/body/div[1]/div/div/div[2]/main/div/div/div/div/div/section/div/div/div/div/div[1]/div/div/article\")"
   ]
  },
  {
   "cell_type": "code",
   "execution_count": 85,
   "id": "3fd6a173",
   "metadata": {},
   "outputs": [],
   "source": []
  },
  {
   "cell_type": "code",
   "execution_count": 38,
   "id": "a8b21312",
   "metadata": {},
   "outputs": [
    {
     "ename": "NoSuchWindowException",
     "evalue": "Message: no such window: target window already closed\nfrom unknown error: web view not found\n  (Session info: chrome=114.0.5735.199)\nStacktrace:\nBacktrace:\n\tGetHandleVerifier [0x00B1A813+48355]\n\t(No symbol) [0x00AAC4B1]\n\t(No symbol) [0x009B5358]\n\t(No symbol) [0x0099D293]\n\t(No symbol) [0x009FE37B]\n\t(No symbol) [0x00A0C473]\n\t(No symbol) [0x009FA536]\n\t(No symbol) [0x009D82DC]\n\t(No symbol) [0x009D93DD]\n\tGetHandleVerifier [0x00D7AABD+2539405]\n\tGetHandleVerifier [0x00DBA78F+2800735]\n\tGetHandleVerifier [0x00DB456C+2775612]\n\tGetHandleVerifier [0x00BA51E0+616112]\n\t(No symbol) [0x00AB5F8C]\n\t(No symbol) [0x00AB2328]\n\t(No symbol) [0x00AB240B]\n\t(No symbol) [0x00AA4FF7]\n\tBaseThreadInitThunk [0x77407D59+25]\n\tRtlInitializeExceptionChain [0x7755B74B+107]\n\tRtlClearBits [0x7755B6CF+191]\n",
     "output_type": "error",
     "traceback": [
      "\u001b[1;31m---------------------------------------------------------------------------\u001b[0m",
      "\u001b[1;31mNoSuchWindowException\u001b[0m                     Traceback (most recent call last)",
      "Cell \u001b[1;32mIn[38], line 1\u001b[0m\n\u001b[1;32m----> 1\u001b[0m articles \u001b[38;5;241m=\u001b[39m \u001b[43mdriver\u001b[49m\u001b[38;5;241;43m.\u001b[39;49m\u001b[43mfind_elements\u001b[49m\u001b[43m(\u001b[49m\u001b[43mBy\u001b[49m\u001b[38;5;241;43m.\u001b[39;49m\u001b[43mXPATH\u001b[49m\u001b[43m,\u001b[49m\u001b[38;5;124;43m\"\u001b[39;49m\u001b[38;5;124;43m//article[@data-testid=\u001b[39;49m\u001b[38;5;124;43m'\u001b[39;49m\u001b[38;5;124;43mtweet\u001b[39;49m\u001b[38;5;124;43m'\u001b[39;49m\u001b[38;5;124;43m]\u001b[39;49m\u001b[38;5;124;43m\"\u001b[39;49m\u001b[43m)\u001b[49m\n\u001b[0;32m      2\u001b[0m \u001b[38;5;28;01mwhile\u001b[39;00m \u001b[38;5;28;01mTrue\u001b[39;00m:\n\u001b[0;32m      3\u001b[0m     \u001b[38;5;28;01mfor\u001b[39;00m article \u001b[38;5;129;01min\u001b[39;00m articles:\n",
      "File \u001b[1;32m~\\anaconda3\\lib\\site-packages\\selenium\\webdriver\\remote\\webdriver.py:1188\u001b[0m, in \u001b[0;36mWebDriver.find_elements\u001b[1;34m(self, by, value)\u001b[0m\n\u001b[0;32m   1184\u001b[0m     value \u001b[38;5;241m=\u001b[39m \u001b[38;5;124m'\u001b[39m\u001b[38;5;124m[name=\u001b[39m\u001b[38;5;124m\"\u001b[39m\u001b[38;5;132;01m%s\u001b[39;00m\u001b[38;5;124m\"\u001b[39m\u001b[38;5;124m]\u001b[39m\u001b[38;5;124m'\u001b[39m \u001b[38;5;241m%\u001b[39m value\n\u001b[0;32m   1186\u001b[0m \u001b[38;5;66;03m# Return empty list if driver returns null\u001b[39;00m\n\u001b[0;32m   1187\u001b[0m \u001b[38;5;66;03m# See https://github.com/SeleniumHQ/selenium/issues/4555\u001b[39;00m\n\u001b[1;32m-> 1188\u001b[0m \u001b[38;5;28;01mreturn\u001b[39;00m \u001b[38;5;28;43mself\u001b[39;49m\u001b[38;5;241;43m.\u001b[39;49m\u001b[43mexecute\u001b[49m\u001b[43m(\u001b[49m\u001b[43mCommand\u001b[49m\u001b[38;5;241;43m.\u001b[39;49m\u001b[43mFIND_ELEMENTS\u001b[49m\u001b[43m,\u001b[49m\u001b[43m \u001b[49m\u001b[43m{\u001b[49m\n\u001b[0;32m   1189\u001b[0m \u001b[43m    \u001b[49m\u001b[38;5;124;43m'\u001b[39;49m\u001b[38;5;124;43musing\u001b[39;49m\u001b[38;5;124;43m'\u001b[39;49m\u001b[43m:\u001b[49m\u001b[43m \u001b[49m\u001b[43mby\u001b[49m\u001b[43m,\u001b[49m\n\u001b[0;32m   1190\u001b[0m \u001b[43m    \u001b[49m\u001b[38;5;124;43m'\u001b[39;49m\u001b[38;5;124;43mvalue\u001b[39;49m\u001b[38;5;124;43m'\u001b[39;49m\u001b[43m:\u001b[49m\u001b[43m \u001b[49m\u001b[43mvalue\u001b[49m\u001b[43m}\u001b[49m\u001b[43m)\u001b[49m[\u001b[38;5;124m'\u001b[39m\u001b[38;5;124mvalue\u001b[39m\u001b[38;5;124m'\u001b[39m] \u001b[38;5;129;01mor\u001b[39;00m []\n",
      "File \u001b[1;32m~\\anaconda3\\lib\\site-packages\\selenium\\webdriver\\remote\\webdriver.py:400\u001b[0m, in \u001b[0;36mWebDriver.execute\u001b[1;34m(self, driver_command, params)\u001b[0m\n\u001b[0;32m    398\u001b[0m response \u001b[38;5;241m=\u001b[39m \u001b[38;5;28mself\u001b[39m\u001b[38;5;241m.\u001b[39mcommand_executor\u001b[38;5;241m.\u001b[39mexecute(driver_command, params)\n\u001b[0;32m    399\u001b[0m \u001b[38;5;28;01mif\u001b[39;00m response:\n\u001b[1;32m--> 400\u001b[0m     \u001b[38;5;28;43mself\u001b[39;49m\u001b[38;5;241;43m.\u001b[39;49m\u001b[43merror_handler\u001b[49m\u001b[38;5;241;43m.\u001b[39;49m\u001b[43mcheck_response\u001b[49m\u001b[43m(\u001b[49m\u001b[43mresponse\u001b[49m\u001b[43m)\u001b[49m\n\u001b[0;32m    401\u001b[0m     response[\u001b[38;5;124m'\u001b[39m\u001b[38;5;124mvalue\u001b[39m\u001b[38;5;124m'\u001b[39m] \u001b[38;5;241m=\u001b[39m \u001b[38;5;28mself\u001b[39m\u001b[38;5;241m.\u001b[39m_unwrap_value(\n\u001b[0;32m    402\u001b[0m         response\u001b[38;5;241m.\u001b[39mget(\u001b[38;5;124m'\u001b[39m\u001b[38;5;124mvalue\u001b[39m\u001b[38;5;124m'\u001b[39m, \u001b[38;5;28;01mNone\u001b[39;00m))\n\u001b[0;32m    403\u001b[0m     \u001b[38;5;28;01mreturn\u001b[39;00m response\n",
      "File \u001b[1;32m~\\anaconda3\\lib\\site-packages\\selenium\\webdriver\\remote\\errorhandler.py:236\u001b[0m, in \u001b[0;36mErrorHandler.check_response\u001b[1;34m(self, response)\u001b[0m\n\u001b[0;32m    234\u001b[0m         alert_text \u001b[38;5;241m=\u001b[39m value[\u001b[38;5;124m'\u001b[39m\u001b[38;5;124malert\u001b[39m\u001b[38;5;124m'\u001b[39m]\u001b[38;5;241m.\u001b[39mget(\u001b[38;5;124m'\u001b[39m\u001b[38;5;124mtext\u001b[39m\u001b[38;5;124m'\u001b[39m)\n\u001b[0;32m    235\u001b[0m     \u001b[38;5;28;01mraise\u001b[39;00m exception_class(message, screen, stacktrace, alert_text)\n\u001b[1;32m--> 236\u001b[0m \u001b[38;5;28;01mraise\u001b[39;00m exception_class(message, screen, stacktrace)\n",
      "\u001b[1;31mNoSuchWindowException\u001b[0m: Message: no such window: target window already closed\nfrom unknown error: web view not found\n  (Session info: chrome=114.0.5735.199)\nStacktrace:\nBacktrace:\n\tGetHandleVerifier [0x00B1A813+48355]\n\t(No symbol) [0x00AAC4B1]\n\t(No symbol) [0x009B5358]\n\t(No symbol) [0x0099D293]\n\t(No symbol) [0x009FE37B]\n\t(No symbol) [0x00A0C473]\n\t(No symbol) [0x009FA536]\n\t(No symbol) [0x009D82DC]\n\t(No symbol) [0x009D93DD]\n\tGetHandleVerifier [0x00D7AABD+2539405]\n\tGetHandleVerifier [0x00DBA78F+2800735]\n\tGetHandleVerifier [0x00DB456C+2775612]\n\tGetHandleVerifier [0x00BA51E0+616112]\n\t(No symbol) [0x00AB5F8C]\n\t(No symbol) [0x00AB2328]\n\t(No symbol) [0x00AB240B]\n\t(No symbol) [0x00AA4FF7]\n\tBaseThreadInitThunk [0x77407D59+25]\n\tRtlInitializeExceptionChain [0x7755B74B+107]\n\tRtlClearBits [0x7755B6CF+191]\n"
     ]
    }
   ],
   "source": [
    "\n",
    "\n",
    "articles = driver.find_elements(By.XPATH,\"//article[@data-testid='tweet']\")\n",
    "while True:\n",
    "    for article in articles:\n",
    "        UserTag = driver.find_element(By.XPATH,\"/html/body/div[1]/div/div/div[2]/main/div/div/div/div/div/div[3]/div/div/section/div/div/div/div/div[1]/div/div/article/div/div/div[2]/div[2]/div[1]/div/div[1]/div/div/div[1]/div/a/div/div[1]/span/span\").text\n",
    "        UserTags.append(UserTag)\n",
    "        \n",
    "        TimeStamp = driver.find_element(By.XPATH,\".//time\").get_attribute('datetime')\n",
    "        TimeStamps.append(TimeStamp)\n",
    "        \n",
    "        Tweet = driver.find_element(By.XPATH,\".//div[@data-testid='tweetText']\").text\n",
    "        Tweets.append(Tweet)\n",
    "        \n",
    "        Reply = driver.find_element(By.XPATH,\".//div[@data-testid='reply']\").text\n",
    "        Replys.append(Reply)\n",
    "        \n",
    "        reTweet = driver.find_element(By.XPATH,\".//div[@data-testid='retweet']\").text\n",
    "        reTweets.append(reTweet)\n",
    "        \n",
    "        Like = driver.find_element(By.XPATH,\".//div[@data-testid='like']\").text\n",
    "        Likes.append(Like)\n",
    "    height=driver.execute_script(\"return document.body.scrollHeight\")\n",
    "    print(height)\n",
    "    driver.execute_script(\"window.scrollTo(0,document.body.scrollHeight)\")\n",
    "    time.sleep(10)\n",
    "    new_height=driver.execute_script(\"return document.body.scrollHeight\")\n",
    "    print(new_height)\n",
    "    if height==new_height:\n",
    "        break;\n",
    "   \n"
   ]
  },
  {
   "cell_type": "code",
   "execution_count": 33,
   "id": "77ad7784",
   "metadata": {},
   "outputs": [
    {
     "name": "stdout",
     "output_type": "stream",
     "text": [
      "['2023-01-27T07:54:14.000Z', '2023-01-27T07:54:14.000Z', '2023-01-27T07:54:14.000Z', '2023-01-27T07:54:14.000Z', '2023-01-27T07:54:14.000Z', '2023-01-27T07:54:14.000Z', '2023-01-27T07:54:14.000Z', '2023-01-27T07:54:14.000Z', '2023-01-27T07:54:14.000Z', '2023-01-27T07:54:14.000Z', '2023-01-27T07:54:14.000Z', '2023-01-27T07:54:14.000Z', '2023-01-27T07:54:14.000Z', '2023-01-27T07:54:14.000Z', '2023-01-27T07:54:14.000Z', '2023-01-27T07:54:14.000Z', '2023-01-27T07:54:14.000Z', '2023-01-27T07:54:14.000Z', '2023-01-27T07:54:14.000Z', '2023-01-27T07:54:14.000Z', '2023-01-27T07:54:14.000Z', '2023-01-27T07:54:14.000Z', '2023-01-27T07:54:14.000Z', '2023-01-27T07:54:14.000Z', '2023-01-27T07:54:14.000Z', '2023-01-27T07:54:14.000Z', '2023-01-27T07:54:14.000Z', '2023-01-27T07:54:14.000Z', '2023-01-27T07:54:14.000Z', '2023-01-27T07:54:14.000Z', '2023-01-27T07:54:14.000Z', '2023-01-27T07:54:14.000Z', '2023-01-27T07:54:14.000Z', '2023-01-27T07:54:14.000Z', '2023-01-27T07:54:14.000Z', '2023-01-27T07:54:14.000Z', '2023-01-27T07:54:14.000Z', '2023-01-27T07:54:14.000Z', '2023-01-27T07:54:14.000Z', '2023-01-27T07:54:14.000Z', '2023-01-27T07:54:14.000Z', '2023-01-27T07:54:14.000Z', '2023-01-27T07:54:14.000Z', '2023-01-27T07:54:14.000Z', '2023-01-27T07:54:14.000Z', '2023-01-27T07:54:14.000Z', '2023-01-27T07:54:14.000Z', '2023-01-27T07:54:14.000Z', '2023-01-27T07:54:14.000Z', '2023-01-27T07:54:14.000Z', '2023-01-27T07:54:14.000Z', '2023-01-27T07:54:14.000Z', '2023-01-27T07:54:14.000Z', '2023-01-27T07:54:14.000Z', '2023-01-27T07:54:14.000Z', '2023-01-27T07:54:14.000Z', '2023-01-27T07:54:14.000Z', '2023-01-27T07:54:14.000Z', '2023-01-27T07:54:14.000Z', '2023-01-27T07:54:14.000Z', '2023-01-27T07:54:14.000Z', '2023-01-27T07:54:14.000Z', '2023-01-27T07:54:14.000Z', '2023-01-27T07:54:14.000Z', '2023-01-27T07:54:14.000Z', '2023-01-27T07:54:14.000Z', '2023-01-27T07:54:14.000Z', '2023-01-27T07:54:14.000Z', '2023-01-27T07:54:14.000Z', '2023-01-27T07:54:14.000Z', '2023-01-27T07:54:14.000Z', '2023-01-27T07:54:14.000Z', '2023-01-27T07:54:14.000Z', '2023-01-27T07:54:14.000Z', '2022-12-31T04:26:04.000Z', '2023-01-27T07:54:14.000Z', '2023-01-27T07:54:14.000Z', '2023-01-27T07:54:14.000Z', '2023-01-27T07:54:14.000Z', '2023-01-27T07:54:14.000Z', '2023-01-27T07:54:14.000Z', '2023-01-27T07:54:14.000Z', '2023-01-27T07:54:14.000Z', '2023-01-27T07:54:14.000Z', '2023-01-27T07:54:14.000Z', '2023-01-27T07:54:14.000Z', '2023-01-27T07:54:14.000Z', '2023-01-27T07:54:14.000Z', '2019-02-27T16:37:27.000Z', '2019-02-27T16:37:27.000Z', '2019-02-27T16:37:27.000Z', '2019-02-27T16:37:27.000Z', '2019-02-27T16:37:27.000Z', '2023-05-27T10:47:42.000Z', '2023-05-27T10:47:42.000Z', '2023-05-27T10:47:42.000Z', '2023-05-27T10:47:42.000Z', '2023-05-27T10:47:42.000Z', '2023-05-27T10:47:42.000Z', '2023-05-27T10:47:42.000Z', '2023-05-27T10:47:42.000Z', '2023-05-27T10:47:42.000Z', '2023-05-27T10:47:42.000Z', '2023-05-27T10:47:42.000Z', '2023-05-18T21:43:20.000Z', '2023-05-18T21:43:20.000Z', '2023-05-18T21:43:20.000Z', '2023-05-18T21:43:20.000Z', '2023-05-18T21:43:20.000Z', '2023-05-18T21:43:20.000Z', '2023-05-18T21:43:20.000Z', '2023-05-18T21:43:20.000Z', '2023-05-18T21:43:20.000Z', '2023-05-18T21:43:20.000Z', '2023-05-18T21:43:20.000Z', '2023-05-18T21:43:20.000Z', '2023-05-18T21:43:20.000Z', '2023-05-18T21:43:20.000Z', '2023-05-18T21:43:20.000Z', '2023-05-18T21:43:20.000Z', '2023-05-18T21:43:20.000Z', '2023-04-27T19:53:56.000Z', '2023-04-27T19:53:56.000Z', '2023-04-27T19:53:56.000Z', '2023-04-27T19:53:56.000Z', '2023-04-27T19:53:56.000Z', '2023-04-27T19:53:56.000Z', '2023-04-27T19:53:56.000Z', '2023-04-27T19:53:56.000Z', '2023-04-27T19:53:56.000Z', '2023-04-27T19:53:56.000Z', '2023-04-27T19:53:56.000Z', '2023-04-27T19:53:56.000Z', '2023-04-27T19:53:56.000Z', '2023-04-27T19:53:56.000Z', '2023-04-27T19:53:56.000Z', '2023-04-27T19:53:56.000Z', '2023-04-27T19:53:56.000Z', '2023-04-27T19:53:56.000Z', '2023-03-29T10:37:15.000Z', '2023-03-29T10:37:15.000Z', '2023-03-29T10:37:15.000Z', '2023-03-29T10:37:15.000Z', '2023-03-29T10:37:15.000Z', '2023-03-08T10:12:47.000Z', '2023-03-08T10:12:47.000Z', '2023-03-08T10:12:47.000Z', '2023-03-08T10:12:47.000Z', '2023-03-08T10:12:47.000Z', '2023-03-08T10:12:47.000Z', '2023-03-08T10:12:47.000Z', '2023-03-08T10:12:47.000Z', '2023-03-08T10:12:47.000Z', '2023-03-08T10:12:47.000Z', '2023-03-08T10:12:47.000Z', '2023-03-08T10:12:47.000Z']\n"
     ]
    }
   ],
   "source": [
    "print(TimeStamps)"
   ]
  },
  {
   "cell_type": "code",
   "execution_count": 34,
   "id": "8aaec45a",
   "metadata": {},
   "outputs": [
    {
     "data": {
      "text/plain": [
       "1"
      ]
     },
     "execution_count": 34,
     "metadata": {},
     "output_type": "execute_result"
    }
   ],
   "source": [
    "\n",
    "import pandas as pd\n",
    "\n",
    "df = pd.DataFrame(zip(UserTags,TimeStamps,Tweets,Replys,reTweets,Likes)\n",
    "                  ,columns=['UserTags','TimeStamps','Tweets','Replys','reTweets','Likes'])\n",
    "\n",
    "df.head()\n",
    "\n",
    "df.to_excel(r\"\"C:\\Users\\OWNER\\Documents\\imgagfgffge.p.xlsx\",index=False)\n",
    "\n",
    "import os\n",
    "os.system('start \"excel\" \"D:\\Learnerea\\Tables\\\\tweets_live.xlsx\"')\n"
   ]
  },
  {
   "cell_type": "code",
   "execution_count": 35,
   "id": "4bb71500",
   "metadata": {},
   "outputs": [
    {
     "data": {
      "text/html": [
       "<div>\n",
       "<style scoped>\n",
       "    .dataframe tbody tr th:only-of-type {\n",
       "        vertical-align: middle;\n",
       "    }\n",
       "\n",
       "    .dataframe tbody tr th {\n",
       "        vertical-align: top;\n",
       "    }\n",
       "\n",
       "    .dataframe thead th {\n",
       "        text-align: right;\n",
       "    }\n",
       "</style>\n",
       "<table border=\"1\" class=\"dataframe\">\n",
       "  <thead>\n",
       "    <tr style=\"text-align: right;\">\n",
       "      <th></th>\n",
       "      <th>UserTags</th>\n",
       "      <th>TimeStamps</th>\n",
       "      <th>Tweets</th>\n",
       "      <th>Replys</th>\n",
       "      <th>reTweets</th>\n",
       "      <th>Likes</th>\n",
       "    </tr>\n",
       "  </thead>\n",
       "  <tbody>\n",
       "    <tr>\n",
       "      <th>0</th>\n",
       "      <td>Muhammadu Buhari</td>\n",
       "      <td>2023-01-27T07:54:14.000Z</td>\n",
       "      <td>The hard work to deliver a better Nigeria cont...</td>\n",
       "      <td>24.4K</td>\n",
       "      <td>11.5K</td>\n",
       "      <td>52.3K</td>\n",
       "    </tr>\n",
       "    <tr>\n",
       "      <th>1</th>\n",
       "      <td>Muhammadu Buhari</td>\n",
       "      <td>2023-01-27T07:54:14.000Z</td>\n",
       "      <td>The hard work to deliver a better Nigeria cont...</td>\n",
       "      <td>24.4K</td>\n",
       "      <td>11.5K</td>\n",
       "      <td>52.3K</td>\n",
       "    </tr>\n",
       "    <tr>\n",
       "      <th>2</th>\n",
       "      <td>Muhammadu Buhari</td>\n",
       "      <td>2023-01-27T07:54:14.000Z</td>\n",
       "      <td>The hard work to deliver a better Nigeria cont...</td>\n",
       "      <td>24.4K</td>\n",
       "      <td>11.5K</td>\n",
       "      <td>52.3K</td>\n",
       "    </tr>\n",
       "    <tr>\n",
       "      <th>3</th>\n",
       "      <td>Muhammadu Buhari</td>\n",
       "      <td>2023-01-27T07:54:14.000Z</td>\n",
       "      <td>The hard work to deliver a better Nigeria cont...</td>\n",
       "      <td>24.4K</td>\n",
       "      <td>11.5K</td>\n",
       "      <td>52.3K</td>\n",
       "    </tr>\n",
       "    <tr>\n",
       "      <th>4</th>\n",
       "      <td>Muhammadu Buhari</td>\n",
       "      <td>2023-01-27T07:54:14.000Z</td>\n",
       "      <td>The hard work to deliver a better Nigeria cont...</td>\n",
       "      <td>24.4K</td>\n",
       "      <td>11.5K</td>\n",
       "      <td>52.3K</td>\n",
       "    </tr>\n",
       "  </tbody>\n",
       "</table>\n",
       "</div>"
      ],
      "text/plain": [
       "           UserTags                TimeStamps  \\\n",
       "0  Muhammadu Buhari  2023-01-27T07:54:14.000Z   \n",
       "1  Muhammadu Buhari  2023-01-27T07:54:14.000Z   \n",
       "2  Muhammadu Buhari  2023-01-27T07:54:14.000Z   \n",
       "3  Muhammadu Buhari  2023-01-27T07:54:14.000Z   \n",
       "4  Muhammadu Buhari  2023-01-27T07:54:14.000Z   \n",
       "\n",
       "                                              Tweets Replys reTweets  Likes  \n",
       "0  The hard work to deliver a better Nigeria cont...  24.4K    11.5K  52.3K  \n",
       "1  The hard work to deliver a better Nigeria cont...  24.4K    11.5K  52.3K  \n",
       "2  The hard work to deliver a better Nigeria cont...  24.4K    11.5K  52.3K  \n",
       "3  The hard work to deliver a better Nigeria cont...  24.4K    11.5K  52.3K  \n",
       "4  The hard work to deliver a better Nigeria cont...  24.4K    11.5K  52.3K  "
      ]
     },
     "execution_count": 35,
     "metadata": {},
     "output_type": "execute_result"
    }
   ],
   "source": [
    "df.head()"
   ]
  },
  {
   "cell_type": "code",
   "execution_count": null,
   "id": "be24ffab",
   "metadata": {},
   "outputs": [],
   "source": []
  }
 ],
 "metadata": {
  "kernelspec": {
   "display_name": "Python 3 (ipykernel)",
   "language": "python",
   "name": "python3"
  },
  "language_info": {
   "codemirror_mode": {
    "name": "ipython",
    "version": 3
   },
   "file_extension": ".py",
   "mimetype": "text/x-python",
   "name": "python",
   "nbconvert_exporter": "python",
   "pygments_lexer": "ipython3",
   "version": "3.10.9"
  }
 },
 "nbformat": 4,
 "nbformat_minor": 5
}
