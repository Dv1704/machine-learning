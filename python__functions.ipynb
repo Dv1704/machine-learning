{
 "cells": [
  {
   "cell_type": "code",
   "execution_count": 5,
   "id": "220104ab",
   "metadata": {},
   "outputs": [
    {
     "name": "stdout",
     "output_type": "stream",
     "text": [
      "Enter your name: \n"
     ]
    }
   ],
   "source": [
    "#function 1\n",
    "name=input(\"Enter your name: \")\n",
    "def greet(name):\n",
    "    print(f\"Hello {name} \")"
   ]
  },
  {
   "cell_type": "code",
   "execution_count": 6,
   "id": "1f74f1da",
   "metadata": {},
   "outputs": [
    {
     "name": "stdout",
     "output_type": "stream",
     "text": [
      "Hello  \n"
     ]
    }
   ],
   "source": [
    "greet(name)"
   ]
  },
  {
   "cell_type": "code",
   "execution_count": 7,
   "id": "ad74f1d6",
   "metadata": {},
   "outputs": [],
   "source": [
    "#function 2\n",
    "def sum_numbers(x,y):\n",
    "    return x+y"
   ]
  },
  {
   "cell_type": "code",
   "execution_count": 8,
   "id": "6c9bb634",
   "metadata": {},
   "outputs": [
    {
     "data": {
      "text/plain": [
       "9"
      ]
     },
     "execution_count": 8,
     "metadata": {},
     "output_type": "execute_result"
    }
   ],
   "source": [
    "sum_numbers(5,4)"
   ]
  },
  {
   "cell_type": "code",
   "execution_count": 15,
   "id": "66e05704",
   "metadata": {},
   "outputs": [],
   "source": [
    "def factorial(n):\n",
    "    if n==0:\n",
    "        return 1\n",
    "    else:\n",
    "        return n*factorial(n-1)\n",
    "    "
   ]
  },
  {
   "cell_type": "code",
   "execution_count": 17,
   "id": "0223b75d",
   "metadata": {},
   "outputs": [
    {
     "data": {
      "text/plain": [
       "6"
      ]
     },
     "execution_count": 17,
     "metadata": {},
     "output_type": "execute_result"
    }
   ],
   "source": [
    "factorial(3)"
   ]
  },
  {
   "cell_type": "code",
   "execution_count": 18,
   "id": "dc3f597b",
   "metadata": {},
   "outputs": [],
   "source": [
    "def max_number(x,y,z):\n",
    "    return max(x,y,z)"
   ]
  },
  {
   "cell_type": "code",
   "execution_count": 19,
   "id": "962d5091",
   "metadata": {},
   "outputs": [
    {
     "data": {
      "text/plain": [
       "555"
      ]
     },
     "execution_count": 19,
     "metadata": {},
     "output_type": "execute_result"
    }
   ],
   "source": [
    "max_number(2,3,555)"
   ]
  },
  {
   "cell_type": "code",
   "execution_count": 23,
   "id": "aa597ed7",
   "metadata": {},
   "outputs": [],
   "source": [
    "def even_or_odd(number):\n",
    "    if number % 2==0:\n",
    "        print(\"Even\")\n",
    "    else:\n",
    "        return \"odd\""
   ]
  },
  {
   "cell_type": "code",
   "execution_count": 24,
   "id": "7f7ed5e4",
   "metadata": {},
   "outputs": [
    {
     "data": {
      "text/plain": [
       "'odd'"
      ]
     },
     "execution_count": 24,
     "metadata": {},
     "output_type": "execute_result"
    }
   ],
   "source": [
    "even_or_odd(5)"
   ]
  },
  {
   "cell_type": "code",
   "execution_count": 2,
   "id": "d52f692a",
   "metadata": {},
   "outputs": [],
   "source": [
    "def reversed_str(string):\n",
    "    reversed_str=string[::-1]\n",
    "    return reversed_str\n",
    "\n"
   ]
  },
  {
   "cell_type": "code",
   "execution_count": null,
   "id": "331f2772",
   "metadata": {},
   "outputs": [],
   "source": []
  }
 ],
 "metadata": {
  "kernelspec": {
   "display_name": "Python 3 (ipykernel)",
   "language": "python",
   "name": "python3"
  },
  "language_info": {
   "codemirror_mode": {
    "name": "ipython",
    "version": 3
   },
   "file_extension": ".py",
   "mimetype": "text/x-python",
   "name": "python",
   "nbconvert_exporter": "python",
   "pygments_lexer": "ipython3",
   "version": "3.10.9"
  }
 },
 "nbformat": 4,
 "nbformat_minor": 5
}
